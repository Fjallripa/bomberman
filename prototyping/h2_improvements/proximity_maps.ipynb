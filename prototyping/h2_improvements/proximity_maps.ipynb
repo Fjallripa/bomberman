{
 "cells": [
  {
   "cell_type": "code",
   "execution_count": 795,
   "metadata": {},
   "outputs": [],
   "source": [
    "import numpy as np\n",
    "import matplotlib.pyplot as plt"
   ]
  },
  {
   "cell_type": "code",
   "execution_count": 796,
   "metadata": {},
   "outputs": [
    {
     "data": {
      "text/plain": [
       "\" state to features \\nown_position      = game_state['self'][3]\\ncrate_map         = game_state['field']\\ncan_place_bomb    = game_state['self'][2]\\ncollectable_coins = game_state['coins']\\nbombs             = game_state['bombs']\\nexplosion_map     = game_state['explosion_map']\\nfoes              = game_state['others']\\n\\nneighbors = own_position + DIRECTIONS\\n\""
      ]
     },
     "execution_count": 796,
     "metadata": {},
     "output_type": "execute_result"
    }
   ],
   "source": [
    "## Game constants\n",
    "ACTIONS              = ['UP', 'RIGHT', 'DOWN', 'LEFT', 'WAIT', 'BOMB']\n",
    "DIRECTIONS           = np.array([(0, -1), (1, 0), (0, 1), (-1, 0)])   # UP, RIGHT, DOWN, LEFT\n",
    "DEFAULT_DISTANCE     = 1000\n",
    "BOMB_COOLDOWN_TIME   = 7\n",
    "COLS = ROWS          = 17\n",
    "BLAST                = np.array([-3, -2, -1, 1, 2, 3])\n",
    "MAX_WAITING_TIME     = 2\n",
    "\n",
    "## Calculate constant BOMB_MASK one time\n",
    "BOMB_MASK = np.full((COLS, ROWS, COLS, ROWS), False)\n",
    "\n",
    "x_inside = lambda x: x > 0 and x < COLS-1\n",
    "y_inside = lambda y: y > 0 and y < ROWS-1\n",
    "\n",
    "for x in range(1, COLS-1):\n",
    "        for y in range(1, ROWS-1):\n",
    "            if (x % 2 == 1 or y % 2 == 1):\n",
    "                explosion_spots = [(x, y)]\n",
    "                if x % 2 == 1:\n",
    "                    explosion_spots += [(x, y + b) for b in BLAST  if y_inside(y + b)]\n",
    "                if y % 2 == 1:\n",
    "                    explosion_spots += [(x + b, y) for b in BLAST  if x_inside(x + b)]\n",
    "                \n",
    "                explosion_spots = tuple(np.array(explosion_spots).T)\n",
    "                BOMB_MASK[(x, y)][explosion_spots] \\\n",
    "                                = True\n",
    "\n",
    "''' state to features \n",
    "own_position      = game_state['self'][3]\n",
    "crate_map         = game_state['field']\n",
    "can_place_bomb    = game_state['self'][2]\n",
    "collectable_coins = game_state['coins']\n",
    "bombs             = game_state['bombs']\n",
    "explosion_map     = game_state['explosion_map']\n",
    "foes              = game_state['others']\n",
    "\n",
    "neighbors = own_position + DIRECTIONS\n",
    "'''\n"
   ]
  },
  {
   "cell_type": "code",
   "execution_count": 797,
   "metadata": {},
   "outputs": [],
   "source": [
    "def create_mask(positions, shape = (ROWS, COLS)):\n",
    "    array = np.zeros_like(shape)\n",
    "    indices = tuple(np.array(positions).T)\n",
    "    array[indices] = True\n",
    "    return(array)\n",
    "\n",
    "def build_free_spacetime_map(own_position, game_field, explosion_map, bombs, foe_map):\n",
    "    free_spacetime = np.resize(np.logical_and(game_field == 0, foe_map == 0), (7, ROWS, COLS)) # exclude crates, walls and foes\n",
    "    free_spacetime[1][np.nonzero(explosion_map)] = False # exclude present explosions\n",
    "    free_spacetime[0][np.nonzero(explosion_map)] = False\n",
    "\n",
    "    for ((x,y), bomb_timer) in bombs: \n",
    "        steps_until_explosion = bomb_timer + 1\n",
    "        start = 1 if (x,y) == own_position else 0\n",
    "        free_spacetime[start:steps_until_explosion, x, y] = np.zeros(steps_until_explosion - start) # exclude bomb spots as long as bomb is present\n",
    "        '''\n",
    "        if (x,y) == own_position:\n",
    "            free_spacetime[tuple(np.array([(n,x,y) for n in range(1, steps_until_explosion)]).T)] = False # exclude bomb spots as long as bomb is present\n",
    "        else:\n",
    "            free_spacetime[tuple(np.array([(n,x,y) for n in range(steps_until_explosion)]).T)] = False # exclude bomb spots as long as bomb is present\n",
    "        '''\n",
    "        free_spacetime[steps_until_explosion:][np.resize(np.logical_and(BOMB_MASK[(x,y)], np.logical_or(game_field == 1, foe_map)), (7 - steps_until_explosion, ROWS, COLS))] = True # include crates and foes destroyed by explosion \n",
    "        free_spacetime[steps_until_explosion : steps_until_explosion+2][np.resize(BOMB_MASK[(x,y)], (2, ROWS, COLS))] = False # exclude future explosions as long as present\n",
    "\n",
    "    return(free_spacetime)"
   ]
  },
  {
   "cell_type": "code",
   "execution_count": 798,
   "metadata": {},
   "outputs": [],
   "source": [
    "\n",
    "def proximity_map_old(own_position, game_field, explosion_map, bombs):\n",
    "    \"\"\"\n",
    "    calculates three values for each tile of the game field:\n",
    "    1. travel time aka. distance from own position\n",
    "    2. if tile is reachable from own position or blocked\n",
    "    3. in which directions one can initially go to reach that tile as quick as possible\n",
    "\n",
    "    Arguments\n",
    "    ---------\n",
    "    own_position : tuple (x, y)\n",
    "        with x and y being current coordinates coordinates of the agent \n",
    "        on the game field. Thus 0 < x < COLS-1, 0 < y < ROWS-1.\n",
    "    game_field   : np.array, shape = (COLS, ROWS)\n",
    "        = game_state['field']\n",
    "\n",
    "    Returns\n",
    "    -------\n",
    "    travel_time_map         : np.array, shape like game_field, dtype = int\n",
    "        Reachable tiles have the value of the number of steps it takes to move to them \n",
    "        from own_position.\n",
    "        Unreachable tiles have the value of DEFAULT_TRAVEL_TIME which is much higher than \n",
    "        any reachable time.\n",
    "    reachable_map           : np.array, shape like game_field, dtype = bool\n",
    "        A boolean mask of travel_time_map that labels reachable tiles as True and \n",
    "        unreachable ones as False.\n",
    "    original_directions_map : np.array, shape = (COLS, ROWS, 4), dtype = bool\n",
    "        A map of the game_field that holds a 4-element boolean array for every tile.\n",
    "        Values of the tile's array correspond to the 4 directions UP, RIGHT, DOWN, LEFT \n",
    "        which you might from own_position to reach the tile. Those direction which lead you \n",
    "        to reach the tile the fastest are marked True, the others False.\n",
    "        For example, if you can reach a tile the fastest by either going UP or RIGHT at the step\n",
    "        then its array will look like this [TRUE, TRUE, FALSE, FALSE].\n",
    "        This map will be important to quickly find the best direction towards coins, crates,\n",
    "        opponents and more.\n",
    "    \"\"\"\n",
    "\n",
    "    # Setup of initial values\n",
    "    free_spacetime_map = build_free_spacetime_map(own_position, game_field, explosion_map, bombs)\n",
    "    distance_time_map  = np.full((ROWS, COLS), DEFAULT_DISTANCE)\n",
    "    direction_map = np.full((ROWS, COLS, 5), False) # UP, RIGHT, DOWN, LEFT, WAIT\n",
    "\n",
    "    distance_time_map[own_position] = 0\n",
    "    direction_map[own_position][4] = True\n",
    "    for i, dir in enumerate(DIRECTIONS):\n",
    "        neighbor = tuple(dir + np.array(own_position)) \n",
    "        direction_map[neighbor][i] = free_spacetime_map[1][neighbor] # If neighbor is a free field in next step\n",
    "    \n",
    "\n",
    "    # Breadth first search for proximity values to all reachable spots\n",
    "    frontier = [own_position]\n",
    "    while len(frontier) > 0:\n",
    "        current = frontier.pop(0)\n",
    "        \n",
    "        waiting_time_until_explosion = np.argmin(free_spacetime_map[:, current[0], current[1]])\n",
    "        maximal_waiting_time = min(MAX_WAITING_TIME, waiting_time_until_explosion)\n",
    "\n",
    "        for waiting_time in range(maximal_waiting_time+1):\n",
    "            \n",
    "            for dir in DIRECTIONS:\n",
    "                neighbor = tuple(dir + np.array(current))\n",
    "    \n",
    "                # Update travel time to `neighbor` field\n",
    "                time = distance_time_map[current] + waiting_time + 1\n",
    "                if free_spacetime_map[min(time, 6)][neighbor]:\n",
    "                    if distance_time_map[neighbor] > time:\n",
    "                        distance_time_map[neighbor] = time\n",
    "                        frontier.append(neighbor)\n",
    "                    \n",
    "                        # Update original direction for `neighbor` field\n",
    "                        if time > 1:\n",
    "                            direction_map[neighbor] = direction_map[current]\n",
    "                        \n",
    "                    # Combine orginial directions if travel times are equal\n",
    "                    elif distance_time_map[neighbor] == time:\n",
    "                        direction_map[neighbor] = np.logical_or(direction_map[neighbor], direction_map[current])\n",
    "            \n",
    "\n",
    "    # Derivation of reachability_map\n",
    "    reachability_map = distance_time_map != DEFAULT_DISTANCE\n",
    "    return distance_time_map, reachability_map, direction_map\n",
    "\n",
    "\n",
    "def proximity_map(own_position, game_field, explosion_map, bombs, foe_map):\n",
    "    \"\"\"\n",
    "    calculates three values for each tile of the game field:\n",
    "    1. travel time aka. distance from own position\n",
    "    2. if tile is reachable from own position or blocked\n",
    "    3. in which directions one can initially go to reach that tile as quick as possible\n",
    "\n",
    "    Arguments\n",
    "    ---------\n",
    "    own_position : tuple (x, y)\n",
    "        with x and y being current coordinates coordinates of the agent \n",
    "        on the game field. Thus 0 < x < COLS-1, 0 < y < ROWS-1.\n",
    "    game_field   : np.array, shape = (COLS, ROWS)\n",
    "        = game_state['field']\n",
    "\n",
    "    Returns\n",
    "    -------\n",
    "    travel_time_map         : np.array, shape like game_field, dtype = int\n",
    "        Reachable tiles have the value of the number of steps it takes to move to them \n",
    "        from own_position.\n",
    "        Unreachable tiles have the value of DEFAULT_TRAVEL_TIME which is much higher than \n",
    "        any reachable time.\n",
    "    reachable_map           : np.array, shape like game_field, dtype = bool\n",
    "        A boolean mask of travel_time_map that labels reachable tiles as True and \n",
    "        unreachable ones as False.\n",
    "    original_directions_map : np.array, shape = (COLS, ROWS, 4), dtype = bool\n",
    "        A map of the game_field that holds a 4-element boolean array for every tile.\n",
    "        Values of the tile's array correspond to the 4 directions UP, RIGHT, DOWN, LEFT \n",
    "        which you might from own_position to reach the tile. Those direction which lead you \n",
    "        to reach the tile the fastest are marked True, the others False.\n",
    "        For example, if you can reach a tile the fastest by either going UP or RIGHT at the step\n",
    "        then its array will look like this [TRUE, TRUE, FALSE, FALSE].\n",
    "        This map will be important to quickly find the best direction towards coins, crates,\n",
    "        opponents and more.\n",
    "    \"\"\"\n",
    "\n",
    "    # Setup of initial values\n",
    "    free_spacetime_map = build_free_spacetime_map(own_position, game_field, explosion_map, bombs, foe_map)\n",
    "    distance_time_map  = np.full((7, ROWS, COLS), DEFAULT_DISTANCE)\n",
    "    direction_map = np.full((7, ROWS, COLS, 5), False) # UP, RIGHT, DOWN, LEFT, WAIT\n",
    "    x_own, y_own = own_position\n",
    "\n",
    "    distance_time_map[0, x_own, y_own] = 0\n",
    "    direction_map[0, x_own, y_own][4] = free_spacetime_map[1, x_own, y_own]\n",
    "    for i, step in enumerate([(0, -1), (1, 0), (0, 1), (-1, 0)]):\n",
    "        x_next, y_next = np.array(step) + np.array(own_position)\n",
    "        direction_map[1, x_next, y_next, i] = free_spacetime_map[1, x_next, y_next] # If neighbor is a free field in next step\n",
    "\n",
    "    # Breadth first search for proximity values to all reachable spots\n",
    "    frontier = [(0, x_own, y_own)]\n",
    "    while len(frontier) > 0:\n",
    "        t_current, x_current, y_current = frontier.pop(0)\n",
    "\n",
    "        if not np.any(explosion_map) and bombs == []:\n",
    "            waiting_time_limit = 1\n",
    "        else: \n",
    "            currents_future = free_spacetime_map[min(t_current, 6):, x_current, y_current]\n",
    "            waiting_time_limit = MAX_WAITING_TIME + 1 if np.all(currents_future) else min(MAX_WAITING_TIME + 1, np.argmin(currents_future))\n",
    "\n",
    "        for waiting_time in range(waiting_time_limit):\n",
    "            t_neighbor = t_current + waiting_time + 1\n",
    "\n",
    "            for dir in [(0, -1), (1, 0), (0, 1), (-1, 0)]:\n",
    "                x_neighbor, y_neighbor = np.array(dir) + np.array([x_current, y_current])\n",
    "                neighbor = (min(t_neighbor, 6), x_neighbor, y_neighbor)\n",
    "                \n",
    "                # Update travel time to `neighbor` field\n",
    "                if free_spacetime_map[neighbor]:\n",
    "                    if distance_time_map[neighbor] > t_neighbor:\n",
    "                        distance_time_map[neighbor] = t_neighbor\n",
    "                        frontier.append((t_neighbor, x_neighbor, y_neighbor))\n",
    "                    \n",
    "                        # Update original direction for `neighbor` field\n",
    "                        if t_neighbor > 1:\n",
    "                            direction_map[neighbor] = direction_map[min(t_current, 6), x_current, y_current]\n",
    "                            # print(f\"1: {current}, {neighbor}\")\n",
    "                        \n",
    "                    # Combine orginial directions if travel times are equal\n",
    "                    elif distance_time_map[neighbor] == t_neighbor:\n",
    "                        direction_map[neighbor] = np.logical_or(direction_map[neighbor], direction_map[min(t_current, 6), x_current, y_current])\n",
    "                        # print(f\"2: {current}, {neighbor}\")\n",
    "\n",
    "    shortest_distance_map = np.amin(distance_time_map, axis = 0)\n",
    "    direction_map = np.take_along_axis(direction_map, np.argmin(distance_time_map, axis = 0).reshape(1, COLS, ROWS, 1), axis = 0).reshape(ROWS, COLS, 5)\n",
    "\n",
    "    # Derivation of reachability_map\n",
    "    reachability_map = shortest_distance_map != DEFAULT_DISTANCE\n",
    "\n",
    "    return shortest_distance_map, reachability_map, direction_map"
   ]
  },
  {
   "cell_type": "code",
   "execution_count": 799,
   "metadata": {},
   "outputs": [],
   "source": [
    "def proximity_no_waiting(own_position, game_field, explosion_map, bombs):\n",
    "    \"\"\"\n",
    "    calculates three values for each tile of the game field:\n",
    "    1. travel time aka. distance from own position\n",
    "    2. if tile is reachable from own position or blocked\n",
    "    3. in which directions one can initially go to reach that tile as quick as possible\n",
    "\n",
    "    Arguments\n",
    "    ---------\n",
    "    own_position : tuple (x, y)\n",
    "        with x and y being current coordinates coordinates of the agent \n",
    "        on the game field. Thus 0 < x < COLS-1, 0 < y < ROWS-1.\n",
    "    game_field   : np.array, shape = (COLS, ROWS)\n",
    "        = game_state['field']\n",
    "\n",
    "    Returns\n",
    "    -------\n",
    "    travel_time_map         : np.array, shape like game_field, dtype = int\n",
    "        Reachable tiles have the value of the number of steps it takes to move to them \n",
    "        from own_position.\n",
    "        Unreachable tiles have the value of DEFAULT_TRAVEL_TIME which is much higher than \n",
    "        any reachable time.\n",
    "    reachable_map           : np.array, shape like game_field, dtype = bool\n",
    "        A boolean mask of travel_time_map that labels reachable tiles as True and \n",
    "        unreachable ones as False.\n",
    "    original_directions_map : np.array, shape = (COLS, ROWS, 4), dtype = bool\n",
    "        A map of the game_field that holds a 4-element boolean array for every tile.\n",
    "        Values of the tile's array correspond to the 4 directions UP, RIGHT, DOWN, LEFT \n",
    "        which you might from own_position to reach the tile. Those direction which lead you \n",
    "        to reach the tile the fastest are marked True, the others False.\n",
    "        For example, if you can reach a tile the fastest by either going UP or RIGHT at the step\n",
    "        then its array will look like this [TRUE, TRUE, FALSE, FALSE].\n",
    "        This map will be important to quickly find the best direction towards coins, crates,\n",
    "        opponents and more.\n",
    "    \"\"\"\n",
    "\n",
    "    # Setup of initial values\n",
    "    free_spacetime_map = build_free_spacetime_map(own_position, game_field, explosion_map, bombs)\n",
    "    distance_time_map  = np.full((ROWS, COLS), DEFAULT_DISTANCE)\n",
    "    direction_map = np.full((ROWS, COLS, 4), False) # UP, RIGHT, DOWN, LEFT, WAIT\n",
    "\n",
    "    distance_time_map[own_position] = 0\n",
    "    for i, dir in enumerate(DIRECTIONS):\n",
    "        neighbor = tuple(dir + np.array(own_position)) \n",
    "        direction_map[neighbor][i] = free_spacetime_map[1][neighbor] # If neighbor is a free field in next step\n",
    "\n",
    "    # Breadth first search for proximity values to all reachable spots\n",
    "    frontier = [own_position]\n",
    "    while len(frontier) > 0:\n",
    "        current = frontier.pop(0)\n",
    "        for dir in DIRECTIONS:\n",
    "            neighbor = tuple(dir + np.array(current))\n",
    "    \n",
    "            # Update travel time to `neighbor` field\n",
    "            time = distance_time_map[current] + 1\n",
    "            if free_spacetime_map[min(time, 6)][neighbor]:\n",
    "                if distance_time_map[neighbor] > time:\n",
    "                    distance_time_map[neighbor] = time\n",
    "                    frontier.append(neighbor)\n",
    "                    \n",
    "                    # Update original direction for `neighbor` field\n",
    "                    if time > 1:\n",
    "                        direction_map[neighbor] = direction_map[current]\n",
    "                        \n",
    "                # Combine orginial directions if travel times are equal\n",
    "                elif distance_time_map[neighbor] == time:\n",
    "                    direction_map[neighbor] = np.logical_or(direction_map[neighbor], direction_map[current])\n",
    "            \n",
    "    # Derivation of reachability_map\n",
    "    reachability_map = distance_time_map != DEFAULT_DISTANCE\n",
    "    return distance_time_map, reachability_map, direction_map"
   ]
  },
  {
   "cell_type": "markdown",
   "metadata": {},
   "source": [
    "# Test"
   ]
  },
  {
   "cell_type": "code",
   "execution_count": 800,
   "metadata": {},
   "outputs": [],
   "source": [
    "# Test crate maps\n",
    "\n",
    "empty_game_field = np.array(\n",
    "    [[-1, -1, -1, -1, -1, -1, -1, -1, -1, -1, -1, -1, -1, -1, -1, -1, -1],\n",
    "     [-1,  0,  0,  0,  0,  0,  0,  0,  0,  0,  0,  0,  0,  0,  0,  0, -1],\n",
    "     [-1,  0, -1,  0, -1,  0, -1,  0, -1,  0, -1,  0, -1,  0, -1,  0, -1],\n",
    "     [-1,  0,  0,  0,  0,  0,  0,  0,  0,  0,  0,  0,  0,  0,  0,  0, -1],\n",
    "     [-1,  0, -1,  0, -1,  0, -1,  0, -1,  0, -1,  0, -1,  0, -1,  0, -1],\n",
    "     [-1,  0,  0,  0,  0,  0,  0,  0,  0,  0,  0,  0,  0,  0,  0,  0, -1],\n",
    "     [-1,  0, -1,  0, -1,  0, -1,  0, -1,  0, -1,  0, -1,  0, -1,  0, -1],\n",
    "     [-1,  0,  0,  0,  0,  0,  0,  0,  0,  0,  0,  0,  0,  0,  0,  0, -1],\n",
    "     [-1,  0, -1,  0, -1,  0, -1,  0, -1,  0, -1,  0, -1,  0, -1,  0, -1],\n",
    "     [-1,  0,  0,  0,  0,  0,  0,  0,  0,  0,  0,  0,  0,  0,  0,  0, -1],\n",
    "     [-1,  0, -1,  0, -1,  0, -1,  0, -1,  0, -1,  0, -1,  0, -1,  0, -1],\n",
    "     [-1,  0,  0,  0,  0,  0,  0,  0,  0,  0,  0,  0,  0,  0,  0,  0, -1],\n",
    "     [-1,  0, -1,  0, -1,  0, -1,  0, -1,  0, -1,  0, -1,  0, -1,  0, -1],\n",
    "     [-1,  0,  0,  0,  0,  0,  0,  0,  0,  0,  0,  0,  0,  0,  0,  0, -1],\n",
    "     [-1,  0, -1,  0, -1,  0, -1,  0, -1,  0, -1,  0, -1,  0, -1,  0, -1],\n",
    "     [-1,  0,  0,  0,  0,  0,  0,  0,  0,  0,  0,  0,  0,  0,  0,  0, -1],\n",
    "     [-1, -1, -1, -1, -1, -1, -1, -1, -1, -1, -1, -1, -1, -1, -1, -1, -1]]\n",
    ")\n",
    "\n",
    "\n",
    "halffull_game_field = np.array(\n",
    "    [[-1, -1, -1, -1, -1, -1, -1, -1, -1, -1, -1, -1, -1, -1, -1, -1, -1],\n",
    "     [-1,  0,  0,  1,  1,  1,  0,  1,  1,  1,  1,  0,  1,  0,  0,  0, -1],\n",
    "     [-1,  0, -1,  1, -1,  1, -1,  1, -1,  1, -1,  1, -1,  0, -1,  0, -1],\n",
    "     [-1,  1,  0,  1,  0,  1,  1,  0,  0,  1,  1,  1,  0,  1,  1,  1, -1],\n",
    "     [-1,  1, -1,  1, -1,  1, -1,  1, -1,  0, -1,  0, -1,  1, -1,  1, -1],\n",
    "     [-1,  1,  0,  1,  0,  0,  0,  1,  1,  1,  0,  0,  1,  0,  1,  1, -1],\n",
    "     [-1,  0, -1,  0, -1,  0, -1,  1, -1,  1, -1,  1, -1,  1, -1,  1, -1],\n",
    "     [-1,  0,  0,  1,  1,  0,  1,  1,  0,  1,  1,  1,  0,  1,  1,  1, -1],\n",
    "     [-1,  1, -1,  1, -1,  0, -1,  0, -1,  0, -1,  0, -1,  1, -1,  0, -1],\n",
    "     [-1,  1,  0,  0,  0,  0,  0,  0,  0,  1,  1,  1,  0,  0,  0,  0, -1],\n",
    "     [-1,  1, -1,  0, -1,  0, -1,  0, -1,  1, -1,  1, -1,  1, -1,  1, -1],\n",
    "     [-1,  0,  0,  0,  0,  0,  0,  0,  0,  1,  0,  1,  1,  1,  0,  1, -1],\n",
    "     [-1,  1, -1,  1, -1,  0, -1,  0, -1,  1, -1,  1, -1,  1, -1,  1, -1],\n",
    "     [-1,  1,  0,  0,  0,  0,  0,  0,  0,  0,  0,  1,  1,  1,  1,  1, -1],\n",
    "     [-1,  0, -1,  1, -1,  0, -1,  0, -1,  1, -1,  1, -1,  1, -1,  0, -1],\n",
    "     [-1,  0,  0,  0,  0,  0,  0,  0,  0,  1,  1,  1,  1,  1,  0,  0, -1],\n",
    "     [-1, -1, -1, -1, -1, -1, -1, -1, -1, -1, -1, -1, -1, -1, -1, -1, -1]]\n",
    ")\n",
    "\n",
    "packed_game_field = np.array(\n",
    "    [[-1, -1, -1, -1, -1, -1, -1, -1, -1, -1, -1, -1, -1, -1, -1, -1, -1],\n",
    "     [-1,  0,  0,  1,  1,  1,  1,  1,  1,  1,  1,  1,  1,  0,  0,  0, -1],\n",
    "     [-1,  0, -1,  1, -1,  1, -1,  1, -1,  1, -1,  0, -1,  1, -1,  0, -1],\n",
    "     [-1,  1,  1,  0,  1,  1,  1,  1,  1,  1,  1,  1,  1,  1,  0,  1, -1],\n",
    "     [-1,  1, -1,  1, -1,  0, -1,  1, -1,  1, -1,  1, -1,  1, -1,  1, -1],\n",
    "     [-1,  1,  1,  1,  1,  1,  0,  1,  0,  1,  0,  1,  0,  0,  1,  0, -1],\n",
    "     [-1,  1, -1,  0, -1,  1, -1,  1, -1,  1, -1,  1, -1,  0, -1,  0, -1],\n",
    "     [-1,  0,  1,  1,  1,  1,  1,  1,  1,  0,  1,  1,  1,  1,  1,  1, -1],\n",
    "     [-1,  1, -1,  1, -1,  1, -1,  1, -1,  1, -1,  1, -1,  0, -1,  1, -1],\n",
    "     [-1,  1,  1,  0,  1,  1,  0,  0,  0,  1,  1,  1,  1,  1,  1,  1, -1],\n",
    "     [-1,  1, -1,  1, -1,  1, -1,  0, -1,  1, -1,  1, -1,  1, -1,  0, -1],\n",
    "     [-1,  1,  1,  1,  1,  1,  1,  1,  1,  1,  1,  1,  1,  0,  1,  0, -1],\n",
    "     [-1,  1, -1,  0, -1,  1, -1,  0, -1,  1, -1,  1, -1,  1, -1,  1, -1],\n",
    "     [-1,  0,  1,  1,  1,  1,  1,  1,  0,  1,  1,  1,  0,  1,  1,  0, -1],\n",
    "     [-1,  0, -1,  1, -1,  0, -1,  0, -1,  0, -1,  0, -1,  1, -1,  0, -1],\n",
    "     [-1,  0,  0,  1,  1,  1,  1,  1,  1,  1,  0,  1,  1,  1,  0,  0, -1],\n",
    "     [-1, -1, -1, -1, -1, -1, -1, -1, -1, -1, -1, -1, -1, -1, -1, -1, -1]]\n",
    ")\n",
    "\n",
    "# Test positions\n",
    "positions_empty_field    = [(11, 5), (9, 7), (7, 5), (13, 9), (9, 9), (5, 7), (5, 8), (11, 7)]\n",
    "positions_halffull_field = [(11, 5), (13, 7), (15, 4), (13, 2), (7, 5), (13, 8), (14, 1)]\n",
    "positions_packed_field   = [(15, 1), (1, 1)]\n",
    "\n",
    "# Test bomb placements\n",
    "bombs_none = []\n",
    "bombs_some = [((11, 5), 4), ((1, 1), 2), ((7, 6), 0), ((5, 11), 1)]\n",
    "bombs_many = [((11, 5), 4), ((1, 1), 2), ((7, 6), 0), ((5, 11), 1), ((5, 7), 2), ((7, 13), 3), ((15, 12), 0)]\n",
    "\n",
    "# Test Explosions positions\n",
    "explosion_map = np.zeros((17,17), dtype = np.int8)\n",
    "foe_map = np.zeros((17,17), dtype = np.int8)"
   ]
  },
  {
   "cell_type": "markdown",
   "metadata": {},
   "source": [
    "## Test spacetime"
   ]
  },
  {
   "cell_type": "code",
   "execution_count": 801,
   "metadata": {},
   "outputs": [
    {
     "data": {
      "text/plain": [
       "<matplotlib.colorbar.Colorbar at 0x7fa9b934fb20>"
      ]
     },
     "execution_count": 801,
     "metadata": {},
     "output_type": "execute_result"
    },
    {
     "data": {
      "image/png": "[encoded data removed]",
      "text/plain": [
       "<Figure size 432x288 with 2 Axes>"
      ]
     },
     "metadata": {
      "needs_background": "light"
     },
     "output_type": "display_data"
    }
   ],
   "source": [
    "game_field = packed_game_field\n",
    "own_position = (1,1)\n",
    "bombs = [((1,1), 0), ((15,1),3)]\n",
    "explosion_map[(15,15,14), (14,15,15)] = 0\n",
    "foe_map[(2,1)] = 1\n",
    "\n",
    "free_spacetime = build_free_spacetime_map(own_position, game_field, explosion_map, bombs, foe_map)\n",
    "plt.imshow(free_spacetime[4])\n",
    "plt.colorbar()"
   ]
  },
  {
   "cell_type": "markdown",
   "metadata": {},
   "source": [
    "## Test Proximity maps"
   ]
  },
  {
   "cell_type": "code",
   "execution_count": 802,
   "metadata": {},
   "outputs": [],
   "source": [
    "def show_proximity_results (results):\n",
    "    # Unpack maps\n",
    "    travel_time_map, reachable_map, original_directions_map = results\n",
    "\n",
    "    plt.figure(figsize=(24, 6))\n",
    "\n",
    "    # Show travel time map\n",
    "    plt.subplot(1, 3, 1)\n",
    "    adapted_travel_time_map = np.where(travel_time_map == DEFAULT_DISTANCE, \n",
    "        np.full_like(travel_time_map, -1), travel_time_map\n",
    "    )\n",
    "    plt.imshow(adapted_travel_time_map.T, vmax=28, vmin=-1)\n",
    "    plt.colorbar()\n",
    "    plt.title(\"Travel times\")\n",
    "\n",
    "    # Show map of reachable area\n",
    "    plt.subplot(1, 3, 2)\n",
    "    plt.imshow(reachable_map.T)\n",
    "    plt.colorbar()\n",
    "    plt.title(\"Reachable area\")\n",
    "    \n",
    "    # Show map of amount of original directions\n",
    "    plt.subplot(1, 3, 3)\n",
    "    number_of_ori_dirs_map = np.count_nonzero(original_directions_map, axis = 2)\n",
    "    plt.imshow(number_of_ori_dirs_map.T, vmin=0, vmax=5)\n",
    "    plt.colorbar()\n",
    "    plt.title(\"Number of original directions\")\n",
    "\n",
    "    plt.show()\n"
   ]
  },
  {
   "cell_type": "code",
   "execution_count": 803,
   "metadata": {},
   "outputs": [
    {
     "data": {
      "image/png": "[encoded data removed]",
      "text/plain": [
       "<Figure size 1728x432 with 6 Axes>"
      ]
     },
     "metadata": {
      "needs_background": "light"
     },
     "output_type": "display_data"
    },
    {
     "name": "stdout",
     "output_type": "stream",
     "text": [
      "[False False False  True False]\n",
      "1.8 ms ± 33.4 µs per loop (mean ± std. dev. of 7 runs, 1000 loops each)\n"
     ]
    },
    {
     "data": {
      "text/plain": [
       "0"
      ]
     },
     "execution_count": 803,
     "metadata": {},
     "output_type": "execute_result"
    }
   ],
   "source": [
    "bombs = [((15,2), 0)]\n",
    "explosion_map[(15,15,14), (14,15,15)] = 0\n",
    "foe_map[(1,2)] = 0\n",
    "travel_time_map, reachable_map, directions_map = proximity_map((15, 1), packed_game_field, explosion_map, bombs, foe_map)\n",
    "proximity_maps = travel_time_map, reachable_map, directions_map\n",
    "show_proximity_results(proximity_maps)\n",
    "print(directions_map[(15,2)])\n",
    "\n",
    "%timeit proximity_map((15, 1), packed_game_field, explosion_map, bombs, foe_map)\n",
    "\n",
    "packed_game_field[(14,5)]"
   ]
  },
  {
   "cell_type": "code",
   "execution_count": 804,
   "metadata": {},
   "outputs": [
    {
     "name": "stdout",
     "output_type": "stream",
     "text": [
      "6.52 ms ± 182 µs per loop (mean ± std. dev. of 7 runs, 100 loops each)\n"
     ]
    }
   ],
   "source": [
    "bombs = [((13,4), 0), ((8,5), 1)]\n",
    "explosion_map[(11, 5)] = 0\n",
    "travel_time_map, reachable_map, directions_map = proximity_map((12, 5), halffull_game_field, explosion_map, bombs, foe_map)\n",
    "proximity_maps = travel_time_map, reachable_map, directions_map\n",
    "# show_proximity_results(proximity_maps)\n",
    "\n",
    "# directions_map[(13,5)]\n",
    "# travel_time_map[(10,5)]\n",
    "\n",
    "%timeit proximity_map((12, 5), halffull_game_field, explosion_map, bombs, foe_map)\n"
   ]
  },
  {
   "cell_type": "code",
   "execution_count": 805,
   "metadata": {},
   "outputs": [
    {
     "data": {
      "image/png": "[encoded data removed]",
      "text/plain": [
       "<Figure size 1728x432 with 6 Axes>"
      ]
     },
     "metadata": {
      "needs_background": "light"
     },
     "output_type": "display_data"
    },
    {
     "name": "stdout",
     "output_type": "stream",
     "text": [
      "9.27 ms ± 216 µs per loop (mean ± std. dev. of 7 runs, 100 loops each)\n",
      "29.9 µs ± 832 ns per loop (mean ± std. dev. of 7 runs, 10000 loops each)\n"
     ]
    }
   ],
   "source": [
    "bombs = [] # [((13,4), 0)]\n",
    "explosion_map[(11, 5)] = 0\n",
    "travel_time_map, reachable_map, directions_map = proximity_map((11, 5), empty_game_field, explosion_map, bombs, foe_map)\n",
    "proximity_maps = travel_time_map, reachable_map, directions_map\n",
    "show_proximity_results(proximity_maps)\n",
    "\n",
    "# directions_map[(13,6)]\n",
    "# travel_time_map[(13,6)]\n",
    "\n",
    "%timeit proximity_map((11, 5), empty_game_field, explosion_map, bombs, foe_map)\n",
    "\n",
    "%timeit build_free_spacetime_map(own_position, game_field, explosion_map, bombs, foe_map)"
   ]
  },
  {
   "cell_type": "code",
   "execution_count": 806,
   "metadata": {},
   "outputs": [
    {
     "data": {
      "text/plain": [
       "array([1, 2, 3])"
      ]
     },
     "execution_count": 806,
     "metadata": {},
     "output_type": "execute_result"
    }
   ],
   "source": [
    "A = np.array([1,2,3])\n",
    "A[0:]\n",
    "\n"
   ]
  },
  {
   "cell_type": "code",
   "execution_count": null,
   "metadata": {},
   "outputs": [],
   "source": []
  }
 ],
 "metadata": {
  "interpreter": {
   "hash": "17aace748a9cc8378c622f6f1d592201a73ecda8be6cfae24c482d6910a71c1d"
  },
  "kernelspec": {
   "display_name": "Python 3.10.0 ('ml_homewrok')",
   "language": "python",
   "name": "python3"
  },
  "language_info": {
   "codemirror_mode": {
    "name": "ipython",
    "version": 3
   },
   "file_extension": ".py",
   "mimetype": "text/x-python",
   "name": "python",
   "nbconvert_exporter": "python",
   "pygments_lexer": "ipython3",
   "version": "3.10.0"
  },
  "orig_nbformat": 4
 },
 "nbformat": 4,
 "nbformat_minor": 2
}
