{
 "cells": [
  {
   "cell_type": "code",
   "execution_count": 1,
   "metadata": {},
   "outputs": [],
   "source": [
    "import numpy as np"
   ]
  },
  {
   "cell_type": "code",
   "execution_count": 2,
   "metadata": {},
   "outputs": [],
   "source": [
    "# Other constants - DON'T CHANGE UNLESS JUSTIFIED\n",
    "ACTIONS              = ['UP', 'RIGHT', 'DOWN', 'LEFT', 'WAIT', 'BOMB']\n",
    "DIRECTIONS           = np.array([(0, -1), (1, 0), (0, 1), (-1, 0)])   # UP, RIGHT, DOWN, LEFT\n",
    "DEFAULT_DISTANCE     = 1000\n",
    "BOMB_COOLDOWN_TIME   = 7\n",
    "COLS = ROWS          = 17\n",
    "BLAST                = np.array([-3, -2, -1, 1, 2, 3])"
   ]
  },
  {
   "cell_type": "code",
   "execution_count": null,
   "metadata": {},
   "outputs": [],
   "source": [
    "\n",
    "def proximity_map (own_position, game_field):\n",
    "    \"\"\"\n",
    "    calculates three values for each tile of the game field:\n",
    "    1. travel time aka. distance from own position\n",
    "    2. if tile is reachable from own position or blocked\n",
    "    3. in which directions one can initially go to reach that tile as quick as possible\n",
    "\n",
    "    Arguments\n",
    "    ---------\n",
    "    own_position : tuple (x, y)\n",
    "        with x and y being current coordinates coordinates of the agent \n",
    "        on the game field. Thus 0 < x < COLS-1, 0 < y < ROWS-1.\n",
    "    game_field   : np.array, shape = (COLS, ROWS)\n",
    "        = game_state['field']\n",
    "\n",
    "    Returns\n",
    "    -------\n",
    "    travel_time_map         : np.array, shape like game_field, dtype = int\n",
    "        Reachable tiles have the value of the number of steps it takes to move to them \n",
    "        from own_position.\n",
    "        Unreachable tiles have the value of DEFAULT_TRAVEL_TIME which is much higher than \n",
    "        any reachable time.\n",
    "    reachable_map           : np.array, shape like game_field, dtype = bool\n",
    "        A boolean mask of travel_time_map that labels reachable tiles as True and \n",
    "        unreachable ones as False.\n",
    "    original_directions_map : np.array, shape = (COLS, ROWS, 4), dtype = bool\n",
    "        A map of the game_field that holds a 4-element boolean array for every tile.\n",
    "        Values of the tile's array correspond to the 4 directions UP, RIGHT, DOWN, LEFT \n",
    "        which you might from own_position to reach the tile. Those direction which lead you \n",
    "        to reach the tile the fastest are marked True, the others False.\n",
    "        For example, if you can reach a tile the fastest by either going UP or RIGHT at the step\n",
    "        then its array will look like this [TRUE, TRUE, FALSE, FALSE].\n",
    "        This map will be important to quickly find the best direction towards coins, crates,\n",
    "        opponents and more.\n",
    "    \"\"\"\n",
    "\n",
    "\n",
    "    # Setup of initial values\n",
    "    distance_map  = np.full_like(game_field, DEFAULT_DISTANCE)\n",
    "    direction_map = np.full((*game_field.shape, 4), False)\n",
    "\n",
    "    distance_map[own_position] = 0\n",
    "    for i, dir in enumerate(DIRECTIONS):\n",
    "        neighbor = tuple(dir + np.array(own_position))\n",
    "        if game_field[neighbor] == 0:   # If neighbor is a free field\n",
    "            direction_map[neighbor][i] = True\n",
    "    \n",
    "\n",
    "    # Breadth first search for proximity values to all reachable spots\n",
    "    frontier = [own_position]\n",
    "    while len(frontier) > 0:\n",
    "        current = frontier.pop(0)\n",
    "        \n",
    "        for dir in DIRECTIONS:\n",
    "            neighbor = tuple(dir + np.array(current))\n",
    "            \n",
    "            # Update travel time to `neighbor` field\n",
    "            if game_field[neighbor] == 0:   # If neighbor is a free field\n",
    "                time = distance_map[current] + 1\n",
    "                if distance_map[neighbor] > time:\n",
    "                    distance_map[neighbor] = time\n",
    "                    frontier.append(neighbor)\n",
    "                    \n",
    "                    # Update original direction for `neighbor` field\n",
    "                    if time > 1:\n",
    "                        direction_map[neighbor] = direction_map[current]\n",
    "                        \n",
    "                # Combine orginial directions if travel times are equal\n",
    "                elif distance_map[neighbor] == time:\n",
    "                    direction_map[neighbor] = np.logical_or(\n",
    "                        direction_map[neighbor], direction_map[current])\n",
    "\n",
    "\n",
    "    # Derivation of reachability_map\n",
    "    reachability_map = distance_map != DEFAULT_DISTANCE\n",
    "\n",
    "\n",
    "    return distance_map, reachability_map, direction_map"
   ]
  },
  {
   "cell_type": "code",
   "execution_count": 8,
   "metadata": {},
   "outputs": [
    {
     "data": {
      "text/plain": [
       "True"
      ]
     },
     "execution_count": 8,
     "metadata": {},
     "output_type": "execute_result"
    }
   ],
   "source": [
    "(1,2) not in [(1,0), (1,1)]"
   ]
  },
  {
   "cell_type": "code",
   "execution_count": null,
   "metadata": {},
   "outputs": [],
   "source": []
  }
 ],
 "metadata": {
  "interpreter": {
   "hash": "17aace748a9cc8378c622f6f1d592201a73ecda8be6cfae24c482d6910a71c1d"
  },
  "kernelspec": {
   "display_name": "Python 3.10.0 ('ml_homewrok')",
   "language": "python",
   "name": "python3"
  },
  "language_info": {
   "codemirror_mode": {
    "name": "ipython",
    "version": 3
   },
   "file_extension": ".py",
   "mimetype": "text/x-python",
   "name": "python",
   "nbconvert_exporter": "python",
   "pygments_lexer": "ipython3",
   "version": "3.10.0"
  },
  "orig_nbformat": 4
 },
 "nbformat": 4,
 "nbformat_minor": 2
}
