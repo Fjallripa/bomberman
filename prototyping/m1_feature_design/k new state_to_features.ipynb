{
 "cells": [
  {
   "cell_type": "code",
   "execution_count": 20,
   "metadata": {},
   "outputs": [],
   "source": [
    "import numpy as np\n",
    "import matplotlib.pyplot as plt"
   ]
  },
  {
   "cell_type": "code",
   "execution_count": 21,
   "metadata": {},
   "outputs": [],
   "source": [
    "# Global Constants\n",
    "DIRECTIONS          = np.array([(0, -1), (1, 0), (0, 1), (-1, 0)])   # UP, RIGHT, DOWN, LEFT\n",
    "DEFAULT_TRAVEL_TIME = 99"
   ]
  },
  {
   "cell_type": "code",
   "execution_count": 22,
   "metadata": {},
   "outputs": [],
   "source": [
    "def proximity_map (own_position, game_field):\n",
    "    \"\"\"\n",
    "    calculates three values for each tile of the game field:\n",
    "    1. travel time aka. distance from own position\n",
    "    2. if tile is reachable from own position or blocked\n",
    "    3. in which directions one can initially go to reach that tile as quick as possible\n",
    "\n",
    "    Arguments\n",
    "    ---------\n",
    "    own_position : tuple (x, y)\n",
    "        with x and y being current coordinates coordinates of the agent \n",
    "        on the game field. Thus 0 < x < COLS-1, 0 < y < ROWS-1.\n",
    "    game_field   : np.array, shape = (COLS, ROWS)\n",
    "        = game_state['field']\n",
    "\n",
    "    Returns\n",
    "    -------\n",
    "    travel_time_map         : np.array, shape like game_field, dtype = int\n",
    "        Reachable tiles have the value of the number of steps it takes to move to them \n",
    "        from own_position.\n",
    "        Unreachable tiles have the value of DEFAULT_TRAVEL_TIME which is much higher than \n",
    "        any reachable time.\n",
    "    reachable_map           : np.array, shape like game_field, dtype = bool\n",
    "        A boolean mask of travel_time_map that labels reachable tiles as True and \n",
    "        unreachable ones as False.\n",
    "    original_directions_map : np.array, shape = (COLS, ROWS, 4), dtype = bool\n",
    "        A map of the game_field that holds a 4-element boolean array for every tile.\n",
    "        Values of the tile's array correspond to the 4 directions UP, RIGHT, DOWN, LEFT \n",
    "        which you might from own_position to reach the tile. Those direction which lead you \n",
    "        to reach the tile the fastest are marked True, the others False.\n",
    "        For example, if you can reach a tile the fastest by either going UP or RIGHT at the step\n",
    "        then its array will look like this [TRUE, TRUE, FALSE, FALSE].\n",
    "        This map will be important to quickly find the best direction towards coins, crates,\n",
    "        opponents and more.\n",
    "    \"\"\"\n",
    "\n",
    "\n",
    "    # Setup of initial values\n",
    "    distance_map  = np.full_like(game_field, DEFAULT_TRAVEL_TIME)\n",
    "    direction_map = np.full((*game_field.shape, 4), False)\n",
    "\n",
    "    distance_map[own_position] = 0\n",
    "    for i, dir in enumerate(DIRECTIONS):\n",
    "        neighbor = tuple(dir + np.array(own_position))\n",
    "        if game_field[neighbor] == 0:   # If neighbor is a free field\n",
    "            direction_map[neighbor][i] = True\n",
    "    \n",
    "\n",
    "    # Breadth first search for proximity values to all reachable spots\n",
    "    frontier = [own_position]\n",
    "    while len(frontier) > 0:\n",
    "        current = frontier.pop(0)\n",
    "        \n",
    "        for dir in DIRECTIONS:\n",
    "            neighbor = tuple(dir + np.array(current))\n",
    "            \n",
    "            # Update travel time to `neighbor` field\n",
    "            if game_field[neighbor] == 0:   # If neighbor is a free field\n",
    "                time = distance_map[current] + 1\n",
    "                if distance_map[neighbor] > time:\n",
    "                    distance_map[neighbor] = time\n",
    "                    frontier.append(neighbor)\n",
    "                    \n",
    "                    # Update original direction for `neighbor` field\n",
    "                    if time > 1:\n",
    "                        direction_map[neighbor] = direction_map[current]\n",
    "                        \n",
    "                # Combine orginial directions if travel times are equal\n",
    "                elif distance_map[neighbor] == time:\n",
    "                    direction_map[neighbor] = np.logical_or(\n",
    "                        direction_map[neighbor], direction_map[current])\n",
    "\n",
    "\n",
    "    # Derivation of reachability_map\n",
    "    reachability_map = distance_map != DEFAULT_TRAVEL_TIME\n",
    "\n",
    "\n",
    "    return distance_map, reachability_map, direction_map"
   ]
  },
  {
   "cell_type": "code",
   "execution_count": 23,
   "metadata": {},
   "outputs": [],
   "source": [
    "def state_to_features (game_state):\n",
    "    \"\"\"\n",
    "    \"\"\"\n",
    "    \n",
    "    # 0. relevant game_state info\n",
    "    own_position = game_state['self'][3]\n",
    "    crate_map    = game_state['field']\n",
    "    collectable_coins = game_state['coins']\n",
    "    bombs = game_state['bombs']\n",
    "\n",
    "    # 1. Check game mode\n",
    "\n",
    "    if collectable_coins != []:\n",
    "        f_6 = 0\n",
    "    else:\n",
    "        f_6 = 1\n",
    "    \n",
    "    '''\n",
    "    for Task 3: \n",
    "\n",
    "    compute # coins\n",
    "\n",
    "    elif # coins > 0:\n",
    "        f_6 = 1\n",
    "\n",
    "    elif game_state['others] != [] and # coins = 0:\n",
    "        f_6 = 2\n",
    "    '''\n",
    "\n",
    "    # 2. Calculate proximity map\n",
    "    distance_map, reachability_map, direction_map = proximity_map(own_position, crate_map)\n",
    "\n",
    "    # 3. Check for invalid moves & lethal danger\n",
    "    f_5 = 1\n",
    "    f_1, f_2, f_3, f_4 = [1,1,1,1]\n",
    "\n",
    "    waiting_is_dump = False\n",
    "    bombing_is_dump = False\n",
    "    going_is_dump = [( (not reachability_map[neighbor]) or (game_state['explosion_map'][neighbor] == 2) ) for neighbor in own_position + DIRECTIONS] # check\n",
    "\n",
    "    if own_position in bombs or not game_state['self'][2]: \n",
    "        bombing_is_dump = True\n",
    "    \n",
    "\n",
    "    # 4. Compute goal direction\n",
    "\n",
    "    # 5. Assemble feature array\n",
    "\n",
    "    return [f_1, f_2, f_3, f_4, f_5, f_6]"
   ]
  },
  {
   "cell_type": "code",
   "execution_count": 19,
   "metadata": {},
   "outputs": [
    {
     "name": "stdout",
     "output_type": "stream",
     "text": [
      "[[[False  True]\n",
      "  [False  True]]]\n"
     ]
    }
   ],
   "source": [
    "mask = np.array([[1,0], [0,1]])\n",
    "print(np.logical_not(mask)[n])"
   ]
  },
  {
   "cell_type": "code",
   "execution_count": 31,
   "metadata": {},
   "outputs": [
    {
     "ename": "TypeError",
     "evalue": "'function' object is not subscriptable",
     "output_type": "error",
     "traceback": [
      "\u001b[0;31m---------------------------------------------------------------------------\u001b[0m",
      "\u001b[0;31mTypeError\u001b[0m                                 Traceback (most recent call last)",
      "\u001b[1;32m/Users/kai/Documents/GitHub/bomberman_rl/prototyping/m1_feature_design/k new state_to_features.ipynb Cell 6'\u001b[0m in \u001b[0;36m<cell line: 4>\u001b[0;34m()\u001b[0m\n\u001b[1;32m      <a href='vscode-notebook-cell:/Users/kai/Documents/GitHub/bomberman_rl/prototyping/m1_feature_design/k%20new%20state_to_features.ipynb#ch0000005?line=1'>2</a>\u001b[0m example_game_state \u001b[39m=\u001b[39m np\u001b[39m.\u001b[39mload(\u001b[39mf\u001b[39m\u001b[39m'\u001b[39m\u001b[39m../../agent_code/our_user_agent/logs/game_state\u001b[39m\u001b[39m{\u001b[39;00mx\u001b[39m}\u001b[39;00m\u001b[39m.pkl\u001b[39m\u001b[39m'\u001b[39m, allow_pickle \u001b[39m=\u001b[39m \u001b[39mTrue\u001b[39;00m)\n\u001b[1;32m      <a href='vscode-notebook-cell:/Users/kai/Documents/GitHub/bomberman_rl/prototyping/m1_feature_design/k%20new%20state_to_features.ipynb#ch0000005?line=2'>3</a>\u001b[0m example_game_state\n\u001b[0;32m----> <a href='vscode-notebook-cell:/Users/kai/Documents/GitHub/bomberman_rl/prototyping/m1_feature_design/k%20new%20state_to_features.ipynb#ch0000005?line=3'>4</a>\u001b[0m state_to_features(example_game_state)\n",
      "\u001b[1;32m/Users/kai/Documents/GitHub/bomberman_rl/prototyping/m1_feature_design/k new state_to_features.ipynb Cell 4'\u001b[0m in \u001b[0;36mstate_to_features\u001b[0;34m(game_state)\u001b[0m\n\u001b[1;32m     <a href='vscode-notebook-cell:/Users/kai/Documents/GitHub/bomberman_rl/prototyping/m1_feature_design/k%20new%20state_to_features.ipynb#ch0000003?line=36'>37</a>\u001b[0m waiting_is_dump \u001b[39m=\u001b[39m \u001b[39mFalse\u001b[39;00m\n\u001b[1;32m     <a href='vscode-notebook-cell:/Users/kai/Documents/GitHub/bomberman_rl/prototyping/m1_feature_design/k%20new%20state_to_features.ipynb#ch0000003?line=37'>38</a>\u001b[0m bombing_is_dump \u001b[39m=\u001b[39m \u001b[39mFalse\u001b[39;00m\n\u001b[0;32m---> <a href='vscode-notebook-cell:/Users/kai/Documents/GitHub/bomberman_rl/prototyping/m1_feature_design/k%20new%20state_to_features.ipynb#ch0000003?line=38'>39</a>\u001b[0m going_is_dump \u001b[39m=\u001b[39m [\u001b[39mnot\u001b[39;00m proximity_map[neighbor] \u001b[39mfor\u001b[39;00m neighbor \u001b[39min\u001b[39;00m own_position \u001b[39m+\u001b[39m DIRECTIONS]\n\u001b[1;32m     <a href='vscode-notebook-cell:/Users/kai/Documents/GitHub/bomberman_rl/prototyping/m1_feature_design/k%20new%20state_to_features.ipynb#ch0000003?line=40'>41</a>\u001b[0m \u001b[39mif\u001b[39;00m own_position \u001b[39min\u001b[39;00m bombs \u001b[39mor\u001b[39;00m \u001b[39mnot\u001b[39;00m game_state[\u001b[39m'\u001b[39m\u001b[39mself\u001b[39m\u001b[39m'\u001b[39m][\u001b[39m2\u001b[39m]: \n\u001b[1;32m     <a href='vscode-notebook-cell:/Users/kai/Documents/GitHub/bomberman_rl/prototyping/m1_feature_design/k%20new%20state_to_features.ipynb#ch0000003?line=41'>42</a>\u001b[0m     bombing_is_dump \u001b[39m=\u001b[39m \u001b[39mTrue\u001b[39;00m\n",
      "\u001b[1;32m/Users/kai/Documents/GitHub/bomberman_rl/prototyping/m1_feature_design/k new state_to_features.ipynb Cell 4'\u001b[0m in \u001b[0;36m<listcomp>\u001b[0;34m(.0)\u001b[0m\n\u001b[1;32m     <a href='vscode-notebook-cell:/Users/kai/Documents/GitHub/bomberman_rl/prototyping/m1_feature_design/k%20new%20state_to_features.ipynb#ch0000003?line=36'>37</a>\u001b[0m waiting_is_dump \u001b[39m=\u001b[39m \u001b[39mFalse\u001b[39;00m\n\u001b[1;32m     <a href='vscode-notebook-cell:/Users/kai/Documents/GitHub/bomberman_rl/prototyping/m1_feature_design/k%20new%20state_to_features.ipynb#ch0000003?line=37'>38</a>\u001b[0m bombing_is_dump \u001b[39m=\u001b[39m \u001b[39mFalse\u001b[39;00m\n\u001b[0;32m---> <a href='vscode-notebook-cell:/Users/kai/Documents/GitHub/bomberman_rl/prototyping/m1_feature_design/k%20new%20state_to_features.ipynb#ch0000003?line=38'>39</a>\u001b[0m going_is_dump \u001b[39m=\u001b[39m [\u001b[39mnot\u001b[39;00m proximity_map[neighbor] \u001b[39mfor\u001b[39;00m neighbor \u001b[39min\u001b[39;00m own_position \u001b[39m+\u001b[39m DIRECTIONS]\n\u001b[1;32m     <a href='vscode-notebook-cell:/Users/kai/Documents/GitHub/bomberman_rl/prototyping/m1_feature_design/k%20new%20state_to_features.ipynb#ch0000003?line=40'>41</a>\u001b[0m \u001b[39mif\u001b[39;00m own_position \u001b[39min\u001b[39;00m bombs \u001b[39mor\u001b[39;00m \u001b[39mnot\u001b[39;00m game_state[\u001b[39m'\u001b[39m\u001b[39mself\u001b[39m\u001b[39m'\u001b[39m][\u001b[39m2\u001b[39m]: \n\u001b[1;32m     <a href='vscode-notebook-cell:/Users/kai/Documents/GitHub/bomberman_rl/prototyping/m1_feature_design/k%20new%20state_to_features.ipynb#ch0000003?line=41'>42</a>\u001b[0m     bombing_is_dump \u001b[39m=\u001b[39m \u001b[39mTrue\u001b[39;00m\n",
      "\u001b[0;31mTypeError\u001b[0m: 'function' object is not subscriptable"
     ]
    }
   ],
   "source": [
    "x = 1\n",
    "example_game_state = np.load(f'../../agent_code/our_user_agent/logs/game_state{x}.pkl', allow_pickle = True)\n",
    "example_game_state\n",
    "state_to_features(example_game_state)\n"
   ]
  },
  {
   "cell_type": "code",
   "execution_count": null,
   "metadata": {},
   "outputs": [],
   "source": []
  }
 ],
 "metadata": {
  "interpreter": {
   "hash": "9c6cebfa2f6916454f586e38d7dc74344caa14c114dff9b64499406f6acbdf5c"
  },
  "kernelspec": {
   "display_name": "Python 3.10.0 ('bomberman')",
   "language": "python",
   "name": "python3"
  },
  "language_info": {
   "codemirror_mode": {
    "name": "ipython",
    "version": 3
   },
   "file_extension": ".py",
   "mimetype": "text/x-python",
   "name": "python",
   "nbconvert_exporter": "python",
   "pygments_lexer": "ipython3",
   "version": "3.9.7"
  },
  "orig_nbformat": 4
 },
 "nbformat": 4,
 "nbformat_minor": 2
}
