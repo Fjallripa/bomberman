{
 "cells": [
  {
   "cell_type": "code",
   "execution_count": null,
   "metadata": {},
   "outputs": [],
   "source": [
    "def state_to_features (game_state):\n",
    "    \"\"\"\n",
    "    \"\"\"\n",
    "\n",
    "    # 1. Check game mode\n",
    "\n",
    "    # 2. Calculate proximity map\n",
    "\n",
    "    # 3. Check for danger and lethal danger\n",
    "\n",
    "    # 4. Compute goal direction\n",
    "\n",
    "    # 5. Assemble feature array\n",
    "\n",
    "    return features"
   ]
  }
 ],
 "metadata": {
  "language_info": {
   "name": "python"
  },
  "orig_nbformat": 4
 },
 "nbformat": 4,
 "nbformat_minor": 2
}
