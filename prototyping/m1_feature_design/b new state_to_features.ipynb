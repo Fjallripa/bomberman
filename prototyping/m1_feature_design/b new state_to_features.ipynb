{
 "cells": [
  {
   "cell_type": "code",
   "execution_count": 1,
   "metadata": {},
   "outputs": [],
   "source": [
    "import numpy as np\n",
    "import matplotlib.pyplot as plt"
   ]
  },
  {
   "cell_type": "markdown",
   "metadata": {},
   "source": [
    "### Constants"
   ]
  },
  {
   "cell_type": "code",
   "execution_count": 2,
   "metadata": {},
   "outputs": [],
   "source": [
    "# Global Constants\n",
    "DIRECTIONS         = np.array([(0, -1), (1, 0), (0, 1), (-1, 0)])   # UP, RIGHT, DOWN, LEFT\n",
    "DEFAULT_DISTANCE   = 1000\n",
    "BOMB_COOLDOWN_TIME = 7\n",
    "COLS = ROWS        = 17\n",
    "BLAST              = np.array([-3, -2, -1, 1, 2, 3])\n"
   ]
  },
  {
   "cell_type": "code",
   "execution_count": 3,
   "metadata": {},
   "outputs": [],
   "source": [
    "# Calculate constant BOMB_MASK one time\n",
    "BOMB_MASK = np.full((COLS, ROWS, COLS, ROWS), False)\n",
    "\n",
    "x_inside = lambda x: x > 0 and x < COLS-1\n",
    "y_inside = lambda y: y > 0 and y < ROWS-1\n",
    "\n",
    "for x in range(1, COLS-1):\n",
    "        for y in range(1, ROWS-1):\n",
    "            if (x % 2 == 1 or y % 2 == 1):\n",
    "                explosion_spots = [(x, y)]\n",
    "                if x % 2 == 1:\n",
    "                    explosion_spots += [(x, y + b) for b in BLAST  if y_inside(y + b)]\n",
    "                if y % 2 == 1:\n",
    "                    explosion_spots += [(x + b, y) for b in BLAST  if x_inside(x + b)]\n",
    "                \n",
    "                explosion_spots = tuple(np.array(explosion_spots).T)\n",
    "                BOMB_MASK[(x, y)][explosion_spots] \\\n",
    "                                = True"
   ]
  },
  {
   "cell_type": "markdown",
   "metadata": {},
   "source": [
    "### Auxilliary functions to `state_to_features()`"
   ]
  },
  {
   "cell_type": "code",
   "execution_count": 4,
   "metadata": {},
   "outputs": [],
   "source": [
    "def proximity_map (own_position, game_field):\n",
    "    \"\"\"\n",
    "    calculates three values for each tile of the game field:\n",
    "    1. travel time aka. distance from own position\n",
    "    2. if tile is reachable from own position or blocked\n",
    "    3. in which directions one can initially go to reach that tile as quick as possible\n",
    "\n",
    "    Arguments\n",
    "    ---------\n",
    "    own_position : tuple (x, y)\n",
    "        with x and y being current coordinates coordinates of the agent \n",
    "        on the game field. Thus 0 < x < COLS-1, 0 < y < ROWS-1.\n",
    "    game_field   : np.array, shape = (COLS, ROWS)\n",
    "        = game_state['field']\n",
    "\n",
    "    Returns\n",
    "    -------\n",
    "    travel_time_map         : np.array, shape like game_field, dtype = int\n",
    "        Reachable tiles have the value of the number of steps it takes to move to them \n",
    "        from own_position.\n",
    "        Unreachable tiles have the value of DEFAULT_TRAVEL_TIME which is much higher than \n",
    "        any reachable time.\n",
    "    reachable_map           : np.array, shape like game_field, dtype = bool\n",
    "        A boolean mask of travel_time_map that labels reachable tiles as True and \n",
    "        unreachable ones as False.\n",
    "    original_directions_map : np.array, shape = (COLS, ROWS, 4), dtype = bool\n",
    "        A map of the game_field that holds a 4-element boolean array for every tile.\n",
    "        Values of the tile's array correspond to the 4 directions UP, RIGHT, DOWN, LEFT \n",
    "        which you might from own_position to reach the tile. Those direction which lead you \n",
    "        to reach the tile the fastest are marked True, the others False.\n",
    "        For example, if you can reach a tile the fastest by either going UP or RIGHT at the step\n",
    "        then its array will look like this [TRUE, TRUE, FALSE, FALSE].\n",
    "        This map will be important to quickly find the best direction towards coins, crates,\n",
    "        opponents and more.\n",
    "    \"\"\"\n",
    "\n",
    "\n",
    "    # Setup of initial values\n",
    "    distance_map  = np.full_like(game_field, DEFAULT_DISTANCE)\n",
    "    direction_map = np.full((*game_field.shape, 4), False)\n",
    "\n",
    "    distance_map[own_position] = 0\n",
    "    for i, dir in enumerate(DIRECTIONS):\n",
    "        neighbor = tuple(dir + np.array(own_position))\n",
    "        if game_field[neighbor] == 0:   # If neighbor is a free field\n",
    "            direction_map[neighbor][i] = True\n",
    "    \n",
    "\n",
    "    # Breadth first search for proximity values to all reachable spots\n",
    "    frontier = [own_position]\n",
    "    while len(frontier) > 0:\n",
    "        current = frontier.pop(0)\n",
    "        \n",
    "        for dir in DIRECTIONS:\n",
    "            neighbor = tuple(dir + np.array(current))\n",
    "            \n",
    "            # Update travel time to `neighbor` field\n",
    "            if game_field[neighbor] == 0:   # If neighbor is a free field\n",
    "                time = distance_map[current] + 1\n",
    "                if distance_map[neighbor] > time:\n",
    "                    distance_map[neighbor] = time\n",
    "                    frontier.append(neighbor)\n",
    "                    \n",
    "                    # Update original direction for `neighbor` field\n",
    "                    if time > 1:\n",
    "                        direction_map[neighbor] = direction_map[current]\n",
    "                        \n",
    "                # Combine orginial directions if travel times are equal\n",
    "                elif distance_map[neighbor] == time:\n",
    "                    direction_map[neighbor] = np.logical_or(\n",
    "                        direction_map[neighbor], direction_map[current])\n",
    "\n",
    "\n",
    "    # Derivation of reachability_map\n",
    "    reachability_map = distance_map != DEFAULT_DISTANCE\n",
    "\n",
    "\n",
    "    return distance_map, reachability_map, direction_map"
   ]
  },
  {
   "cell_type": "code",
   "execution_count": 5,
   "metadata": {},
   "outputs": [],
   "source": [
    "def select_reachable (positions, reachability_map):\n",
    "    \"\"\"\n",
    "    \"\"\"\n",
    "\n",
    "    if len(positions) > 0:\n",
    "        positions_array     = np.array(positions)\n",
    "        positions_tuple     = tuple(positions_array.T)\n",
    "        reachable_mask      = reachability_map[positions_tuple]\n",
    "        reachable_positions = positions_array[reachable_mask] \n",
    "    else:\n",
    "        reachable_positions = np.array(positions)\n",
    "\n",
    "    return reachable_positions"
   ]
  },
  {
   "cell_type": "code",
   "execution_count": 6,
   "metadata": {},
   "outputs": [],
   "source": [
    "def select_nearest (positions, distance_map):\n",
    "    \"\"\"\n",
    "    \"\"\"\n",
    "\n",
    "    if len(positions) > 0:\n",
    "        positions_array   = np.array(positions)\n",
    "        positions_tuple   = tuple(positions_array.T)\n",
    "        min_distance_mask = distance_map[positions_tuple] == np.amin(distance_map[positions_tuple])\n",
    "        nearest_positions = positions_array[min_distance_mask]\n",
    "    else:\n",
    "        nearest_positions = np.array([])    \n",
    "    \n",
    "    return nearest_positions"
   ]
  },
  {
   "cell_type": "code",
   "execution_count": 7,
   "metadata": {},
   "outputs": [],
   "source": [
    "def make_goals (positions, direction_map, own_position):\n",
    "    \"\"\"\n",
    "    \"\"\"\n",
    "\n",
    "    # Direction goals\n",
    "    goals = np.full(5, False)\n",
    "    if len(positions) > 0:\n",
    "        positions_tuple  = tuple(positions.T)\n",
    "        goal_directions  = direction_map[positions_tuple]\n",
    "        goals[:4]        = np.any(goal_directions, axis = 0)\n",
    "        \n",
    "        # Check if there's a goal on the own_position\n",
    "        goal_on_own_spot = (np.array(own_position) == positions).all(axis = 1).any()   # numpy-speak for \"own_position in position\"\n",
    "        goals[4]         = goal_on_own_spot\n",
    "    \n",
    "    return goals"
   ]
  },
  {
   "cell_type": "code",
   "execution_count": 28,
   "metadata": {},
   "outputs": [],
   "source": [
    "def crate_destruction_map (crate_map, bombs):\n",
    "    \"\"\"\n",
    "    \"\"\"\n",
    "\n",
    "    if len(bombs) > 0:\n",
    "        bomb_array       = np.array([bomb[0] for bomb in bombs])   # Bomb positions\n",
    "        bomb_tuple       = tuple(bomb_array.T)\n",
    "        explosion_zones  = np.any(BOMB_MASK[bomb_tuple], axis = 0)   # All fields that will be destroyed due to the current bombs.\n",
    "        unexploded_zones = np.logical_not(explosion_zones)   # All fields that will be unharmed by the current bombs\n",
    "    else:\n",
    "        unexploded_zones = np.full_like(crate_map, True)\n",
    "    \n",
    "    crate_mask            = crate_map == 1   # Only show the crate positions\n",
    "    crates_remaining_mask = np.logical_and(crate_mask, unexploded_zones)\n",
    "    number_of_crates_destroyed_map \\\n",
    "                          = np.sum(np.logical_and(crates_remaining_mask, BOMB_MASK), axis = (-2, -1))\n",
    "    \n",
    "    return number_of_crates_destroyed_map"
   ]
  },
  {
   "cell_type": "code",
   "execution_count": 7,
   "metadata": {},
   "outputs": [],
   "source": [
    "def best_crates_to_bomb (distance_map, number_of_crates_destroyed_map):\n",
    "    \"\"\"\n",
    "    \"\"\"    \n",
    "    \n",
    "    total_time_map        = distance_map + BOMB_COOLDOWN_TIME\n",
    "    destruction_speed_map = number_of_crates_destroyed_map / total_time_map\n",
    "    \n",
    "    best_crates_mask = np.isclose(destruction_speed_map, np.amax(destruction_speed_map))\n",
    "    best_crates      = np.array(np.where(best_crates_mask)).T\n",
    "    \n",
    "    return best_crates"
   ]
  },
  {
   "cell_type": "markdown",
   "metadata": {},
   "source": [
    "### The CoinMiner's `state_to_features()`"
   ]
  },
  {
   "cell_type": "code",
   "execution_count": 9,
   "metadata": {},
   "outputs": [],
   "source": [
    "def state_to_features (game_state):\n",
    "    \"\"\"\n",
    "    \"\"\"\n",
    "    \n",
    "    \n",
    "    # 0. relevant game_state info\n",
    "    own_position = game_state['self'][3]\n",
    "    crate_map    = game_state['field']\n",
    "    coins        = game_state['coins']\n",
    "    bombs        = game_state['bombs']\n",
    "\n",
    "\n",
    "    # 1. Check game mode\n",
    "    mode = 0   #! Placeholder\n",
    "\n",
    "\n",
    "    # 2. Calculate proximity map\n",
    "    distance_map, reachability_map, direction_map = proximity_map(own_position, crate_map)\n",
    "\n",
    "\n",
    "    # 3. Check for danger and lethal danger\n",
    "    waiting_is_suicide = False   #! Placeholder\n",
    "    going_is_suicide   = np.full(4, False)   #! Placeholder\n",
    "    safe_directions    = np.full(4, False)   #! Placeholder\n",
    "    \n",
    "\n",
    "    # 4. Compute goal direction\n",
    "    if mode == 0:\n",
    "        reachable_coins = select_reachable(coins, reachability_map)\n",
    "        best_coins      = select_nearest(reachable_coins, distance_map)\n",
    "        goals           = make_goals(best_coins, direction_map, own_position)\n",
    "\n",
    "    if mode == 1:\n",
    "        crates_destroyed = crate_destruction_map(crate_map, bombs)\n",
    "        best_crates      = best_crates_to_bomb(distance_map, crates_destroyed)\n",
    "        goals            = make_goals(best_crates, direction_map, own_position)\n",
    "    \n",
    "    if mode == 2:\n",
    "        #! Not yet implemented -> For CoinHunter\n",
    "        goals = np.full(5, False)   #! Placeholder\n",
    "\n",
    "\n",
    "    # 5. Assemble feature array\n",
    "    features = np.full(6, 1)\n",
    "    \n",
    "    # Directions (f1 - f4)\n",
    "    for i in range(4):\n",
    "        neighbor = tuple(np.array(own_position) + DIRECTIONS[i])\n",
    "        if going_is_suicide[i] or not reachability_map[neighbor]:\n",
    "            features[i] = 0\n",
    "        elif safe_directions[i] and goals[i]:\n",
    "            features[i] = 4\n",
    "        elif safe_directions[i]:\n",
    "            features[i] = 2\n",
    "        elif goals[i]:\n",
    "            features[i] = 3\n",
    "\n",
    "    # Own spot (f5)\n",
    "    if waiting_is_suicide:\n",
    "        features[4] = 0\n",
    "    elif goals[4]:   # own spot is a goal\n",
    "        features[4] = 2\n",
    "        \n",
    "    # Mode (f6)\n",
    "    features[5] = mode\n",
    "\n",
    "\n",
    "    return features"
   ]
  },
  {
   "cell_type": "markdown",
   "metadata": {},
   "source": [
    "### Testing & prototyping"
   ]
  },
  {
   "cell_type": "markdown",
   "metadata": {},
   "source": [
    "#### Test data"
   ]
  },
  {
   "cell_type": "code",
   "execution_count": 8,
   "metadata": {},
   "outputs": [],
   "source": [
    "# Test crate maps\n",
    "empty_game_field = np.array(\n",
    "    [[-1, -1, -1, -1, -1, -1, -1, -1, -1, -1, -1, -1, -1, -1, -1, -1, -1],\n",
    "     [-1,  0,  0,  0,  0,  0,  0,  0,  0,  0,  0,  0,  0,  0,  0,  0, -1],\n",
    "     [-1,  0, -1,  0, -1,  0, -1,  0, -1,  0, -1,  0, -1,  0, -1,  0, -1],\n",
    "     [-1,  0,  0,  0,  0,  0,  0,  0,  0,  0,  0,  0,  0,  0,  0,  0, -1],\n",
    "     [-1,  0, -1,  0, -1,  0, -1,  0, -1,  0, -1,  0, -1,  0, -1,  0, -1],\n",
    "     [-1,  0,  0,  0,  0,  0,  0,  0,  0,  0,  0,  0,  0,  0,  0,  0, -1],\n",
    "     [-1,  0, -1,  0, -1,  0, -1,  0, -1,  0, -1,  0, -1,  0, -1,  0, -1],\n",
    "     [-1,  0,  0,  0,  0,  0,  0,  0,  0,  0,  0,  0,  0,  0,  0,  0, -1],\n",
    "     [-1,  0, -1,  0, -1,  0, -1,  0, -1,  0, -1,  0, -1,  0, -1,  0, -1],\n",
    "     [-1,  0,  0,  0,  0,  0,  0,  0,  0,  0,  0,  0,  0,  0,  0,  0, -1],\n",
    "     [-1,  0, -1,  0, -1,  0, -1,  0, -1,  0, -1,  0, -1,  0, -1,  0, -1],\n",
    "     [-1,  0,  0,  0,  0,  0,  0,  0,  0,  0,  0,  0,  0,  0,  0,  0, -1],\n",
    "     [-1,  0, -1,  0, -1,  0, -1,  0, -1,  0, -1,  0, -1,  0, -1,  0, -1],\n",
    "     [-1,  0,  0,  0,  0,  0,  0,  0,  0,  0,  0,  0,  0,  0,  0,  0, -1],\n",
    "     [-1,  0, -1,  0, -1,  0, -1,  0, -1,  0, -1,  0, -1,  0, -1,  0, -1],\n",
    "     [-1,  0,  0,  0,  0,  0,  0,  0,  0,  0,  0,  0,  0,  0,  0,  0, -1],\n",
    "     [-1, -1, -1, -1, -1, -1, -1, -1, -1, -1, -1, -1, -1, -1, -1, -1, -1]]\n",
    ")\n",
    "\n",
    "halffull_game_field = np.array(\n",
    "    [[-1, -1, -1, -1, -1, -1, -1, -1, -1, -1, -1, -1, -1, -1, -1, -1, -1],\n",
    "     [-1,  0,  0,  1,  1,  1,  0,  1,  1,  1,  1,  0,  1,  0,  0,  0, -1],\n",
    "     [-1,  0, -1,  1, -1,  1, -1,  1, -1,  1, -1,  1, -1,  0, -1,  0, -1],\n",
    "     [-1,  1,  0,  1,  0,  1,  1,  0,  0,  1,  1,  1,  0,  1,  1,  1, -1],\n",
    "     [-1,  1, -1,  1, -1,  1, -1,  1, -1,  0, -1,  0, -1,  1, -1,  1, -1],\n",
    "     [-1,  1,  0,  1,  0,  0,  0,  1,  1,  1,  0,  0,  1,  0,  1,  1, -1],\n",
    "     [-1,  0, -1,  0, -1,  0, -1,  1, -1,  1, -1,  1, -1,  1, -1,  1, -1],\n",
    "     [-1,  0,  0,  1,  1,  0,  1,  1,  0,  1,  1,  1,  0,  1,  1,  1, -1],\n",
    "     [-1,  1, -1,  1, -1,  0, -1,  0, -1,  0, -1,  0, -1,  1, -1,  0, -1],\n",
    "     [-1,  1,  0,  0,  0,  0,  0,  0,  0,  1,  1,  1,  0,  0,  0,  0, -1],\n",
    "     [-1,  1, -1,  0, -1,  0, -1,  0, -1,  1, -1,  1, -1,  1, -1,  1, -1],\n",
    "     [-1,  0,  0,  0,  0,  0,  0,  0,  0,  1,  0,  1,  1,  1,  0,  1, -1],\n",
    "     [-1,  1, -1,  1, -1,  0, -1,  0, -1,  1, -1,  1, -1,  1, -1,  1, -1],\n",
    "     [-1,  1,  0,  0,  0,  0,  0,  0,  0,  0,  0,  1,  1,  1,  1,  1, -1],\n",
    "     [-1,  0, -1,  1, -1,  0, -1,  0, -1,  1, -1,  1, -1,  1, -1,  0, -1],\n",
    "     [-1,  0,  0,  0,  0,  0,  0,  0,  0,  1,  1,  1,  1,  1,  0,  0, -1],\n",
    "     [-1, -1, -1, -1, -1, -1, -1, -1, -1, -1, -1, -1, -1, -1, -1, -1, -1]]\n",
    ")\n",
    "\n",
    "packed_game_field = np.array(\n",
    "    [[-1, -1, -1, -1, -1, -1, -1, -1, -1, -1, -1, -1, -1, -1, -1, -1, -1],\n",
    "     [-1,  0,  0,  1,  1,  1,  1,  1,  1,  1,  1,  1,  1,  0,  0,  0, -1],\n",
    "     [-1,  0, -1,  1, -1,  1, -1,  1, -1,  1, -1,  0, -1,  1, -1,  0, -1],\n",
    "     [-1,  1,  1,  0,  1,  1,  1,  1,  1,  1,  1,  1,  1,  1,  0,  1, -1],\n",
    "     [-1,  1, -1,  1, -1,  0, -1,  1, -1,  1, -1,  1, -1,  1, -1,  1, -1],\n",
    "     [-1,  1,  1,  1,  1,  1,  0,  1,  0,  1,  0,  1,  0,  0,  1,  0, -1],\n",
    "     [-1,  1, -1,  0, -1,  1, -1,  1, -1,  1, -1,  1, -1,  0, -1,  0, -1],\n",
    "     [-1,  0,  1,  1,  1,  1,  1,  1,  1,  0,  1,  1,  1,  1,  1,  1, -1],\n",
    "     [-1,  1, -1,  1, -1,  1, -1,  1, -1,  1, -1,  1, -1,  0, -1,  1, -1],\n",
    "     [-1,  1,  1,  0,  1,  1,  0,  0,  0,  1,  1,  1,  1,  1,  1,  1, -1],\n",
    "     [-1,  1, -1,  1, -1,  1, -1,  0, -1,  1, -1,  1, -1,  1, -1,  0, -1],\n",
    "     [-1,  1,  1,  1,  1,  1,  1,  1,  1,  1,  1,  1,  1,  0,  1,  0, -1],\n",
    "     [-1,  1, -1,  0, -1,  1, -1,  0, -1,  1, -1,  1, -1,  1, -1,  1, -1],\n",
    "     [-1,  0,  1,  1,  1,  1,  1,  1,  0,  1,  1,  1,  0,  1,  1,  0, -1],\n",
    "     [-1,  0, -1,  1, -1,  0, -1,  0, -1,  0, -1,  0, -1,  1, -1,  0, -1],\n",
    "     [-1,  0,  0,  1,  1,  1,  1,  1,  1,  1,  0,  1,  1,  1,  0,  0, -1],\n",
    "     [-1, -1, -1, -1, -1, -1, -1, -1, -1, -1, -1, -1, -1, -1, -1, -1, -1]]\n",
    ")"
   ]
  },
  {
   "cell_type": "code",
   "execution_count": 9,
   "metadata": {},
   "outputs": [],
   "source": [
    "# Test coin lists\n",
    "coins_empty_field    = [(7, 7), (7, 8), (9, 5), (11, 3), (11, 7), (13, 5)]\n",
    "coins_halffull_field = [(5, 5), (9, 5), (11, 3), (11, 7), (13, 5), (14, 1), (15, 1), (15, 7)]"
   ]
  },
  {
   "cell_type": "code",
   "execution_count": 10,
   "metadata": {},
   "outputs": [],
   "source": [
    "# Test positions\n",
    "positions_empty_field    = [(11, 5), (9, 7), (7, 5), (13, 9), (9, 9), (5, 7), (5, 8), (11, 7)]\n",
    "positions_halffull_field = [(11, 5), (13, 7), (15, 4), (13, 2), (7, 5), (13, 8), (14, 1)]\n",
    "positions_packed_field   = [(15, 1)]"
   ]
  },
  {
   "cell_type": "code",
   "execution_count": 11,
   "metadata": {},
   "outputs": [],
   "source": [
    "# Expected outcomes (Outdated)\n",
    "goals_empty_field   = np.array( \\\n",
    "    [[1, 1, 1, 1],\n",
    "     [1, 1, 0, 1],\n",
    "     [0, 1, 1, 0],\n",
    "     [1, 0, 0, 1],\n",
    "     [0, 0, 0, 1],\n",
    "     [0, 1, 0, 0],\n",
    "     [1, 0, 0, 0]]\n",
    ")\n",
    "\n",
    "goals_halffull_field = np.array( \\\n",
    "    [[1, 1, 1, 1],\n",
    "     [1, 1, 0, 1],\n",
    "     [1, 0, 1, 0],\n",
    "     [0, 0, 1, 0],\n",
    "     [0, 1, 0, 1],\n",
    "     [1, 0, 0, 0]]\n",
    ")"
   ]
  },
  {
   "cell_type": "code",
   "execution_count": 12,
   "metadata": {},
   "outputs": [],
   "source": [
    "# Test bomb placements\n",
    "bombs_none = []\n",
    "bombs_some = [((11, 5), 4), ((1, 1), 2), ((7, 6), 0), ((5, 11), 1)]\n",
    "bombs_many = [((11, 5), 4), ((1, 1), 2), ((7, 6), 0), ((5, 11), 1), ((5, 7), 2), ((7, 13), 3), ((15, 12), 0)]"
   ]
  },
  {
   "cell_type": "markdown",
   "metadata": {},
   "source": [
    "#### Testing `crate_destruction_map()`"
   ]
  },
  {
   "cell_type": "code",
   "execution_count": 13,
   "metadata": {},
   "outputs": [],
   "source": [
    "def crate_destruction_map (crate_map, bombs):  #! Testing version! Remove second return value before applying code!\n",
    "    \"\"\"\n",
    "    \"\"\"\n",
    "\n",
    "    if len(bombs) > 0:\n",
    "        bomb_array       = np.array([bomb[0] for bomb in bombs])   # Bomb positions\n",
    "        bomb_tuple       = tuple(bomb_array.T)\n",
    "        explosion_zones  = np.any(BOMB_MASK[bomb_tuple], axis = 0)   # All fields that will be destroyed due to the current bombs.\n",
    "        unexploded_zones = np.logical_not(explosion_zones)   # All fields that will be unharmed by the current bombs\n",
    "    else:\n",
    "        unexploded_zones = np.full_like(crate_map, True)\n",
    "    \n",
    "    crate_mask            = crate_map == 1   # Only show the crate positions\n",
    "    crates_remaining_mask = np.logical_and(crate_mask, unexploded_zones)\n",
    "    number_of_crates_destroyed_map \\\n",
    "                          = np.sum(np.logical_and(crates_remaining_mask, BOMB_MASK), axis = (-2, -1))\n",
    "    \n",
    "    return number_of_crates_destroyed_map, crates_remaining_mask #! Latter only for testing purposes!"
   ]
  },
  {
   "cell_type": "code",
   "execution_count": 27,
   "metadata": {},
   "outputs": [
    {
     "data": {
      "image/png": "[encoded data removed]",
      "text/plain": [
       "<Figure size 1728x432 with 6 Axes>"
      ]
     },
     "metadata": {
      "needs_background": "light"
     },
     "output_type": "display_data"
    }
   ],
   "source": [
    "bombs     = bombs_many\n",
    "crate_map = packed_game_field\n",
    "\n",
    "crates_destroyed, crates_remaining_mask = crate_destruction_map(crate_map, bombs)\n",
    "\n",
    "plt.figure(figsize=(24, 6))\n",
    "\n",
    "# Show original crate_map\n",
    "plt.subplot(1, 3, 1)\n",
    "\n",
    "plt.imshow(crate_map.T)\n",
    "plt.colorbar()\n",
    "plt.title(\"game field before explosions\")\n",
    "\n",
    "# Show resulting crate_map (after existing bombs exploded)\n",
    "plt.subplot(1, 3, 2)\n",
    "crate_map_after = crates_remaining_mask + empty_game_field  # Adds walls back in\n",
    "plt.imshow(crate_map_after.T)\n",
    "plt.colorbar()\n",
    "plt.title(\"game field after explosions\")\n",
    "\n",
    "# Show map of number of destroyed crates for every conceivable bomb placement.\n",
    "plt.subplot(1, 3, 3)\n",
    "plt.imshow(crates_destroyed.T)\n",
    "plt.colorbar()\n",
    "plt.title(\"Number of crates destroyed for every possible bomb location\")\n",
    "\n",
    "for x in range(COLS):\n",
    "    for y in range(ROWS):\n",
    "        if crates_destroyed[(x, y)] > 0:\n",
    "            plt.text(x, y, str(crates_destroyed[(x, y)]), c = 'w', fontweight = \"bold\", \n",
    "                     horizontalalignment = \"center\", verticalalignment = \"center\")\n",
    "\n",
    "plt.show()"
   ]
  },
  {
   "cell_type": "markdown",
   "metadata": {},
   "source": [
    "##### `crate_destruction_map()` - Test 1\n",
    "\n",
    "**Status:**\n",
    "Testing done, performed without a flaw.\n",
    "\n",
    "| crate_map | bombs | Result OK? |\n",
    "| --- | --- | --- |\n",
    "| 'empty' | 'none' | Y |\n",
    "| 'halffull' | 'none' | Y |\n",
    "| 'packed'   | 'none' | Y |\n",
    "| 'empty' | 'some' | Y |\n",
    "| 'halffull' | 'some' | Y |\n",
    "| 'halffull' | 'many' | Y |\n",
    "| 'packed' | 'many' | Y |"
   ]
  },
  {
   "cell_type": "code",
   "execution_count": null,
   "metadata": {},
   "outputs": [],
   "source": [
    "array(shape(1, 2, 3, 4))\n",
    "      array(sahpe(3, 4))\n",
    "\n",
    "-> array(shape(1, 2, 3, 4))\n",
    "\n",
    "-> array(shape(1, 2))"
   ]
  },
  {
   "cell_type": "code",
   "execution_count": 69,
   "metadata": {},
   "outputs": [
    {
     "data": {
      "text/plain": [
       "array([[0, 0, 0, 0, 0, 0, 0, 0, 0, 0, 0, 0, 0, 0, 0, 0, 0],\n",
       "       [0, 0, 0, 0, 0, 0, 0, 0, 0, 0, 0, 0, 0, 0, 0, 0, 0],\n",
       "       [0, 0, 0, 0, 0, 0, 0, 0, 0, 0, 0, 0, 0, 0, 0, 0, 0],\n",
       "       [0, 0, 0, 0, 0, 0, 0, 0, 0, 0, 0, 0, 0, 0, 0, 0, 0],\n",
       "       [0, 0, 0, 0, 0, 0, 0, 0, 0, 1, 0, 0, 0, 0, 0, 0, 0],\n",
       "       [0, 0, 0, 0, 0, 0, 0, 0, 0, 1, 0, 0, 0, 0, 0, 0, 0],\n",
       "       [0, 0, 0, 0, 0, 0, 0, 0, 0, 1, 0, 0, 0, 0, 0, 0, 0],\n",
       "       [0, 0, 0, 0, 0, 0, 1, 1, 1, 1, 1, 1, 1, 0, 0, 0, 0],\n",
       "       [0, 0, 0, 0, 0, 0, 0, 0, 0, 1, 0, 0, 0, 0, 0, 0, 0],\n",
       "       [0, 0, 0, 0, 0, 0, 0, 0, 0, 1, 0, 0, 0, 0, 0, 0, 0],\n",
       "       [0, 0, 0, 0, 0, 0, 0, 0, 0, 1, 0, 0, 0, 0, 0, 0, 0],\n",
       "       [0, 0, 0, 0, 0, 0, 0, 0, 0, 0, 0, 0, 0, 0, 0, 0, 0],\n",
       "       [0, 0, 0, 0, 0, 0, 0, 0, 0, 0, 0, 0, 0, 0, 0, 0, 0],\n",
       "       [0, 0, 0, 0, 0, 0, 0, 0, 0, 0, 0, 0, 0, 0, 0, 0, 0],\n",
       "       [0, 0, 0, 0, 0, 0, 0, 0, 0, 0, 0, 0, 0, 0, 0, 0, 0],\n",
       "       [0, 0, 0, 0, 0, 0, 0, 0, 0, 0, 0, 0, 0, 0, 0, 0, 0],\n",
       "       [0, 0, 0, 0, 0, 0, 0, 0, 0, 0, 0, 0, 0, 0, 0, 0, 0]])"
      ]
     },
     "execution_count": 69,
     "metadata": {},
     "output_type": "execute_result"
    }
   ],
   "source": [
    "1*BOMB_MASK[(7, 9)]"
   ]
  },
  {
   "cell_type": "markdown",
   "metadata": {},
   "source": [
    "#### Testing `make_goals()`"
   ]
  },
  {
   "cell_type": "code",
   "execution_count": 60,
   "metadata": {},
   "outputs": [],
   "source": [
    "def make_goals (positions, direction_map, own_position):\n",
    "    \"\"\"\n",
    "    \"\"\"\n",
    "\n",
    "    # Direction goals\n",
    "    goals = np.full(5, False)\n",
    "    if len(positions) > 0:\n",
    "        positions_tuple  = tuple(positions.T)\n",
    "        goal_directions  = direction_map[positions_tuple]\n",
    "        goals[:4]        = np.any(goal_directions, axis = 0)\n",
    "        \n",
    "        # Check if there's a goal on the own_position\n",
    "        goal_on_own_spot = (np.array(own_position) == positions).all(axis = 1).any()   # numpy-speak for \"own_position in positions\"\n",
    "        goals[4]         = goal_on_own_spot\n",
    "    \n",
    "    return goals"
   ]
  },
  {
   "cell_type": "markdown",
   "metadata": {},
   "source": [
    "[False, True, False, False]\n",
    "[True,  False, False, False]\n",
    "\n",
    "[True,  True, False, False]\n",
    "\n",
    "[13, 7]\n",
    "\n",
    "[[2, 9], \n",
    " [13, 7]]\n",
    "\n",
    " [[False, False],\n",
    "  [True,  True ]]\n",
    "\n",
    "[False, True]"
   ]
  },
  {
   "cell_type": "code",
   "execution_count": null,
   "metadata": {},
   "outputs": [],
   "source": [
    "[[2, 9],\n",
    " [4, 9],\n",
    " [13, 7]]\n",
    "\n",
    "-> tuple(array.T)\n",
    "\n",
    "[[2, 4, 13],\n",
    " [9, 9, 7]]\n",
    "\n",
    " (array[2, 4, 13], array[9, 9, 7])"
   ]
  },
  {
   "cell_type": "code",
   "execution_count": 66,
   "metadata": {},
   "outputs": [
    {
     "name": "stdout",
     "output_type": "stream",
     "text": [
      "Position: (11, 5) ,  goals: [ True  True  True  True False]\n",
      "Position: (13, 7) ,  goals: [ True False False  True False]\n",
      "Position: (15, 4) ,  goals: [False False  True False False]\n",
      "Position: (13, 2) ,  goals: [False False  True False False]\n",
      "Position: (7, 5)  ,  goals: [False  True False False False]\n",
      "Position: (13, 8) ,  goals: [ True False False False False]\n",
      "Position: (14, 1) ,  goals: [False  True False False False]\n"
     ]
    }
   ],
   "source": [
    "# Testing select_nearest()\n",
    "crate_map    = halffull_game_field\n",
    "coins        = coins_empty_field\n",
    "positions    = positions_halffull_field\n",
    "\n",
    "for i, own_position in enumerate(positions):\n",
    "    distance_map, reachability_map, direction_map \\\n",
    "                    = proximity_map(own_position, crate_map)\n",
    "    reachable_coins = select_reachable(coins, reachability_map)\n",
    "    best_coins      = select_nearest(reachable_coins, distance_map)\n",
    "    goals           = make_goals(best_coins, direction_map, own_position)\n",
    "    \n",
    "    print(f\"Position: {str(own_position):8},  goals: {goals}\")"
   ]
  },
  {
   "cell_type": "markdown",
   "metadata": {},
   "source": [
    "##### `make_goal()` - Test 3\n",
    "\n",
    "**Current Status:**\n",
    "All issues fixed.\n",
    "\n",
    "**Test cases:**\n",
    "| coins | crate_map & positions |  Can it handle | Result | Issue |\n",
    "| --- | --- | --- | --- | --- |\n",
    "| 'empty' | 'empty' | normal case 1? | Yes |  |\n",
    "| 'halffull' | 'halffull' | normal case 2? | Yes |  |\n",
    "| [] | 'empty' | no coins? | Yes |  |\n",
    "| 'empty' | 'packed' | no reachable coins? | Yes |  |\n",
    "| 'empty' | 'halffull' | some unreachable coins? | Yes |  |"
   ]
  },
  {
   "cell_type": "markdown",
   "metadata": {},
   "source": [
    "##### `make_goal()` - Test 2\n",
    "\n",
    "**Test cases:**\n",
    "| coins | crate_map & positions |  Can it handle | Result | Issue |\n",
    "| --- | --- | --- | --- | --- |\n",
    "| 'empty' | 'empty' | normal case 1? | Yes |  |\n",
    "| 'halffull' | 'halffull' | normal case 2? | Yes |  |\n",
    "| [] | 'empty' | no coins? | No | special case can't handle empty array |\n",
    "| 'empty' | 'packed' | no reachable coins? |  |  |\n",
    "| 'empty' | 'halffull' | some unreachable coins? |  |  |"
   ]
  },
  {
   "cell_type": "markdown",
   "metadata": {},
   "source": [
    "##### `make_goal()` - Test 1\n",
    "\n",
    "\n",
    "**Test cases:**\n",
    "| coins | crate_map & positions |  Can it handle | Result | Issue |\n",
    "| --- | --- | --- | --- | --- |\n",
    "| 'empty' | 'empty' | normal case 1? | No | goal[4] is True when it shouldn't be |\n",
    "| 'halffull' | 'halffull' | normal case 2? |  |  |\n",
    "| [] | 'empty' | no coins? |  |  |\n",
    "| 'empty' | 'packed' | no reachable coins? |  |  |\n",
    "| 'empty' | 'halffull' | some unreachable coins? |  |  |"
   ]
  },
  {
   "cell_type": "markdown",
   "metadata": {},
   "source": [
    "#### Testing `select_nearest()`"
   ]
  },
  {
   "cell_type": "code",
   "execution_count": 22,
   "metadata": {},
   "outputs": [],
   "source": [
    "def select_nearest (positions, distance_map):\n",
    "    \"\"\"\n",
    "    \"\"\"\n",
    "\n",
    "    if len(positions) > 0:\n",
    "        positions_array   = np.array(positions)\n",
    "        positions_tuple   = tuple(positions_array.T)\n",
    "        min_distance_mask = distance_map[positions_tuple] == np.amin(distance_map[positions_tuple])\n",
    "        nearest_positions = positions_array[min_distance_mask]\n",
    "    else:\n",
    "        nearest_positions = np.array([])    \n",
    "    \n",
    "    return nearest_positions"
   ]
  },
  {
   "cell_type": "markdown",
   "metadata": {},
   "source": [
    "[[x1, y1],\n",
    " [x2, y2],\n",
    " ...     ]"
   ]
  },
  {
   "cell_type": "code",
   "execution_count": 23,
   "metadata": {},
   "outputs": [
    {
     "name": "stdout",
     "output_type": "stream",
     "text": [
      "Position: (15, 1) \n",
      "best_coins: \n",
      "[]\n",
      "\n"
     ]
    }
   ],
   "source": [
    "# Testing select_nearest()\n",
    "crate_map    = packed_game_field\n",
    "coins        = coins_empty_field\n",
    "positions    = positions_packed_field\n",
    "\n",
    "for i, own_position in enumerate(positions):\n",
    "    distance_map, reachability_map, _ \\\n",
    "                    = proximity_map(own_position, crate_map)\n",
    "    reachable_coins = select_reachable(coins, reachability_map)\n",
    "    best_coins      = select_nearest(reachable_coins, distance_map)\n",
    "    \n",
    "    print(f\"Position: {str(own_position):8}\")\n",
    "    print(f\"best_coins: \\n{best_coins}\\n\")"
   ]
  },
  {
   "cell_type": "markdown",
   "metadata": {},
   "source": [
    "##### `select_nearest()` - Test 2\n",
    "\n",
    "**Current Status:**\n",
    "All issues fixed.\n",
    "\n",
    "**Test cases:**\n",
    "| coins | crate_map & positions |  Can it handle | Result | Issue |\n",
    "| --- | --- | --- | --- | --- |\n",
    "| 'empty' | 'empty' | normal case 1? | Yes |  |\n",
    "| 'halffull' | 'halffull' | normal case 2? | Yes |  |\n",
    "| [] | 'empty' | no coins? | Yes |  |\n",
    "| 'empty' | 'packed' | no reachable coins? | Yes |  |\n",
    "| 'empty' | 'halffull' | some unreachable coins? | Yes |  |\n",
    "\n",
    "Notes:\n",
    "* can also handle coins on own position"
   ]
  },
  {
   "cell_type": "markdown",
   "metadata": {},
   "source": [
    "##### `select_nearest()` - Test 1 \n",
    "**Test cases:**\n",
    "| coins | crate_map & positions |  Can it handle | Result | Issue |\n",
    "| --- | --- | --- | --- | --- |\n",
    "| 'empty' | 'empty' | normal case 1? | Yes |  |\n",
    "| 'halffull' | 'halffull' | normal case 2? | Yes |  |\n",
    "| [] | 'empty' | no coins? | No | bug breaks function |\n",
    "| 'empty' | 'packed' | no reachable coins? | No | returns all coins |\n",
    "| 'empty' | 'halffull' | some unreachable coins? | Yes |  |\n",
    "\n",
    "Notes:\n",
    "* can also handle coins on own position"
   ]
  },
  {
   "cell_type": "markdown",
   "metadata": {},
   "source": [
    "#### Testing `select_reachable()`"
   ]
  },
  {
   "cell_type": "code",
   "execution_count": 19,
   "metadata": {},
   "outputs": [],
   "source": [
    "def select_reachable (positions, reachability_map):\n",
    "    \"\"\"\n",
    "    \"\"\"\n",
    "\n",
    "    if len(positions) > 0:\n",
    "        positions_array     = np.array(positions)\n",
    "        positions_tuple     = tuple(positions_array.T)\n",
    "        reachable_mask      = reachability_map[positions_tuple]\n",
    "        reachable_positions = positions_array[reachable_mask] \n",
    "    else:\n",
    "        reachable_positions = np.array(positions)\n",
    "\n",
    "    return reachable_positions"
   ]
  },
  {
   "cell_type": "code",
   "execution_count": 20,
   "metadata": {},
   "outputs": [
    {
     "name": "stdout",
     "output_type": "stream",
     "text": [
      "All coins: []\n",
      "reachable_coins: <class 'numpy.ndarray'>\n",
      "[]\n",
      "\n"
     ]
    }
   ],
   "source": [
    "# Testing select_reachable()\n",
    "crate_map    = packed_game_field\n",
    "coins        = []\n",
    "\n",
    "_, reachability_map, _ = proximity_map((15, 1), crate_map)\n",
    "reachable_coins        = select_reachable(coins, reachability_map)\n",
    "\n",
    "print(f\"All coins: {coins}\")\n",
    "print(f\"reachable_coins: {type(reachable_coins)}\\n{reachable_coins}\\n\")"
   ]
  },
  {
   "cell_type": "markdown",
   "metadata": {},
   "source": [
    "##### `select_reachable()` - Test 1\n",
    "\n",
    "**Current Status:**\n",
    "All issues fixed.\n",
    "\n",
    "**Test cases:**\n",
    "| coins | crate_map |  Can it handle | Result | Issue |\n",
    "| --- | --- | --- | --- | --- |\n",
    "| 'empty' | 'empty' | normal case 1? | Yes |  |\n",
    "| 'halffull' | 'halffull' | normal case 2? | Yes |  |\n",
    "| 'empty' | 'packed' | no reachable coins | Yes |  |\n",
    "| 'halffull' | 'packed' | some reachable coins | Yes |  |\n",
    "| [] | 'empty' | no coins | Yes* | Output should be array not list |\n",
    "\n",
    "Notes:\n",
    "* In this test coin positions were used but they are representative of any list of coordinates."
   ]
  },
  {
   "cell_type": "markdown",
   "metadata": {},
   "source": [
    "### To do"
   ]
  },
  {
   "cell_type": "markdown",
   "metadata": {},
   "source": [
    "**To do `crate_goals`**\n",
    "* Add capability to ignore bomb places where suicides are guaranteed.\n",
    "* Add capability to factor in existing bombs.\n",
    "* Consider time until next bomb can be placed into total_time calculation.\n"
   ]
  },
  {
   "cell_type": "markdown",
   "metadata": {},
   "source": [
    "**Todo danger calculations**\n",
    "* Talk about merging `going_is_suicide` and `waiting_is_suicide`"
   ]
  },
  {
   "cell_type": "markdown",
   "metadata": {},
   "source": [
    "To do `coin_goals`\n",
    "\n",
    "Done:\n",
    "* Figure out what to do when no coins are reachable\n",
    "* Does the code work if no coins are present?"
   ]
  },
  {
   "cell_type": "markdown",
   "metadata": {},
   "source": [
    "Todo `make_goals()`\n",
    "\n",
    "Done:\n",
    "* Add capability for own_spot to be goal."
   ]
  },
  {
   "cell_type": "markdown",
   "metadata": {},
   "source": [
    "### Old prototype `coin_goals()`"
   ]
  },
  {
   "cell_type": "code",
   "execution_count": 38,
   "metadata": {},
   "outputs": [],
   "source": [
    "def coin_goals (distance_map, direction_map, coins):\n",
    "    coin_array         = np.array(coins)\n",
    "    coin_tuple         = tuple(coin_array.T)\n",
    "    min_distance_mask  = distance_map[coin_tuple] == np.amin(distance_map[coin_tuple])\n",
    "    nearest_coins      = coin_array[min_distance_mask]\n",
    "    nearest_coin_tuple = tuple(nearest_coins.T)\n",
    "    coin_directions    = direction_map[nearest_coin_tuple]\n",
    "    goals              = np.any(coin_directions, axis = 0)\n",
    "\n",
    "    return goals"
   ]
  },
  {
   "cell_type": "code",
   "execution_count": 52,
   "metadata": {},
   "outputs": [
    {
     "name": "stdout",
     "output_type": "stream",
     "text": [
      "Position: (11, 5) ,  Expected: [1 1 1 1],  Calculated: [ True  True  True  True],  Same: True\n",
      "Position: (9, 7)  ,  Expected: [1 1 0 1],  Calculated: [ True  True False  True],  Same: True\n",
      "Position: (7, 5)  ,  Expected: [0 1 1 0],  Calculated: [False  True  True False],  Same: True\n",
      "Position: (13, 9) ,  Expected: [1 0 0 1],  Calculated: [ True False False  True],  Same: True\n",
      "Position: (9, 9)  ,  Expected: [0 0 0 1],  Calculated: [False False False  True],  Same: True\n",
      "Position: (5, 7)  ,  Expected: [0 1 0 0],  Calculated: [False  True False False],  Same: True\n",
      "Position: (5, 8)  ,  Expected: [1 0 0 0],  Calculated: [ True False False False],  Same: True\n"
     ]
    }
   ],
   "source": [
    "# Testing coin_goals()\n",
    "crate_map    = empty_game_field\n",
    "coins        = coins_empty_field\n",
    "expectation  = goals_empty_field\n",
    "positions    = positions_empty_field\n",
    "\n",
    "for i, own_position in enumerate(positions):\n",
    "    distance_map, reachability_map, direction_map = proximity_map(own_position, crate_map)\n",
    "    goals = coin_goals(distance_map, direction_map, coins)\n",
    "    print(f\"Position: {str(own_position):8},  Expected: {expectation[i]},  Calculated: {goals}, \" \\\n",
    "          f\" Same: {np.all(expectation[i] == goals)}\")\n"
   ]
  },
  {
   "cell_type": "code",
   "execution_count": 53,
   "metadata": {},
   "outputs": [
    {
     "name": "stdout",
     "output_type": "stream",
     "text": [
      "Position: (11, 5) ,  Expected: [1 1 1 1],  Calculated: [ True  True  True  True],  Same: True\n",
      "Position: (13, 7) ,  Expected: [1 1 0 1],  Calculated: [ True  True False  True],  Same: True\n",
      "Position: (15, 4) ,  Expected: [1 0 1 0],  Calculated: [ True False  True False],  Same: True\n",
      "Position: (13, 2) ,  Expected: [0 0 1 0],  Calculated: [False False  True False],  Same: True\n",
      "Position: (7, 5)  ,  Expected: [0 1 0 1],  Calculated: [False  True False  True],  Same: True\n",
      "Position: (13, 8) ,  Expected: [1 0 0 0],  Calculated: [ True False False False],  Same: True\n"
     ]
    }
   ],
   "source": [
    "# Testing coin_goals()\n",
    "crate_map    = halffull_game_field\n",
    "coins        = coins_halffull_field\n",
    "expectation  = goals_halffull_field\n",
    "positions    = positions_halffull_field\n",
    "\n",
    "for i, own_position in enumerate(positions):\n",
    "    distance_map, reachability_map, direction_map = proximity_map(own_position, crate_map)\n",
    "    goals = coin_goals(distance_map, direction_map, coins)\n",
    "    print(f\"Position: {str(own_position):8},  Expected: {expectation[i]},  Calculated: {goals}, \" \\\n",
    "          f\" Same: {np.all(expectation[i] == goals)}\")"
   ]
  },
  {
   "cell_type": "code",
   "execution_count": 36,
   "metadata": {},
   "outputs": [],
   "source": [
    "# Example data for coin goals prototype\n",
    "own_position = positions_empty_field[0]\n",
    "crate_map    = empty_game_field\n",
    "coins        = coins_empty_field\n",
    "\n",
    "distance_map, reachability_map, direction_map = proximity_map(own_position, crate_map)"
   ]
  },
  {
   "cell_type": "code",
   "execution_count": 37,
   "metadata": {},
   "outputs": [
    {
     "name": "stdout",
     "output_type": "stream",
     "text": [
      "[ True  True  True  True]\n",
      "[[False False False  True]\n",
      " [ True False False False]\n",
      " [False False  True False]\n",
      " [False  True False False]]\n",
      "(array([ 9, 11, 11, 13]), array([5, 3, 7, 5]))\n",
      "[[ 9  5]\n",
      " [11  3]\n",
      " [11  7]\n",
      " [13  5]]\n",
      "[False False  True  True  True  True]\n",
      "2\n",
      "[6 7 2 2 2 2]\n",
      "(array([ 7,  7,  9, 11, 11, 13]), array([7, 8, 5, 3, 7, 5]))\n",
      "[[ 7  7]\n",
      " [ 7  8]\n",
      " [ 9  5]\n",
      " [11  3]\n",
      " [11  7]\n",
      " [13  5]]\n"
     ]
    }
   ],
   "source": [
    "# Prototyping coin goals\n",
    "\n",
    "coin_array         = np.array(coins)\n",
    "coin_tuple         = tuple(coin_array.T)\n",
    "min_distance_mask  = distance_map[coin_tuple] == np.amin(distance_map[coin_tuple])\n",
    "nearest_coins      = coin_array[min_distance_mask]\n",
    "nearest_coin_tuple = tuple(nearest_coins.T)\n",
    "coin_directions    = direction_map[nearest_coin_tuple]\n",
    "goals              = np.any(coin_directions, axis = 0)\n",
    "\n",
    "print(goals)\n",
    "print(coin_directions)\n",
    "print(nearest_coin_tuple)\n",
    "print(nearest_coins)\n",
    "print(min_distance_mask)\n",
    "print(np.amin(distance_map[coin_tuple]))\n",
    "print(distance_map[coin_tuple])\n",
    "print(coin_tuple)\n",
    "print(coin_array)"
   ]
  }
 ],
 "metadata": {
  "interpreter": {
   "hash": "9c6cebfa2f6916454f586e38d7dc74344caa14c114dff9b64499406f6acbdf5c"
  },
  "kernelspec": {
   "display_name": "Python 3.10.0 ('bomberman')",
   "language": "python",
   "name": "python3"
  },
  "language_info": {
   "codemirror_mode": {
    "name": "ipython",
    "version": 3
   },
   "file_extension": ".py",
   "mimetype": "text/x-python",
   "name": "python",
   "nbconvert_exporter": "python",
   "pygments_lexer": "ipython3",
   "version": "3.10.0"
  },
  "orig_nbformat": 4
 },
 "nbformat": 4,
 "nbformat_minor": 2
}
