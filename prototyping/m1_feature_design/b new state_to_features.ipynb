{
 "cells": [
  {
   "cell_type": "code",
   "execution_count": 2,
   "metadata": {},
   "outputs": [],
   "source": [
    "import numpy as np\n",
    "import matplotlib.pyplot as plt"
   ]
  },
  {
   "cell_type": "code",
   "execution_count": 6,
   "metadata": {},
   "outputs": [],
   "source": [
    "# Global Constants\n",
    "DIRECTIONS         = np.array([(0, -1), (1, 0), (0, 1), (-1, 0)])   # UP, RIGHT, DOWN, LEFT\n",
    "DEFAULT_DISTANCE   = 99\n",
    "BOMB_COOLDOWN_TIME = 7\n"
   ]
  },
  {
   "cell_type": "code",
   "execution_count": 4,
   "metadata": {},
   "outputs": [],
   "source": [
    "def proximity_map (own_position, game_field):\n",
    "    \"\"\"\n",
    "    calculates three values for each tile of the game field:\n",
    "    1. travel time aka. distance from own position\n",
    "    2. if tile is reachable from own position or blocked\n",
    "    3. in which directions one can initially go to reach that tile as quick as possible\n",
    "\n",
    "    Arguments\n",
    "    ---------\n",
    "    own_position : tuple (x, y)\n",
    "        with x and y being current coordinates coordinates of the agent \n",
    "        on the game field. Thus 0 < x < COLS-1, 0 < y < ROWS-1.\n",
    "    game_field   : np.array, shape = (COLS, ROWS)\n",
    "        = game_state['field']\n",
    "\n",
    "    Returns\n",
    "    -------\n",
    "    travel_time_map         : np.array, shape like game_field, dtype = int\n",
    "        Reachable tiles have the value of the number of steps it takes to move to them \n",
    "        from own_position.\n",
    "        Unreachable tiles have the value of DEFAULT_TRAVEL_TIME which is much higher than \n",
    "        any reachable time.\n",
    "    reachable_map           : np.array, shape like game_field, dtype = bool\n",
    "        A boolean mask of travel_time_map that labels reachable tiles as True and \n",
    "        unreachable ones as False.\n",
    "    original_directions_map : np.array, shape = (COLS, ROWS, 4), dtype = bool\n",
    "        A map of the game_field that holds a 4-element boolean array for every tile.\n",
    "        Values of the tile's array correspond to the 4 directions UP, RIGHT, DOWN, LEFT \n",
    "        which you might from own_position to reach the tile. Those direction which lead you \n",
    "        to reach the tile the fastest are marked True, the others False.\n",
    "        For example, if you can reach a tile the fastest by either going UP or RIGHT at the step\n",
    "        then its array will look like this [TRUE, TRUE, FALSE, FALSE].\n",
    "        This map will be important to quickly find the best direction towards coins, crates,\n",
    "        opponents and more.\n",
    "    \"\"\"\n",
    "\n",
    "\n",
    "    # Setup of initial values\n",
    "    distance_map  = np.full_like(game_field, DEFAULT_DISTANCE)\n",
    "    direction_map = np.full((*game_field.shape, 4), False)\n",
    "\n",
    "    distance_map[own_position] = 0\n",
    "    for i, dir in enumerate(DIRECTIONS):\n",
    "        neighbor = tuple(dir + np.array(own_position))\n",
    "        if game_field[neighbor] == 0:   # If neighbor is a free field\n",
    "            direction_map[neighbor][i] = True\n",
    "    \n",
    "\n",
    "    # Breadth first search for proximity values to all reachable spots\n",
    "    frontier = [own_position]\n",
    "    while len(frontier) > 0:\n",
    "        current = frontier.pop(0)\n",
    "        \n",
    "        for dir in DIRECTIONS:\n",
    "            neighbor = tuple(dir + np.array(current))\n",
    "            \n",
    "            # Update travel time to `neighbor` field\n",
    "            if game_field[neighbor] == 0:   # If neighbor is a free field\n",
    "                time = distance_map[current] + 1\n",
    "                if distance_map[neighbor] > time:\n",
    "                    distance_map[neighbor] = time\n",
    "                    frontier.append(neighbor)\n",
    "                    \n",
    "                    # Update original direction for `neighbor` field\n",
    "                    if time > 1:\n",
    "                        direction_map[neighbor] = direction_map[current]\n",
    "                        \n",
    "                # Combine orginial directions if travel times are equal\n",
    "                elif distance_map[neighbor] == time:\n",
    "                    direction_map[neighbor] = np.logical_or(\n",
    "                        direction_map[neighbor], direction_map[current])\n",
    "\n",
    "\n",
    "    # Derivation of reachability_map\n",
    "    reachability_map = distance_map != DEFAULT_DISTANCE\n",
    "\n",
    "\n",
    "    return distance_map, reachability_map, direction_map"
   ]
  },
  {
   "cell_type": "code",
   "execution_count": 56,
   "metadata": {},
   "outputs": [],
   "source": [
    "def nearest_coins (distance_map, coins):\n",
    "    \"\"\"\n",
    "    \"\"\"\n",
    "\n",
    "    coin_array         = np.array(coins)\n",
    "    coin_tuple         = tuple(coin_array.T)\n",
    "    min_distance_mask  = distance_map[coin_tuple] == np.min(distance_map[coin_tuple])\n",
    "    nearest_coins      = coin_array[min_distance_mask]\n",
    "    \n",
    "    return nearest_coins"
   ]
  },
  {
   "cell_type": "code",
   "execution_count": 59,
   "metadata": {},
   "outputs": [],
   "source": [
    "def crate_destruction_map (crate_map, bombs):\n",
    "    pass"
   ]
  },
  {
   "cell_type": "code",
   "execution_count": 60,
   "metadata": {},
   "outputs": [],
   "source": [
    "def best_crates_to_bomb (distance_map, number_of_crates_destroyed_map):\n",
    "    \"\"\"\n",
    "    \"\"\"    \n",
    "    \n",
    "    total_time_map        = distance_map + BOMB_COOLDOWN_TIME\n",
    "    destruction_speed_map = number_of_crates_destroyed_map / total_time_map\n",
    "    \n",
    "    best_crates_mask = np.isclose(destruction_speed_map, np.max(destruction_speed_map))\n",
    "    best_crates      = np.array(np.where(best_crates_mask)).T\n",
    "    \n",
    "    return best_crates"
   ]
  },
  {
   "cell_type": "code",
   "execution_count": null,
   "metadata": {},
   "outputs": [],
   "source": [
    "def crate_goals (distance_map, direction_map, crate_map, bombs):\n",
    "    best_crates = best_crates_to_bomb(distance_map, crate_map, bombs)\n",
    "\n",
    "    best_crates_tuple = tuple(best_crates.T)\n",
    "    crate_directions  = direction_map[best_crates_tuple]\n",
    "    crate_goals       = np.any(crate_directions, axis = 0)\n",
    "\n",
    "    return crate_goals"
   ]
  },
  {
   "cell_type": "code",
   "execution_count": 55,
   "metadata": {},
   "outputs": [],
   "source": [
    "def make_goals (positions, direction_map):\n",
    "    \"\"\"\n",
    "    \"\"\"\n",
    "\n",
    "    positions_tuple = tuple(positions.T)\n",
    "    goal_directions = direction_map[positions_tuple]\n",
    "    goals           = np.any(goal_directions, axis = 0)\n",
    "\n",
    "    return goals"
   ]
  },
  {
   "cell_type": "code",
   "execution_count": 58,
   "metadata": {},
   "outputs": [],
   "source": [
    "def state_to_features (game_state):\n",
    "    \"\"\"\n",
    "    \"\"\"\n",
    "    \n",
    "    \n",
    "    # 0. relevant game_state info\n",
    "    own_position = game_state['self'][3]\n",
    "    crate_map    = game_state['field']\n",
    "    coins        = game_state['coins']\n",
    "    bombs        = game_state['bombs']\n",
    "\n",
    "\n",
    "    # 1. Check game mode\n",
    "    mode = 0   #! Placeholder\n",
    "\n",
    "\n",
    "    # 2. Calculate proximity map\n",
    "    distance_map, reachability_map, direction_map = proximity_map(own_position, crate_map)\n",
    "\n",
    "\n",
    "    # 3. Check for danger and lethal danger\n",
    "    waiting_is_suicide = False   #! Placeholder\n",
    "    going_is_suicide   = np.full(4, False)   #! Placeholder\n",
    "    safe_directions    = np.full(4, False)   #! Placeholder\n",
    "    \n",
    "\n",
    "    # 4. Compute goal direction\n",
    "    if mode == 0:\n",
    "        best_coins = nearest_coins(distance_map, coins)\n",
    "        goals      = make_goals(best_coins, direction_map)\n",
    "\n",
    "    if mode == 1:\n",
    "        crates_destroyed = crate_destruction_map(crate_map, bombs)\n",
    "        best_crates      = best_crates_to_bomb(distance_map, crates_destroyed)\n",
    "        goals            = make_goals(best_crates, direction_map)\n",
    "    \n",
    "    if mode == 2:\n",
    "        #! Not yet implemented -> For CoinHunter\n",
    "        goals = np.full(4, False)   #! Placeholder\n",
    "\n",
    "\n",
    "    # 5. Assemble feature array\n",
    "    features = np.full(6, 1)\n",
    "    \n",
    "    # Directions (f1 - f4)\n",
    "    for i in range(4):\n",
    "        neighbor = tuple(np.array(own_position) + DIRECTIONS[i])\n",
    "        if going_is_suicide[i] or not reachability_map[neighbor]:\n",
    "            features[i] = 0\n",
    "        elif safe_directions[i] and goals[i]:\n",
    "            features[i] = 4\n",
    "        elif safe_directions[i]:\n",
    "            features[i] = 2\n",
    "        elif goals[i]:\n",
    "            features[i] = 3\n",
    "\n",
    "    # Own spot (f5)\n",
    "    if waiting_is_suicide:\n",
    "        features[4] = 0\n",
    "    elif goals[5]:   # = own spot is a goal\n",
    "        features[4] = 2\n",
    "        \n",
    "    # Mode (f6)\n",
    "    features[5] = mode\n",
    "\n",
    "\n",
    "    return features"
   ]
  },
  {
   "cell_type": "markdown",
   "metadata": {},
   "source": [
    "### Testing & prototyping"
   ]
  },
  {
   "cell_type": "code",
   "execution_count": 7,
   "metadata": {},
   "outputs": [],
   "source": [
    "# Test crate maps\n",
    "empty_game_field = np.array(\n",
    "    [[-1, -1, -1, -1, -1, -1, -1, -1, -1, -1, -1, -1, -1, -1, -1, -1, -1],\n",
    "     [-1,  0,  0,  0,  0,  0,  0,  0,  0,  0,  0,  0,  0,  0,  0,  0, -1],\n",
    "     [-1,  0, -1,  0, -1,  0, -1,  0, -1,  0, -1,  0, -1,  0, -1,  0, -1],\n",
    "     [-1,  0,  0,  0,  0,  0,  0,  0,  0,  0,  0,  0,  0,  0,  0,  0, -1],\n",
    "     [-1,  0, -1,  0, -1,  0, -1,  0, -1,  0, -1,  0, -1,  0, -1,  0, -1],\n",
    "     [-1,  0,  0,  0,  0,  0,  0,  0,  0,  0,  0,  0,  0,  0,  0,  0, -1],\n",
    "     [-1,  0, -1,  0, -1,  0, -1,  0, -1,  0, -1,  0, -1,  0, -1,  0, -1],\n",
    "     [-1,  0,  0,  0,  0,  0,  0,  0,  0,  0,  0,  0,  0,  0,  0,  0, -1],\n",
    "     [-1,  0, -1,  0, -1,  0, -1,  0, -1,  0, -1,  0, -1,  0, -1,  0, -1],\n",
    "     [-1,  0,  0,  0,  0,  0,  0,  0,  0,  0,  0,  0,  0,  0,  0,  0, -1],\n",
    "     [-1,  0, -1,  0, -1,  0, -1,  0, -1,  0, -1,  0, -1,  0, -1,  0, -1],\n",
    "     [-1,  0,  0,  0,  0,  0,  0,  0,  0,  0,  0,  0,  0,  0,  0,  0, -1],\n",
    "     [-1,  0, -1,  0, -1,  0, -1,  0, -1,  0, -1,  0, -1,  0, -1,  0, -1],\n",
    "     [-1,  0,  0,  0,  0,  0,  0,  0,  0,  0,  0,  0,  0,  0,  0,  0, -1],\n",
    "     [-1,  0, -1,  0, -1,  0, -1,  0, -1,  0, -1,  0, -1,  0, -1,  0, -1],\n",
    "     [-1,  0,  0,  0,  0,  0,  0,  0,  0,  0,  0,  0,  0,  0,  0,  0, -1],\n",
    "     [-1, -1, -1, -1, -1, -1, -1, -1, -1, -1, -1, -1, -1, -1, -1, -1, -1]]\n",
    ")\n",
    "\n",
    "halffull_game_field = np.array(\n",
    "    [[-1, -1, -1, -1, -1, -1, -1, -1, -1, -1, -1, -1, -1, -1, -1, -1, -1],\n",
    "     [-1,  0,  0,  1,  1,  1,  0,  1,  1,  1,  1,  0,  1,  0,  0,  0, -1],\n",
    "     [-1,  0, -1,  1, -1,  1, -1,  1, -1,  1, -1,  1, -1,  0, -1,  0, -1],\n",
    "     [-1,  1,  0,  1,  0,  1,  1,  0,  0,  1,  1,  1,  0,  1,  1,  1, -1],\n",
    "     [-1,  1, -1,  1, -1,  1, -1,  1, -1,  0, -1,  0, -1,  1, -1,  1, -1],\n",
    "     [-1,  1,  0,  1,  0,  0,  0,  1,  1,  1,  0,  0,  1,  0,  1,  1, -1],\n",
    "     [-1,  0, -1,  0, -1,  0, -1,  1, -1,  1, -1,  1, -1,  1, -1,  1, -1],\n",
    "     [-1,  0,  0,  1,  1,  0,  1,  1,  0,  1,  1,  1,  0,  1,  1,  1, -1],\n",
    "     [-1,  1, -1,  1, -1,  0, -1,  0, -1,  0, -1,  0, -1,  1, -1,  0, -1],\n",
    "     [-1,  1,  0,  0,  0,  0,  0,  0,  0,  1,  1,  1,  0,  0,  0,  0, -1],\n",
    "     [-1,  1, -1,  0, -1,  0, -1,  0, -1,  1, -1,  1, -1,  1, -1,  1, -1],\n",
    "     [-1,  0,  0,  0,  0,  0,  0,  0,  0,  1,  0,  1,  1,  1,  0,  1, -1],\n",
    "     [-1,  1, -1,  1, -1,  0, -1,  0, -1,  1, -1,  1, -1,  1, -1,  1, -1],\n",
    "     [-1,  1,  0,  0,  0,  0,  0,  0,  0,  0,  0,  1,  1,  1,  1,  1, -1],\n",
    "     [-1,  0, -1,  1, -1,  0, -1,  0, -1,  1, -1,  1, -1,  1, -1,  0, -1],\n",
    "     [-1,  0,  0,  0,  0,  0,  0,  0,  0,  1,  1,  1,  1,  1,  0,  0, -1],\n",
    "     [-1, -1, -1, -1, -1, -1, -1, -1, -1, -1, -1, -1, -1, -1, -1, -1, -1]]\n",
    ")\n",
    "\n",
    "packed_game_field = np.array(\n",
    "    [[-1, -1, -1, -1, -1, -1, -1, -1, -1, -1, -1, -1, -1, -1, -1, -1, -1],\n",
    "     [-1,  0,  0,  1,  1,  1,  1,  1,  1,  1,  1,  1,  1,  0,  0,  0, -1],\n",
    "     [-1,  0, -1,  1, -1,  1, -1,  1, -1,  1, -1,  0, -1,  1, -1,  0, -1],\n",
    "     [-1,  1,  1,  0,  1,  1,  1,  1,  1,  1,  1,  1,  1,  1,  0,  1, -1],\n",
    "     [-1,  1, -1,  1, -1,  0, -1,  1, -1,  1, -1,  1, -1,  1, -1,  1, -1],\n",
    "     [-1,  1,  1,  1,  1,  1,  0,  1,  0,  1,  0,  1,  0,  0,  1,  0, -1],\n",
    "     [-1,  1, -1,  0, -1,  1, -1,  1, -1,  1, -1,  1, -1,  0, -1,  0, -1],\n",
    "     [-1,  0,  1,  1,  1,  1,  1,  1,  1,  0,  1,  1,  1,  1,  1,  1, -1],\n",
    "     [-1,  1, -1,  1, -1,  1, -1,  1, -1,  1, -1,  1, -1,  0, -1,  1, -1],\n",
    "     [-1,  1,  1,  0,  1,  1,  0,  0,  0,  1,  1,  1,  1,  1,  1,  1, -1],\n",
    "     [-1,  1, -1,  1, -1,  1, -1,  0, -1,  1, -1,  1, -1,  1, -1,  0, -1],\n",
    "     [-1,  1,  1,  1,  1,  1,  1,  1,  1,  1,  1,  1,  1,  0,  1,  0, -1],\n",
    "     [-1,  1, -1,  0, -1,  1, -1,  0, -1,  1, -1,  1, -1,  1, -1,  1, -1],\n",
    "     [-1,  0,  1,  1,  1,  1,  1,  1,  0,  1,  1,  1,  0,  1,  1,  0, -1],\n",
    "     [-1,  0, -1,  1, -1,  0, -1,  0, -1,  0, -1,  0, -1,  1, -1,  0, -1],\n",
    "     [-1,  0,  0,  1,  1,  1,  1,  1,  1,  1,  0,  1,  1,  1,  0,  0, -1],\n",
    "     [-1, -1, -1, -1, -1, -1, -1, -1, -1, -1, -1, -1, -1, -1, -1, -1, -1]]\n",
    ")"
   ]
  },
  {
   "cell_type": "code",
   "execution_count": 8,
   "metadata": {},
   "outputs": [],
   "source": [
    "# Test coin lists\n",
    "coins_empty_field    = [(7, 7), (7, 8), (9, 5), (11, 3), (11, 7), (13, 5)]\n",
    "coins_halffull_field = [(5, 5), (9, 5), (11, 3), (11, 7), (13, 5), (14, 1), (15, 1), (15, 7)]"
   ]
  },
  {
   "cell_type": "code",
   "execution_count": 9,
   "metadata": {},
   "outputs": [],
   "source": [
    "# Test positions\n",
    "positions_empty_field    = [(11, 5), (9, 7), (7, 5), (13, 9), (9, 9), (5, 7), (5, 8)]\n",
    "positions_halffull_field = [(11, 5), (13, 7), (15, 4), (13, 2), (7, 5), (13, 8)]"
   ]
  },
  {
   "cell_type": "code",
   "execution_count": 46,
   "metadata": {},
   "outputs": [],
   "source": [
    "# Expected outcomes\n",
    "goals_empty_field   = np.array( \\\n",
    "    [[1, 1, 1, 1],\n",
    "     [1, 1, 0, 1],\n",
    "     [0, 1, 1, 0],\n",
    "     [1, 0, 0, 1],\n",
    "     [0, 0, 0, 1],\n",
    "     [0, 1, 0, 0],\n",
    "     [1, 0, 0, 0]]\n",
    ")\n",
    "\n",
    "goals_halffull_field = np.array( \\\n",
    "    [[1, 1, 1, 1],\n",
    "     [1, 1, 0, 1],\n",
    "     [1, 0, 1, 0],\n",
    "     [0, 0, 1, 0],\n",
    "     [0, 1, 0, 1],\n",
    "     [1, 0, 0, 0]]\n",
    ")"
   ]
  },
  {
   "cell_type": "code",
   "execution_count": 38,
   "metadata": {},
   "outputs": [],
   "source": [
    "def coin_goals (distance_map, direction_map, coins):\n",
    "    coin_array         = np.array(coins)\n",
    "    coin_tuple         = tuple(coin_array.T)\n",
    "    min_distance_mask  = distance_map[coin_tuple] == np.min(distance_map[coin_tuple])\n",
    "    nearest_coins      = coin_array[min_distance_mask]\n",
    "    nearest_coin_tuple = tuple(nearest_coins.T)\n",
    "    coin_directions    = direction_map[nearest_coin_tuple]\n",
    "    goals              = np.any(coin_directions, axis = 0)\n",
    "\n",
    "    return goals"
   ]
  },
  {
   "cell_type": "code",
   "execution_count": 52,
   "metadata": {},
   "outputs": [
    {
     "name": "stdout",
     "output_type": "stream",
     "text": [
      "Position: (11, 5) ,  Expected: [1 1 1 1],  Calculated: [ True  True  True  True],  Same: True\n",
      "Position: (9, 7)  ,  Expected: [1 1 0 1],  Calculated: [ True  True False  True],  Same: True\n",
      "Position: (7, 5)  ,  Expected: [0 1 1 0],  Calculated: [False  True  True False],  Same: True\n",
      "Position: (13, 9) ,  Expected: [1 0 0 1],  Calculated: [ True False False  True],  Same: True\n",
      "Position: (9, 9)  ,  Expected: [0 0 0 1],  Calculated: [False False False  True],  Same: True\n",
      "Position: (5, 7)  ,  Expected: [0 1 0 0],  Calculated: [False  True False False],  Same: True\n",
      "Position: (5, 8)  ,  Expected: [1 0 0 0],  Calculated: [ True False False False],  Same: True\n"
     ]
    }
   ],
   "source": [
    "# Testing coin_goals()\n",
    "crate_map    = empty_game_field\n",
    "coins        = coins_empty_field\n",
    "expectation  = goals_empty_field\n",
    "positions    = positions_empty_field\n",
    "\n",
    "for i, own_position in enumerate(positions):\n",
    "    distance_map, reachability_map, direction_map = proximity_map(own_position, crate_map)\n",
    "    goals = coin_goals(distance_map, direction_map, coins)\n",
    "    print(f\"Position: {str(own_position):8},  Expected: {expectation[i]},  Calculated: {goals}, \" \\\n",
    "          f\" Same: {np.all(expectation[i] == goals)}\")\n"
   ]
  },
  {
   "cell_type": "code",
   "execution_count": 53,
   "metadata": {},
   "outputs": [
    {
     "name": "stdout",
     "output_type": "stream",
     "text": [
      "Position: (11, 5) ,  Expected: [1 1 1 1],  Calculated: [ True  True  True  True],  Same: True\n",
      "Position: (13, 7) ,  Expected: [1 1 0 1],  Calculated: [ True  True False  True],  Same: True\n",
      "Position: (15, 4) ,  Expected: [1 0 1 0],  Calculated: [ True False  True False],  Same: True\n",
      "Position: (13, 2) ,  Expected: [0 0 1 0],  Calculated: [False False  True False],  Same: True\n",
      "Position: (7, 5)  ,  Expected: [0 1 0 1],  Calculated: [False  True False  True],  Same: True\n",
      "Position: (13, 8) ,  Expected: [1 0 0 0],  Calculated: [ True False False False],  Same: True\n"
     ]
    }
   ],
   "source": [
    "# Testing coin_goals()\n",
    "crate_map    = halffull_game_field\n",
    "coins        = coins_halffull_field\n",
    "expectation  = goals_halffull_field\n",
    "positions    = positions_halffull_field\n",
    "\n",
    "for i, own_position in enumerate(positions):\n",
    "    distance_map, reachability_map, direction_map = proximity_map(own_position, crate_map)\n",
    "    goals = coin_goals(distance_map, direction_map, coins)\n",
    "    print(f\"Position: {str(own_position):8},  Expected: {expectation[i]},  Calculated: {goals}, \" \\\n",
    "          f\" Same: {np.all(expectation[i] == goals)}\")"
   ]
  },
  {
   "cell_type": "code",
   "execution_count": 36,
   "metadata": {},
   "outputs": [],
   "source": [
    "# Example data for coin goals prototype\n",
    "own_position = positions_empty_field[0]\n",
    "crate_map    = empty_game_field\n",
    "coins        = coins_empty_field\n",
    "\n",
    "distance_map, reachability_map, direction_map = proximity_map(own_position, crate_map)"
   ]
  },
  {
   "cell_type": "code",
   "execution_count": 37,
   "metadata": {},
   "outputs": [
    {
     "name": "stdout",
     "output_type": "stream",
     "text": [
      "[ True  True  True  True]\n",
      "[[False False False  True]\n",
      " [ True False False False]\n",
      " [False False  True False]\n",
      " [False  True False False]]\n",
      "(array([ 9, 11, 11, 13]), array([5, 3, 7, 5]))\n",
      "[[ 9  5]\n",
      " [11  3]\n",
      " [11  7]\n",
      " [13  5]]\n",
      "[False False  True  True  True  True]\n",
      "2\n",
      "[6 7 2 2 2 2]\n",
      "(array([ 7,  7,  9, 11, 11, 13]), array([7, 8, 5, 3, 7, 5]))\n",
      "[[ 7  7]\n",
      " [ 7  8]\n",
      " [ 9  5]\n",
      " [11  3]\n",
      " [11  7]\n",
      " [13  5]]\n"
     ]
    }
   ],
   "source": [
    "# Prototyping coin goals\n",
    "\n",
    "coin_array         = np.array(coins)\n",
    "coin_tuple         = tuple(coin_array.T)\n",
    "min_distance_mask  = distance_map[coin_tuple] == np.min(distance_map[coin_tuple])\n",
    "nearest_coins      = coin_array[min_distance_mask]\n",
    "nearest_coin_tuple = tuple(nearest_coins.T)\n",
    "coin_directions    = direction_map[nearest_coin_tuple]\n",
    "goals              = np.any(coin_directions, axis = 0)\n",
    "\n",
    "print(goals)\n",
    "print(coin_directions)\n",
    "print(nearest_coin_tuple)\n",
    "print(nearest_coins)\n",
    "print(min_distance_mask)\n",
    "print(np.min(distance_map[coin_tuple]))\n",
    "print(distance_map[coin_tuple])\n",
    "print(coin_tuple)\n",
    "print(coin_array)"
   ]
  },
  {
   "cell_type": "markdown",
   "metadata": {},
   "source": [
    "**To do `coin_goals`**\n",
    "* Figure out what to do when no coins are reachable\n",
    "* Does the code work if no coins are present?"
   ]
  },
  {
   "cell_type": "markdown",
   "metadata": {},
   "source": [
    "**To do `crate_goals`**\n",
    "* Add capability to ignore bomb places where suicides are guaranteed.\n",
    "* Add capability to factor in existing bombs.\n",
    "* Consider time until next bomb can be placed into total_time calculation.\n"
   ]
  },
  {
   "cell_type": "markdown",
   "metadata": {},
   "source": [
    "**Todo `goals`**\n",
    "* Add capability for own_spot to be goal."
   ]
  },
  {
   "cell_type": "markdown",
   "metadata": {},
   "source": [
    "**Todo danger calculations**\n",
    "* Talk about merging `going_is_suicide` and `waiting_is_suicide`"
   ]
  },
  {
   "cell_type": "code",
   "execution_count": null,
   "metadata": {},
   "outputs": [],
   "source": []
  }
 ],
 "metadata": {
  "interpreter": {
   "hash": "9c6cebfa2f6916454f586e38d7dc74344caa14c114dff9b64499406f6acbdf5c"
  },
  "kernelspec": {
   "display_name": "Python 3.10.0 ('bomberman')",
   "language": "python",
   "name": "python3"
  },
  "language_info": {
   "codemirror_mode": {
    "name": "ipython",
    "version": 3
   },
   "file_extension": ".py",
   "mimetype": "text/x-python",
   "name": "python",
   "nbconvert_exporter": "python",
   "pygments_lexer": "ipython3",
   "version": "3.10.0"
  },
  "orig_nbformat": 4
 },
 "nbformat": 4,
 "nbformat_minor": 2
}
