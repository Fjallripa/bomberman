{
 "cells": [
  {
   "cell_type": "code",
   "execution_count": 1,
   "metadata": {},
   "outputs": [],
   "source": [
    "import numpy as np"
   ]
  },
  {
   "cell_type": "code",
   "execution_count": 2,
   "metadata": {},
   "outputs": [],
   "source": [
    "DIRECTIONS         = np.array([(0, -1), (1, 0), (0, 1), (-1, 0)])   # UP, RIGHT, DOWN, LEFT\n",
    "BOMB_COOLDOWN_TIME = 7\n",
    "TOTAL_COINS        = 9   # Depends on scenario\n",
    "COLS = ROWS        = 17\n",
    "BLAST              = np.array([-3, -2, -1, 1, 2, 3])"
   ]
  },
  {
   "cell_type": "code",
   "execution_count": 11,
   "metadata": {},
   "outputs": [],
   "source": [
    "# Calculate BOMB_MASK one time\n",
    "BOMB_MASK = np.full((COLS, ROWS, COLS, ROWS), False)\n",
    "\n",
    "x_inside = lambda x: x > 0 and x < COLS-1\n",
    "y_inside = lambda y: y > 0 and y < ROWS-1\n",
    "\n",
    "for x in range(1, COLS-1):\n",
    "        for y in range(1, ROWS-1):\n",
    "            if (x % 2 == 1 or y % 2 == 1):\n",
    "                explosion_spots = [(x, y)]\n",
    "                if x % 2 == 1:\n",
    "                    explosion_spots += [(x, y + b) for b in BLAST  if y_inside(y + b)]\n",
    "                if y % 2 == 1:\n",
    "                    explosion_spots += [(x + b, y) for b in BLAST  if x_inside(x + b)]\n",
    "                \n",
    "                explosion_spots = tuple(np.array(explosion_spots).T)\n",
    "                BOMB_MASK[(x, y)][explosion_spots] \\\n",
    "                                = True"
   ]
  },
  {
   "cell_type": "code",
   "execution_count": 20,
   "metadata": {},
   "outputs": [
    {
     "data": {
      "text/plain": [
       "array([[0, 0, 0, 0, 0, 0, 0, 0, 0, 0, 0, 0, 0, 0, 0, 0, 0],\n",
       "       [0, 0, 0, 0, 0, 0, 0, 0, 0, 0, 0, 0, 1, 1, 1, 1, 0],\n",
       "       [0, 0, 0, 0, 0, 0, 0, 0, 0, 0, 0, 0, 0, 0, 0, 1, 0],\n",
       "       [0, 0, 0, 0, 0, 0, 0, 0, 0, 0, 0, 0, 0, 0, 0, 1, 0],\n",
       "       [0, 0, 0, 0, 0, 0, 0, 0, 0, 0, 0, 0, 0, 0, 0, 1, 0],\n",
       "       [0, 0, 0, 0, 0, 0, 0, 0, 0, 0, 0, 0, 0, 0, 0, 0, 0],\n",
       "       [0, 0, 0, 0, 0, 0, 0, 0, 0, 0, 0, 0, 0, 0, 0, 0, 0],\n",
       "       [0, 0, 0, 0, 0, 0, 0, 0, 0, 0, 0, 0, 0, 0, 0, 0, 0],\n",
       "       [0, 0, 0, 0, 0, 0, 0, 0, 0, 0, 0, 0, 0, 0, 0, 0, 0],\n",
       "       [0, 0, 0, 0, 0, 0, 0, 0, 0, 0, 0, 0, 0, 0, 0, 0, 0],\n",
       "       [0, 0, 0, 0, 0, 0, 0, 0, 0, 0, 0, 0, 0, 0, 0, 0, 0],\n",
       "       [0, 0, 0, 0, 0, 0, 0, 0, 0, 0, 0, 0, 0, 0, 0, 0, 0],\n",
       "       [0, 0, 0, 0, 0, 0, 0, 0, 0, 0, 0, 0, 0, 0, 0, 0, 0],\n",
       "       [0, 0, 0, 0, 0, 0, 0, 0, 0, 0, 0, 0, 0, 0, 0, 0, 0],\n",
       "       [0, 0, 0, 0, 0, 0, 0, 0, 0, 0, 0, 0, 0, 0, 0, 0, 0],\n",
       "       [0, 0, 0, 0, 0, 0, 0, 0, 0, 0, 0, 0, 0, 0, 0, 0, 0],\n",
       "       [0, 0, 0, 0, 0, 0, 0, 0, 0, 0, 0, 0, 0, 0, 0, 0, 0]])"
      ]
     },
     "execution_count": 20,
     "metadata": {},
     "output_type": "execute_result"
    }
   ],
   "source": [
    "(BOMB_MASK*1)[(15, 1)].T"
   ]
  },
  {
   "cell_type": "code",
   "execution_count": 21,
   "metadata": {},
   "outputs": [],
   "source": [
    "number_of_crates       = lambda field: np.sum(field == 1)\n",
    "number_of_hidden_coins = lambda remaining_coins: TOTAL_COINS - remaining_coins"
   ]
  },
  {
   "cell_type": "code",
   "execution_count": 22,
   "metadata": {},
   "outputs": [],
   "source": [
    "def time_to_reach (own_position, game_field):\n",
    "    travel_times = np.full_like(game_field, 1000, dtype = int)\n",
    "    travel_times[own_position] = 0\n",
    "    \n",
    "    # Breadth first search for travel times to all reachable spots\n",
    "    frontier = [own_position]\n",
    "    while len(frontier) > 0:\n",
    "        current = frontier.pop(0)\n",
    "        for dir in DIRECTIONS:\n",
    "            neighbor = tuple(dir + np.array(current)) \n",
    "            if game_field[neighbor] == 0:   # If neighbor is a free field\n",
    "                time = travel_times[current] + 1\n",
    "                if travel_times[neighbor] > time:\n",
    "                    travel_times[neighbor] = time\n",
    "                    frontier.append(neighbor)\n",
    "        \n",
    "    return travel_times"
   ]
  },
  {
   "cell_type": "code",
   "execution_count": 23,
   "metadata": {},
   "outputs": [],
   "source": [
    "def crate_destruction_map (game_field):\n",
    "    crate_mask = game_field == 1\n",
    "\n",
    "    return np.sum(np.logical_and(crate_mask, BOMB_MASK), axis = (-2, -1)).reshape(crate_mask.shape)"
   ]
  },
  {
   "cell_type": "code",
   "execution_count": 26,
   "metadata": {},
   "outputs": [],
   "source": [
    "def find_crate_bombing_spots (current_position, game_field, coins_collected):\n",
    "    total_time_map            = time_to_reach(current_position, game_field) + BOMB_COOLDOWN_TIME\n",
    "    hidden_coin_density       = number_of_hidden_coins(coins_collected) / number_of_crates(game_field)\n",
    "    crates_destroyed          = crate_destruction_map(game_field)\n",
    "    expected_coins_map        = crates_destroyed * hidden_coin_density\n",
    "    coin_collection_speed_map = expected_coins_map / total_time_map\n",
    "    \n",
    "    #print(total_time_map)\n",
    "    #print(hidden_coin_density)\n",
    "    #print(crates_destroyed)\n",
    "    #print(expected_coins_map)\n",
    "    #print(coin_collection_speed_map)\n",
    "    best_spots_mask = np.isclose(coin_collection_speed_map, np.max(coin_collection_speed_map))\n",
    "    best_spots      = np.array(np.where(best_spots_mask)).T\n",
    "    return best_spots"
   ]
  },
  {
   "cell_type": "markdown",
   "metadata": {},
   "source": [
    "### Testing the code"
   ]
  },
  {
   "cell_type": "code",
   "execution_count": 25,
   "metadata": {},
   "outputs": [],
   "source": [
    "coins_discovered = 1\n",
    "current_position = (15, 1)\n",
    "\n",
    "current_field = \\\n",
    "np.array([[-1, -1, -1, -1, -1, -1, -1, -1, -1, -1, -1, -1, -1, -1, -1, -1,\n",
    "        -1],\n",
    "       [-1,  0,  0,  1,  1,  1,  0,  1,  1,  1,  1,  0,  1,  0,  0,  0,\n",
    "        -1],\n",
    "       [-1,  0, -1,  1, -1,  1, -1,  1, -1,  1, -1,  1, -1,  0, -1,  0,\n",
    "        -1],\n",
    "       [-1,  1,  0,  1,  0,  1,  1,  0,  0,  1,  1,  1,  0,  1,  1,  1,\n",
    "        -1],\n",
    "       [-1,  1, -1,  1, -1,  1, -1,  1, -1,  0, -1,  0, -1,  1, -1,  1,\n",
    "        -1],\n",
    "       [-1,  1,  0,  1,  0,  0,  0,  1,  1,  1,  0,  0,  1,  0,  1,  1,\n",
    "        -1],\n",
    "       [-1,  0, -1,  0, -1,  0, -1,  1, -1,  1, -1,  1, -1,  1, -1,  1,\n",
    "        -1],\n",
    "       [-1,  0,  0,  1,  1,  0,  1,  1,  0,  1,  1,  1,  0,  1,  1,  1,\n",
    "        -1],\n",
    "       [-1,  1, -1,  1, -1,  0, -1,  0, -1,  0, -1,  0, -1,  1, -1,  0,\n",
    "        -1],\n",
    "       [-1,  1,  0,  0,  0,  0,  0,  0,  0,  1,  1,  1,  0,  0,  0,  0,\n",
    "        -1],\n",
    "       [-1,  1, -1,  0, -1,  0, -1,  0, -1,  1, -1,  1, -1,  1, -1,  1,\n",
    "        -1],\n",
    "       [-1,  0,  0,  0,  0,  0,  0,  0,  0,  1,  0,  1,  1,  1,  0,  1,\n",
    "        -1],\n",
    "       [-1,  1, -1,  1, -1,  0, -1,  0, -1,  1, -1,  1, -1,  1, -1,  1,\n",
    "        -1],\n",
    "       [-1,  1,  0,  0,  0,  0,  0,  0,  0,  0,  0,  1,  1,  1,  1,  1,\n",
    "        -1],\n",
    "       [-1,  0, -1,  1, -1,  0, -1,  0, -1,  1, -1,  1, -1,  1, -1,  0,\n",
    "        -1],\n",
    "       [-1,  0,  0,  0,  0,  0,  0,  0,  0,  1,  1,  1,  1,  1,  0,  0,\n",
    "        -1],\n",
    "       [-1, -1, -1, -1, -1, -1, -1, -1, -1, -1, -1, -1, -1, -1, -1, -1,\n",
    "        -1]])\n",
    "\n",
    "\n",
    "\n"
   ]
  },
  {
   "cell_type": "code",
   "execution_count": 27,
   "metadata": {},
   "outputs": [
    {
     "data": {
      "text/plain": [
       "array([[13,  9]])"
      ]
     },
     "execution_count": 27,
     "metadata": {},
     "output_type": "execute_result"
    }
   ],
   "source": [
    "find_crate_bombing_spots (current_position, current_field, coins_discovered)"
   ]
  },
  {
   "cell_type": "code",
   "execution_count": 26,
   "metadata": {},
   "outputs": [
    {
     "name": "stdout",
     "output_type": "stream",
     "text": [
      "[[0 0 0]\n",
      " [0 1 0]\n",
      " [0 0 2]]\n"
     ]
    },
    {
     "data": {
      "text/plain": [
       "8"
      ]
     },
     "execution_count": 26,
     "metadata": {},
     "output_type": "execute_result"
    }
   ],
   "source": [
    "print(np.diag(np.arange(3)))\n",
    "np.argmax(np.diag(np.arange(3)))"
   ]
  },
  {
   "cell_type": "code",
   "execution_count": null,
   "metadata": {},
   "outputs": [],
   "source": []
  }
 ],
 "metadata": {
  "interpreter": {
   "hash": "9c6cebfa2f6916454f586e38d7dc74344caa14c114dff9b64499406f6acbdf5c"
  },
  "kernelspec": {
   "display_name": "Python 3.10.0 ('bomberman')",
   "language": "python",
   "name": "python3"
  },
  "language_info": {
   "codemirror_mode": {
    "name": "ipython",
    "version": 3
   },
   "file_extension": ".py",
   "mimetype": "text/x-python",
   "name": "python",
   "nbconvert_exporter": "python",
   "pygments_lexer": "ipython3",
   "version": "3.10.0"
  },
  "orig_nbformat": 4
 },
 "nbformat": 4,
 "nbformat_minor": 2
}
