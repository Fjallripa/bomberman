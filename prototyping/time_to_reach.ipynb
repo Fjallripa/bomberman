{
 "cells": [
  {
   "cell_type": "code",
   "execution_count": 110,
   "metadata": {},
   "outputs": [],
   "source": [
    "import numpy as np"
   ]
  },
  {
   "cell_type": "code",
   "execution_count": 111,
   "metadata": {},
   "outputs": [],
   "source": [
    "empty_game_field = np.array(\n",
    "    [[-1, -1, -1, -1, -1, -1, -1, -1, -1, -1, -1, -1, -1, -1, -1, -1, -1],\n",
    "     [-1,  0,  0,  0,  0,  0,  0,  0,  0,  0,  0,  0,  0,  0,  0,  0, -1],\n",
    "     [-1,  0, -1,  0, -1,  0, -1,  0, -1,  0, -1,  0, -1,  0, -1,  0, -1],\n",
    "     [-1,  0,  0,  0,  0,  0,  0,  0,  0,  0,  0,  0,  0,  0,  0,  0, -1],\n",
    "     [-1,  0, -1,  0, -1,  0, -1,  0, -1,  0, -1,  0, -1,  0, -1,  0, -1],\n",
    "     [-1,  0,  0,  0,  0,  0,  0,  0,  0,  0,  0,  0,  0,  0,  0,  0, -1],\n",
    "     [-1,  0, -1,  0, -1,  0, -1,  0, -1,  0, -1,  0, -1,  0, -1,  0, -1],\n",
    "     [-1,  0,  0,  0,  0,  0,  0,  0,  0,  0,  0,  0,  0,  0,  0,  0, -1],\n",
    "     [-1,  0, -1,  0, -1,  0, -1,  0, -1,  0, -1,  0, -1,  0, -1,  0, -1],\n",
    "     [-1,  0,  0,  0,  0,  0,  0,  0,  0,  0,  0,  0,  0,  0,  0,  0, -1],\n",
    "     [-1,  0, -1,  0, -1,  0, -1,  0, -1,  0, -1,  0, -1,  0, -1,  0, -1],\n",
    "     [-1,  0,  0,  0,  0,  0,  0,  0,  0,  0,  0,  0,  0,  0,  0,  0, -1],\n",
    "     [-1,  0, -1,  0, -1,  0, -1,  0, -1,  0, -1,  0, -1,  0, -1,  0, -1],\n",
    "     [-1,  0,  0,  0,  0,  0,  0,  0,  0,  0,  0,  0,  0,  0,  0,  0, -1],\n",
    "     [-1,  0, -1,  0, -1,  0, -1,  0, -1,  0, -1,  0, -1,  0, -1,  0, -1],\n",
    "     [-1,  0,  0,  0,  0,  0,  0,  0,  0,  0,  0,  0,  0,  0,  0,  0, -1],\n",
    "     [-1, -1, -1, -1, -1, -1, -1, -1, -1, -1, -1, -1, -1, -1, -1, -1, -1],]\n",
    ")\n",
    "\n",
    "packed_game_field = np.array(\n",
    "    [[-1, -1, -1, -1, -1, -1, -1, -1, -1, -1, -1, -1, -1, -1, -1, -1, -1],\n",
    "     [-1,  0,  0,  1,  1,  1,  1,  1,  1,  1,  1,  1,  1,  0,  0,  0, -1],\n",
    "     [-1,  0, -1,  1, -1,  1, -1,  1, -1,  1, -1,  0, -1,  1, -1,  0, -1],\n",
    "     [-1,  1,  1,  0,  1,  1,  1,  1,  1,  1,  1,  1,  1,  1,  0,  1, -1],\n",
    "     [-1,  1, -1,  1, -1,  0, -1,  1, -1,  1, -1,  1, -1,  1, -1,  1, -1],\n",
    "     [-1,  1,  1,  1,  1,  1,  0,  1,  0,  1,  0,  1,  0,  0,  1,  0, -1],\n",
    "     [-1,  1, -1,  0, -1,  1, -1,  1, -1,  1, -1,  1, -1,  0, -1,  0, -1],\n",
    "     [-1,  0,  1,  1,  1,  1,  1,  1,  1,  0,  1,  1,  1,  1,  1,  1, -1],\n",
    "     [-1,  1, -1,  1, -1,  1, -1,  1, -1,  1, -1,  1, -1,  0, -1,  1, -1],\n",
    "     [-1,  1,  1,  0,  1,  1,  0,  0,  0,  1,  1,  1,  1,  1,  1,  1, -1],\n",
    "     [-1,  1, -1,  1, -1,  1, -1,  0, -1,  1, -1,  1, -1,  1, -1,  0, -1],\n",
    "     [-1,  1,  1,  1,  1,  1,  1,  1,  1,  1,  1,  1,  1,  0,  1,  0, -1],\n",
    "     [-1,  1, -1,  0, -1,  1, -1,  0, -1,  1, -1,  1, -1,  1, -1,  1, -1],\n",
    "     [-1,  0,  1,  1,  1,  1,  1,  1,  0,  1,  1,  1,  0,  1,  1,  0, -1],\n",
    "     [-1,  0, -1,  1, -1,  0, -1,  0, -1,  0, -1,  0, -1,  1, -1,  0, -1],\n",
    "     [-1,  0,  0,  1,  1,  1,  1,  1,  1,  1,  0,  1,  1,  1,  0,  0, -1],\n",
    "     [-1, -1, -1, -1, -1, -1, -1, -1, -1, -1, -1, -1, -1, -1, -1, -1, -1],]\n",
    ")"
   ]
  },
  {
   "cell_type": "code",
   "execution_count": 112,
   "metadata": {},
   "outputs": [],
   "source": [
    "DIRECTIONS = np.array([(0, -1), (1, 0), (0, 1), (-1, 0)])   # UP, RIGHT, DOWN, LEFT\n",
    "\n",
    "def time_to_reach (own_position, game_field):\n",
    "    travel_times = np.full_like(game_field, 1000, dtype = int)\n",
    "    travel_times[own_position] = 0\n",
    "    #print(travel_times)\n",
    "    \n",
    "    #reachable    = np.full_like(game_field, False)\n",
    "    #reachable[own_position] = True\n",
    "    #print(reachable)\n",
    "\n",
    "    # Breadth first search for travel times to all reachable spots\n",
    "    frontier = [own_position]\n",
    "    while len(frontier) > 0:\n",
    "        current = frontier.pop(0)\n",
    "        for dir in DIRECTIONS:\n",
    "            neighbor = tuple(dir + np.array(current))\n",
    "            #print(neighbor)\n",
    "            if game_field[neighbor] == 0:   # If neighbor is a free field\n",
    "                #reachable[neighbor] = True\n",
    "                time = travel_times[current] + 1\n",
    "                if travel_times[neighbor] > time:\n",
    "                    travel_times[neighbor] = time\n",
    "                    frontier.append(neighbor)\n",
    "        #print(travel_times)\n",
    "\n",
    "    return travel_times\n",
    "        \n",
    "    \n"
   ]
  },
  {
   "cell_type": "code",
   "execution_count": 51,
   "metadata": {},
   "outputs": [
    {
     "name": "stdout",
     "output_type": "stream",
     "text": [
      "2.27 ms ± 48.9 µs per loop (mean ± std. dev. of 7 runs, 100 loops each)\n"
     ]
    }
   ],
   "source": [
    "%timeit time_to_reach((1,15), empty_game_field)"
   ]
  },
  {
   "cell_type": "code",
   "execution_count": 114,
   "metadata": {},
   "outputs": [
    {
     "name": "stdout",
     "output_type": "stream",
     "text": [
      "58.2 µs ± 2.37 µs per loop (mean ± std. dev. of 7 runs, 10,000 loops each)\n"
     ]
    }
   ],
   "source": [
    "%timeit time_to_reach((1,15), packed_game_field)"
   ]
  },
  {
   "cell_type": "code",
   "execution_count": 116,
   "metadata": {},
   "outputs": [
    {
     "data": {
      "text/plain": [
       "array([[100, 100, 100, 100, 100, 100, 100, 100, 100, 100, 100, 100, 100,\n",
       "        100, 100, 100, 100],\n",
       "       [100, 100, 100, 100, 100, 100, 100, 100, 100, 100, 100, 100, 100,\n",
       "          2,   1,   0, 100],\n",
       "       [100, 100, 100, 100, 100, 100, 100, 100, 100, 100, 100, 100, 100,\n",
       "        100, 100,   1, 100],\n",
       "       [100, 100, 100, 100, 100, 100, 100, 100, 100, 100, 100, 100, 100,\n",
       "        100, 100, 100, 100],\n",
       "       [100, 100, 100, 100, 100, 100, 100, 100, 100, 100, 100, 100, 100,\n",
       "        100, 100, 100, 100],\n",
       "       [100, 100, 100, 100, 100, 100, 100, 100, 100, 100, 100, 100, 100,\n",
       "        100, 100, 100, 100],\n",
       "       [100, 100, 100, 100, 100, 100, 100, 100, 100, 100, 100, 100, 100,\n",
       "        100, 100, 100, 100],\n",
       "       [100, 100, 100, 100, 100, 100, 100, 100, 100, 100, 100, 100, 100,\n",
       "        100, 100, 100, 100],\n",
       "       [100, 100, 100, 100, 100, 100, 100, 100, 100, 100, 100, 100, 100,\n",
       "        100, 100, 100, 100],\n",
       "       [100, 100, 100, 100, 100, 100, 100, 100, 100, 100, 100, 100, 100,\n",
       "        100, 100, 100, 100],\n",
       "       [100, 100, 100, 100, 100, 100, 100, 100, 100, 100, 100, 100, 100,\n",
       "        100, 100, 100, 100],\n",
       "       [100, 100, 100, 100, 100, 100, 100, 100, 100, 100, 100, 100, 100,\n",
       "        100, 100, 100, 100],\n",
       "       [100, 100, 100, 100, 100, 100, 100, 100, 100, 100, 100, 100, 100,\n",
       "        100, 100, 100, 100],\n",
       "       [100, 100, 100, 100, 100, 100, 100, 100, 100, 100, 100, 100, 100,\n",
       "        100, 100, 100, 100],\n",
       "       [100, 100, 100, 100, 100, 100, 100, 100, 100, 100, 100, 100, 100,\n",
       "        100, 100, 100, 100],\n",
       "       [100, 100, 100, 100, 100, 100, 100, 100, 100, 100, 100, 100, 100,\n",
       "        100, 100, 100, 100],\n",
       "       [100, 100, 100, 100, 100, 100, 100, 100, 100, 100, 100, 100, 100,\n",
       "        100, 100, 100, 100]])"
      ]
     },
     "execution_count": 116,
     "metadata": {},
     "output_type": "execute_result"
    }
   ],
   "source": [
    "time_to_reach((1,15), packed_game_field)"
   ]
  },
  {
   "cell_type": "code",
   "execution_count": 122,
   "metadata": {},
   "outputs": [
    {
     "data": {
      "text/plain": [
       "array([[100, 100, 100, 100, 100, 100, 100, 100, 100, 100, 100, 100, 100,\n",
       "        100, 100, 100, 100],\n",
       "       [100,  14,  13,  12,  11,  10,   9,   8,   7,   6,   5,   4,   3,\n",
       "          2,   1,   0, 100],\n",
       "       [100,  15, 100,  13, 100,  11, 100,   9, 100,   7, 100,   5, 100,\n",
       "          3, 100,   1, 100],\n",
       "       [100,  16,  15,  14,  13,  12,  11,  10,   9,   8,   7,   6,   5,\n",
       "          4,   3,   2, 100],\n",
       "       [100,  17, 100,  15, 100,  13, 100,  11, 100,   9, 100,   7, 100,\n",
       "          5, 100,   3, 100],\n",
       "       [100,  18,  17,  16,  15,  14,  13,  12,  11,  10,   9,   8,   7,\n",
       "          6,   5,   4, 100],\n",
       "       [100,  19, 100,  17, 100,  15, 100,  13, 100,  11, 100,   9, 100,\n",
       "          7, 100,   5, 100],\n",
       "       [100,  20,  19,  18,  17,  16,  15,  14,  13,  12,  11,  10,   9,\n",
       "          8,   7,   6, 100],\n",
       "       [100,  21, 100,  19, 100,  17, 100,  15, 100,  13, 100,  11, 100,\n",
       "          9, 100,   7, 100],\n",
       "       [100,  22,  21,  20,  19,  18,  17,  16,  15,  14,  13,  12,  11,\n",
       "         10,   9,   8, 100],\n",
       "       [100,  23, 100,  21, 100,  19, 100,  17, 100,  15, 100,  13, 100,\n",
       "         11, 100,   9, 100],\n",
       "       [100,  24,  23,  22,  21,  20,  19,  18,  17,  16,  15,  14,  13,\n",
       "         12,  11,  10, 100],\n",
       "       [100,  25, 100,  23, 100,  21, 100,  19, 100,  17, 100,  15, 100,\n",
       "         13, 100,  11, 100],\n",
       "       [100,  26,  25,  24,  23,  22,  21,  20,  19,  18,  17,  16,  15,\n",
       "         14,  13,  12, 100],\n",
       "       [100,  27, 100,  25, 100,  23, 100,  21, 100,  19, 100,  17, 100,\n",
       "         15, 100,  13, 100],\n",
       "       [100,  28,  27,  26,  25,  24,  23,  22,  21,  20,  19,  18,  17,\n",
       "         16,  15,  14, 100],\n",
       "       [100, 100, 100, 100, 100, 100, 100, 100, 100, 100, 100, 100, 100,\n",
       "        100, 100, 100, 100]])"
      ]
     },
     "execution_count": 122,
     "metadata": {},
     "output_type": "execute_result"
    }
   ],
   "source": [
    "time_to_reach((1,15), empty_game_field)"
   ]
  },
  {
   "cell_type": "code",
   "execution_count": 113,
   "metadata": {},
   "outputs": [
    {
     "name": "stdout",
     "output_type": "stream",
     "text": [
      "0\n",
      "128\n"
     ]
    }
   ],
   "source": [
    "BOMB_COOLDOWN_TIME = 7\n",
    "number_of_crates = np.sum(empty_game_field == 1)\n",
    "\n",
    "print(np.sum(empty_game_field == 1))\n",
    "print(np.sum(packed_game_field == 1))\n"
   ]
  },
  {
   "cell_type": "markdown",
   "metadata": {},
   "source": [
    "```python\n",
    "# Idea for coin tracker:\n",
    "training_setup():\n",
    "    self.tracked_coins = []\n",
    "\n",
    "game_events_occured():\n",
    "    if game_state_old['coins'] != game_state_new['coins']:\n",
    "        new_coins = [coin  for coin in game_state_old['coins']  if coin not in self.tracked_coins]\n",
    "        self.tracked_coins += new_coins\n",
    "\n",
    "TOTAL_COINS = 9   # Depends on scenario\n",
    "number_of_hidden_coins = TOTAL_COINS - len(self.tracked_coins)\n",
    "```"
   ]
  },
  {
   "cell_type": "code",
   "execution_count": 56,
   "metadata": {},
   "outputs": [
    {
     "data": {
      "text/plain": [
       "[1, 2, 3, 4]"
      ]
     },
     "execution_count": 56,
     "metadata": {},
     "output_type": "execute_result"
    }
   ],
   "source": [
    "test_list = [1, 2]\n",
    "test_list + [3, 4]"
   ]
  },
  {
   "cell_type": "code",
   "execution_count": 104,
   "metadata": {},
   "outputs": [],
   "source": [
    "COLS = ROWS = 17\n",
    "BOMB_MASK = np.full((COLS * ROWS, COLS, ROWS), False)\n",
    "BLAST = np.array([-3, -2, -1, 1, 2, 3])\n",
    "\n",
    "x_inside = lambda x: x > 0 and x < COLS-1\n",
    "y_inside = lambda y: y > 0 and y < ROWS-1\n",
    "\n",
    "for x in range(1, COLS-1):\n",
    "    for y in range(1, ROWS-1):\n",
    "        if (x % 2 == 1 or y % 2 == 1):\n",
    "            explosion_spots = [(x, y)]\n",
    "            if x % 2 == 1:\n",
    "                explosion_spots += [(x, y + b) for b in BLAST  if y_inside(y + b)]\n",
    "            if y % 2 == 1:\n",
    "                explosion_spots += [(x + b, y) for b in BLAST  if x_inside(x + b)]\n",
    "            \n",
    "            explosion_spots = np.array(explosion_spots).T\n",
    "            #print(explosion_spots)\n",
    "            index = x * COLS + y\n",
    "            BOMB_MASK[index][explosion_spots[0], explosion_spots[1]] = True\n"
   ]
  },
  {
   "cell_type": "code",
   "execution_count": 105,
   "metadata": {},
   "outputs": [
    {
     "name": "stdout",
     "output_type": "stream",
     "text": [
      "[[0 0 0 0 0 0 0 0 0 0 0 0 0 0 0 0 0]\n",
      " [0 0 0 0 0 0 0 0 0 0 0 0 0 0 0 0 0]\n",
      " [0 0 0 0 0 0 0 0 0 0 0 0 0 0 0 0 0]\n",
      " [0 0 0 0 0 0 0 0 0 0 0 0 0 0 0 0 0]\n",
      " [0 0 0 0 0 0 0 0 0 0 0 0 0 0 0 0 0]\n",
      " [0 0 0 0 0 0 0 0 0 0 0 0 0 0 0 0 0]\n",
      " [0 0 0 0 0 0 0 0 0 0 0 0 0 0 0 0 0]\n",
      " [0 0 0 0 0 0 0 0 0 0 0 0 0 0 0 0 0]\n",
      " [0 0 0 0 0 0 0 0 0 0 0 1 0 0 0 0 0]\n",
      " [0 0 0 0 0 0 0 0 0 0 0 1 0 0 0 0 0]\n",
      " [0 0 0 0 0 0 0 0 0 0 0 1 0 0 0 0 0]\n",
      " [0 0 0 0 0 0 0 0 1 1 1 1 1 1 1 0 0]\n",
      " [0 0 0 0 0 0 0 0 0 0 0 1 0 0 0 0 0]\n",
      " [0 0 0 0 0 0 0 0 0 0 0 1 0 0 0 0 0]\n",
      " [0 0 0 0 0 0 0 0 0 0 0 1 0 0 0 0 0]\n",
      " [0 0 0 0 0 0 0 0 0 0 0 0 0 0 0 0 0]\n",
      " [0 0 0 0 0 0 0 0 0 0 0 0 0 0 0 0 0]]\n"
     ]
    }
   ],
   "source": [
    "print((BOMB_MASK*1)[-91])"
   ]
  },
  {
   "cell_type": "code",
   "execution_count": 107,
   "metadata": {},
   "outputs": [],
   "source": [
    "# Idea for counting the destroyed crates\n",
    "\n",
    "def number_of_destroyed_crates (game_field):\n",
    "    crate_mask = game_field == 1\n",
    "\n",
    "    return np.sum(np.logical_and(crate_mask, BOMB_MASK), axis = (1, 2)).reshape(crate_mask.shape)\n",
    "    "
   ]
  },
  {
   "cell_type": "code",
   "execution_count": 121,
   "metadata": {},
   "outputs": [
    {
     "name": "stdout",
     "output_type": "stream",
     "text": [
      "93.4 µs ± 484 ns per loop (mean ± std. dev. of 7 runs, 10,000 loops each)\n"
     ]
    }
   ],
   "source": [
    "%timeit number_of_destroyed_crates(empty_game_field)"
   ]
  },
  {
   "cell_type": "code",
   "execution_count": 118,
   "metadata": {},
   "outputs": [
    {
     "name": "stdout",
     "output_type": "stream",
     "text": [
      "96.4 µs ± 2.42 µs per loop (mean ± std. dev. of 7 runs, 10,000 loops each)\n"
     ]
    }
   ],
   "source": [
    "%timeit number_of_destroyed_crates(packed_game_field)\n"
   ]
  },
  {
   "cell_type": "code",
   "execution_count": 117,
   "metadata": {},
   "outputs": [
    {
     "data": {
      "text/plain": [
       "array([[ 0,  0,  0,  0,  0,  0,  0,  0,  0,  0,  0,  0,  0,  0,  0,  0,\n",
       "         0],\n",
       "       [ 0,  4,  3,  6,  5,  8,  7, 10,  7, 10,  6,  7,  4,  6,  2,  3,\n",
       "         0],\n",
       "       [ 0,  3,  0,  4,  0,  4,  0,  5,  0,  5,  0,  4,  0,  3,  0,  2,\n",
       "         0],\n",
       "       [ 0,  6,  4,  9,  6, 10,  6, 12,  7, 12,  7, 10,  6,  7,  4,  4,\n",
       "         0],\n",
       "       [ 0,  4,  0,  5,  0,  6,  0,  7,  0,  6,  0,  6,  0,  4,  0,  3,\n",
       "         0],\n",
       "       [ 0,  8,  5,  9,  6, 10,  5, 10,  4,  8,  3,  8,  3,  6,  2,  5,\n",
       "         0],\n",
       "       [ 0,  6,  0,  4,  0,  6,  0,  6,  0,  6,  0,  7,  0,  4,  0,  5,\n",
       "         0],\n",
       "       [ 0,  9,  4,  9,  6, 12,  6, 10,  6, 12,  6, 12,  6,  9,  5,  7,\n",
       "         0],\n",
       "       [ 0,  6,  0,  5,  0,  7,  0,  5,  0,  6,  0,  7,  0,  3,  0,  3,\n",
       "         0],\n",
       "       [ 0,  8,  4,  8,  4,  9,  3,  8,  4,  9,  5, 12,  7,  9,  5,  7,\n",
       "         0],\n",
       "       [ 0,  5,  0,  5,  0,  7,  0,  4,  0,  6,  0,  7,  0,  5,  0,  4,\n",
       "         0],\n",
       "       [ 0,  8,  5, 10,  7, 12,  7,  9,  7, 12,  6, 11,  5,  9,  3,  5,\n",
       "         0],\n",
       "       [ 0,  4,  0,  5,  0,  6,  0,  3,  0,  6,  0,  6,  0,  6,  0,  2,\n",
       "         0],\n",
       "       [ 0,  6,  4,  9,  6, 10,  6,  8,  6,  9,  5,  9,  5,  8,  3,  3,\n",
       "         0],\n",
       "       [ 0,  2,  0,  4,  0,  4,  0,  3,  0,  4,  0,  4,  0,  4,  0,  1,\n",
       "         0],\n",
       "       [ 0,  3,  3,  6,  5,  8,  7,  7,  6,  8,  6,  7,  4,  6,  3,  3,\n",
       "         0],\n",
       "       [ 0,  0,  0,  0,  0,  0,  0,  0,  0,  0,  0,  0,  0,  0,  0,  0,\n",
       "         0]])"
      ]
     },
     "execution_count": 117,
     "metadata": {},
     "output_type": "execute_result"
    }
   ],
   "source": [
    "number_of_destroyed_crates(packed_game_field)"
   ]
  },
  {
   "cell_type": "code",
   "execution_count": null,
   "metadata": {},
   "outputs": [],
   "source": []
  }
 ],
 "metadata": {
  "interpreter": {
   "hash": "9c6cebfa2f6916454f586e38d7dc74344caa14c114dff9b64499406f6acbdf5c"
  },
  "kernelspec": {
   "display_name": "Python 3.10.0 ('bomberman')",
   "language": "python",
   "name": "python3"
  },
  "language_info": {
   "codemirror_mode": {
    "name": "ipython",
    "version": 3
   },
   "file_extension": ".py",
   "mimetype": "text/x-python",
   "name": "python",
   "nbconvert_exporter": "python",
   "pygments_lexer": "ipython3",
   "version": "3.10.0"
  },
  "orig_nbformat": 4
 },
 "nbformat": 4,
 "nbformat_minor": 2
}
