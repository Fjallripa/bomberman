{
 "cells": [
  {
   "cell_type": "code",
   "execution_count": 15,
   "metadata": {},
   "outputs": [],
   "source": [
    "import numpy as np\n",
    "import matplotlib.pyplot as plt"
   ]
  },
  {
   "cell_type": "markdown",
   "metadata": {},
   "source": [
    "## Round-based epsilon function"
   ]
  },
  {
   "cell_type": "code",
   "execution_count": 10,
   "metadata": {},
   "outputs": [],
   "source": [
    "EPSILON_AT_ROUND_ZERO = 1\n",
    "EPSILON_THRESHOLD     = 0.1\n",
    "EPSILON_AT_INFINITY   = 0.01\n",
    "\n",
    "TRAINING_ROUNDS    = 1000\n",
    "THRESHOLD_FRACTION = 0.2"
   ]
  },
  {
   "cell_type": "code",
   "execution_count": 11,
   "metadata": {},
   "outputs": [],
   "source": [
    "A               = EPSILON_AT_ROUND_ZERO - EPSILON_AT_INFINITY\n",
    "ROUND_THRESHOLD = int(TRAINING_ROUNDS * THRESHOLD_FRACTION)\n",
    "L               = 1 / ROUND_THRESHOLD * np.log(A / (EPSILON_THRESHOLD - EPSILON_AT_INFINITY))"
   ]
  },
  {
   "cell_type": "code",
   "execution_count": 12,
   "metadata": {},
   "outputs": [],
   "source": [
    "def epsilon (rounds):\n",
    "    return A * np.exp(- L * rounds) + EPSILON_AT_INFINITY"
   ]
  },
  {
   "cell_type": "code",
   "execution_count": 14,
   "metadata": {},
   "outputs": [
    {
     "data": {
      "image/png": "[encoded data removed]",
      "text/plain": [
       "<Figure size 432x288 with 1 Axes>"
      ]
     },
     "metadata": {
      "needs_background": "light"
     },
     "output_type": "display_data"
    }
   ],
   "source": [
    "rounds     = np.arange(TRAINING_ROUNDS) + 1\n",
    "eps_values = epsilon(rounds)\n",
    "plt.plot(rounds, eps_values)\n",
    "plt.ylim((0, 1.1*EPSILON_AT_ROUND_ZERO))\n",
    "plt.vlines(ROUND_THRESHOLD, ymin = 0, ymax = 1.1*EPSILON_AT_ROUND_ZERO)\n",
    "plt.hlines((0.1), xmin = 0, xmax = TRAINING_ROUNDS)\n",
    "plt.show()"
   ]
  },
  {
   "cell_type": "markdown",
   "metadata": {},
   "source": [
    "## \"Experience\"-based epsilon function\n",
    "Experience = number of times this particular Q-state has already occured"
   ]
  },
  {
   "cell_type": "code",
   "execution_count": 16,
   "metadata": {},
   "outputs": [],
   "source": [
    "EPSILON_AT_START     = 1\n",
    "EPSILON_THRESHOLD    = 0.1\n",
    "EPSILON_AT_INFINITY  = 0.01\n",
    "THRESHOLD_EXPERIENCE = 100"
   ]
  },
  {
   "cell_type": "code",
   "execution_count": 17,
   "metadata": {},
   "outputs": [],
   "source": [
    "A = EPSILON_AT_START - EPSILON_AT_INFINITY\n",
    "L = 1 / THRESHOLD_EXPERIENCE * np.log(A / (EPSILON_THRESHOLD - EPSILON_AT_INFINITY))"
   ]
  },
  {
   "cell_type": "code",
   "execution_count": null,
   "metadata": {},
   "outputs": [],
   "source": [
    "def epsilon (state_indices):\n",
    "    occurances = np.sum(self.Sa_counter[state_indices])\n",
    "\n",
    "    return A * np.exp(- L * occurances) + EPSILON_AT_INFINITY"
   ]
  },
  {
   "cell_type": "code",
   "execution_count": 18,
   "metadata": {},
   "outputs": [],
   "source": [
    "def epsilon_test (occurances):\n",
    "    return A * np.exp(- L * occurances) + EPSILON_AT_INFINITY"
   ]
  },
  {
   "cell_type": "code",
   "execution_count": 19,
   "metadata": {},
   "outputs": [
    {
     "data": {
      "image/png": "[encoded data removed]",
      "text/plain": [
       "<Figure size 432x288 with 1 Axes>"
      ]
     },
     "metadata": {
      "needs_background": "light"
     },
     "output_type": "display_data"
    }
   ],
   "source": [
    "occurances = np.arange(5*THRESHOLD_EXPERIENCE) + 1\n",
    "eps_values = epsilon(occurances)\n",
    "plt.plot(occurances, eps_values)\n",
    "plt.ylim((0, 1.1*EPSILON_AT_START))\n",
    "plt.vlines(THRESHOLD_EXPERIENCE, ymin = 0, ymax = 1.1*EPSILON_AT_START)\n",
    "plt.hlines((0.1), xmin = 0, xmax = 5*THRESHOLD_EXPERIENCE)\n",
    "plt.show()"
   ]
  },
  {
   "cell_type": "code",
   "execution_count": null,
   "metadata": {},
   "outputs": [],
   "source": []
  }
 ],
 "metadata": {
  "interpreter": {
   "hash": "9c6cebfa2f6916454f586e38d7dc74344caa14c114dff9b64499406f6acbdf5c"
  },
  "kernelspec": {
   "display_name": "Python 3.10.0 ('bomberman')",
   "language": "python",
   "name": "python3"
  },
  "language_info": {
   "codemirror_mode": {
    "name": "ipython",
    "version": 3
   },
   "file_extension": ".py",
   "mimetype": "text/x-python",
   "name": "python",
   "nbconvert_exporter": "python",
   "pygments_lexer": "ipython3",
   "version": "3.10.0"
  },
  "orig_nbformat": 4
 },
 "nbformat": 4,
 "nbformat_minor": 2
}
