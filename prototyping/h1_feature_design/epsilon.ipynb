{
 "cells": [
  {
   "cell_type": "code",
   "execution_count": 9,
   "metadata": {},
   "outputs": [],
   "source": [
    "import numpy as np\n",
    "import matplotlib.pyplot as plt"
   ]
  },
  {
   "cell_type": "code",
   "execution_count": 10,
   "metadata": {},
   "outputs": [],
   "source": [
    "EPSILON_AT_ROUND_ZERO = 1\n",
    "EPSILON_THRESHOLD     = 0.1\n",
    "EPSILON_AT_INFINITY   = 0.01\n",
    "\n",
    "TRAINING_ROUNDS    = 1000\n",
    "THRESHOLD_FRACTION = 0.2"
   ]
  },
  {
   "cell_type": "code",
   "execution_count": 11,
   "metadata": {},
   "outputs": [],
   "source": [
    "A               = EPSILON_AT_ROUND_ZERO - EPSILON_AT_INFINITY\n",
    "ROUND_THRESHOLD = int(TRAINING_ROUNDS * THRESHOLD_FRACTION)\n",
    "L               = 1 / ROUND_THRESHOLD * np.log(A / (EPSILON_THRESHOLD - EPSILON_AT_INFINITY))"
   ]
  },
  {
   "cell_type": "code",
   "execution_count": 12,
   "metadata": {},
   "outputs": [],
   "source": [
    "def epsilon (rounds):\n",
    "    return A * np.exp(- L * rounds) + EPSILON_AT_INFINITY"
   ]
  },
  {
   "cell_type": "code",
   "execution_count": 14,
   "metadata": {},
   "outputs": [
    {
     "data": {
      "image/png": "[encoded data removed]",
      "text/plain": [
       "<Figure size 432x288 with 1 Axes>"
      ]
     },
     "metadata": {
      "needs_background": "light"
     },
     "output_type": "display_data"
    }
   ],
   "source": [
    "rounds     = np.arange(TRAINING_ROUNDS) + 1\n",
    "eps_values = epsilon(rounds)\n",
    "plt.plot(rounds, eps_values)\n",
    "plt.ylim((0, 1.1*EPSILON_AT_ROUND_ZERO))\n",
    "plt.vlines(ROUND_THRESHOLD, ymin = 0, ymax = 1.1*EPSILON_AT_ROUND_ZERO)\n",
    "plt.hlines((0.1), xmin = 0, xmax = TRAINING_ROUNDS)\n",
    "plt.show()"
   ]
  },
  {
   "cell_type": "code",
   "execution_count": null,
   "metadata": {},
   "outputs": [],
   "source": []
  },
  {
   "cell_type": "markdown",
   "metadata": {},
   "source": [
    "0.1 = exp(-0.2/tau)\n",
    "-"
   ]
  },
  {
   "cell_type": "code",
   "execution_count": null,
   "metadata": {},
   "outputs": [],
   "source": [
    "def epsilon_exp (round):\n",
    "    return np.exp(round)"
   ]
  }
 ],
 "metadata": {
  "interpreter": {
   "hash": "9c6cebfa2f6916454f586e38d7dc74344caa14c114dff9b64499406f6acbdf5c"
  },
  "kernelspec": {
   "display_name": "Python 3.10.0 ('bomberman')",
   "language": "python",
   "name": "python3"
  },
  "language_info": {
   "codemirror_mode": {
    "name": "ipython",
    "version": 3
   },
   "file_extension": ".py",
   "mimetype": "text/x-python",
   "name": "python",
   "nbconvert_exporter": "python",
   "pygments_lexer": "ipython3",
   "version": "3.10.0"
  },
  "orig_nbformat": 4
 },
 "nbformat": 4,
 "nbformat_minor": 2
}
