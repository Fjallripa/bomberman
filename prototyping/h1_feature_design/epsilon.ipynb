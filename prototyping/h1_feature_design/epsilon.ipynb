{
 "cells": [
  {
   "cell_type": "code",
   "execution_count": 2,
   "metadata": {},
   "outputs": [],
   "source": [
    "import numpy as np\n",
    "import matplotlib.pyplot as plt"
   ]
  },
  {
   "cell_type": "code",
   "execution_count": 23,
   "metadata": {},
   "outputs": [],
   "source": [
    "EPSILON_AT_ROUND_ZERO = 1\n",
    "EPSILON_AT_ROUND_LAST = 0.001\n",
    "TRAINING_ROUNDS       = 3000"
   ]
  },
  {
   "cell_type": "code",
   "execution_count": 24,
   "metadata": {},
   "outputs": [],
   "source": [
    "EPSILON_AT_ROUND_ONE  = np.power(EPSILON_AT_ROUND_LAST / EPSILON_AT_ROUND_ZERO, \n",
    "                                        1 / TRAINING_ROUNDS)  # n-th root of epsilon_at_last_round"
   ]
  },
  {
   "cell_type": "code",
   "execution_count": 25,
   "metadata": {},
   "outputs": [],
   "source": [
    "def epsilon_old(round):\n",
    "    return EPSILON_AT_ROUND_ZERO * np.power(EPSILON_AT_ROUND_ONE, round)"
   ]
  },
  {
   "cell_type": "code",
   "execution_count": 26,
   "metadata": {},
   "outputs": [],
   "source": [
    "rounds     = np.arange(TRAINING_ROUNDS) + 1\n",
    "eps_old_values = epsilon_old(rounds)"
   ]
  },
  {
   "cell_type": "markdown",
   "metadata": {},
   "source": [
    "## Round-based epsilon function"
   ]
  },
  {
   "cell_type": "code",
   "execution_count": 31,
   "metadata": {},
   "outputs": [],
   "source": [
    "EPSILON_AT_ROUND_ZERO = 1\n",
    "EPSILON_THRESHOLD     = 0.1\n",
    "EPSILON_AT_INFINITY   = 0.001\n",
    "\n",
    "TRAINING_ROUNDS    = 3000\n",
    "THRESHOLD_FRACTION = 0.33333"
   ]
  },
  {
   "cell_type": "code",
   "execution_count": 32,
   "metadata": {},
   "outputs": [],
   "source": [
    "A               = EPSILON_AT_ROUND_ZERO - EPSILON_AT_INFINITY\n",
    "ROUND_THRESHOLD = int(TRAINING_ROUNDS * THRESHOLD_FRACTION)\n",
    "L               = 1 / ROUND_THRESHOLD * np.log(A / (EPSILON_THRESHOLD - EPSILON_AT_INFINITY))"
   ]
  },
  {
   "cell_type": "code",
   "execution_count": 33,
   "metadata": {},
   "outputs": [],
   "source": [
    "def epsilon (rounds):\n",
    "    return A * np.exp(- L * rounds) + EPSILON_AT_INFINITY"
   ]
  },
  {
   "cell_type": "code",
   "execution_count": 34,
   "metadata": {},
   "outputs": [
    {
     "data": {
      "image/png": "[encoded data removed]",
      "text/plain": [
       "<Figure size 432x288 with 1 Axes>"
      ]
     },
     "metadata": {
      "needs_background": "light"
     },
     "output_type": "display_data"
    }
   ],
   "source": [
    "rounds     = np.arange(TRAINING_ROUNDS) + 1\n",
    "eps_values = epsilon(rounds)\n",
    "plt.plot(rounds, eps_values)\n",
    "plt.plot(rounds, eps_old_values)\n",
    "plt.ylim((0, 1.1*EPSILON_AT_ROUND_ZERO))\n",
    "plt.vlines(ROUND_THRESHOLD, ymin = 0, ymax = 1.1*EPSILON_AT_ROUND_ZERO)\n",
    "plt.hlines((0.1), xmin = 0, xmax = TRAINING_ROUNDS)\n",
    "plt.show()"
   ]
  },
  {
   "cell_type": "code",
   "execution_count": 35,
   "metadata": {},
   "outputs": [
    {
     "name": "stdout",
     "output_type": "stream",
     "text": [
      "0.001965516726069146 0.0009999999999998688\n"
     ]
    }
   ],
   "source": [
    "print(eps_values[2999], eps_old_values[2999])"
   ]
  },
  {
   "cell_type": "markdown",
   "metadata": {},
   "source": [
    "## \"Experience\"-based epsilon function\n",
    "Experience = number of times this particular Q-state has already occured"
   ]
  },
  {
   "cell_type": "code",
   "execution_count": 37,
   "metadata": {},
   "outputs": [],
   "source": [
    "EPSILON_AT_START     = 1\n",
    "EPSILON_THRESHOLD    = 0.1\n",
    "EPSILON_AT_INFINITY  = 0.01\n",
    "THRESHOLD_EXPERIENCE = 300"
   ]
  },
  {
   "cell_type": "code",
   "execution_count": 38,
   "metadata": {},
   "outputs": [],
   "source": [
    "A = EPSILON_AT_START - EPSILON_AT_INFINITY\n",
    "L = 1 / THRESHOLD_EXPERIENCE * np.log(A / (EPSILON_THRESHOLD - EPSILON_AT_INFINITY))"
   ]
  },
  {
   "cell_type": "markdown",
   "metadata": {},
   "source": [
    "def epsilon (state_indices):\n",
    "    occurances = np.sum(self.Sa_counter[state_indices])\n",
    "\n",
    "    return A * np.exp(- L * occurances) + EPSILON_AT_INFINITY"
   ]
  },
  {
   "cell_type": "code",
   "execution_count": 39,
   "metadata": {},
   "outputs": [],
   "source": [
    "def epsilon_test (occurances):\n",
    "    return A * np.exp(- L * occurances) + EPSILON_AT_INFINITY"
   ]
  },
  {
   "cell_type": "code",
   "execution_count": 40,
   "metadata": {},
   "outputs": [
    {
     "data": {
      "image/png": "[encoded data removed]",
      "text/plain": [
       "<Figure size 432x288 with 1 Axes>"
      ]
     },
     "metadata": {
      "needs_background": "light"
     },
     "output_type": "display_data"
    }
   ],
   "source": [
    "occurances = np.arange(5*THRESHOLD_EXPERIENCE) + 1\n",
    "eps_values = epsilon_test(occurances)\n",
    "plt.plot(occurances, eps_values)\n",
    "plt.ylim((0, 1.1*EPSILON_AT_START))\n",
    "plt.vlines(THRESHOLD_EXPERIENCE, ymin = 0, ymax = 1.1*EPSILON_AT_START)\n",
    "plt.hlines((0.1), xmin = 0, xmax = 5*THRESHOLD_EXPERIENCE)\n",
    "plt.show()"
   ]
  },
  {
   "cell_type": "code",
   "execution_count": 41,
   "metadata": {},
   "outputs": [],
   "source": [
    "EPSILON_AT_ROUND_ZERO = 1\n",
    "EPSILON_AT_ROUND_LAST = 0.01\n",
    "EPSILON_AT_ROUND_ONE  = np.power(EPSILON_AT_ROUND_LAST / EPSILON_AT_ROUND_ZERO, \n",
    "                                    1 / TRAINING_ROUNDS)  # n-th root of epsilon_at_last_round\n",
    "def epsilon_old(round):\n",
    "    return EPSILON_AT_ROUND_ZERO * np.power(EPSILON_AT_ROUND_ONE, round)"
   ]
  },
  {
   "cell_type": "code",
   "execution_count": 42,
   "metadata": {},
   "outputs": [
    {
     "ename": "TypeError",
     "evalue": "unsupported operand type(s) for ** or pow(): 'float' and 'builtin_function_or_method'",
     "output_type": "error",
     "traceback": [
      "\u001b[0;31m---------------------------------------------------------------------------\u001b[0m",
      "\u001b[0;31mTypeError\u001b[0m                                 Traceback (most recent call last)",
      "Input \u001b[0;32mIn [42]\u001b[0m, in \u001b[0;36m<cell line: 2>\u001b[0;34m()\u001b[0m\n\u001b[1;32m      1\u001b[0m rounds     \u001b[39m=\u001b[39m np\u001b[39m.\u001b[39marange(TRAINING_ROUNDS) \u001b[39m+\u001b[39m \u001b[39m1\u001b[39m\n\u001b[0;32m----> 2\u001b[0m eps_old_values \u001b[39m=\u001b[39m epsilon_old(\u001b[39mround\u001b[39;49m)\n\u001b[1;32m      3\u001b[0m plt\u001b[39m.\u001b[39mplot(occurances, eps_values)\n\u001b[1;32m      4\u001b[0m plt\u001b[39m.\u001b[39mplot(occurances, eps_old_values)\n",
      "\u001b[1;32m/Users/Birk/Documents/Uni/Semester VII/Fundamentals of Machine Learning/Bomberman project/bomberman_rl/prototyping/h1_feature_design/epsilon.ipynb Cell 14'\u001b[0m in \u001b[0;36mepsilon_old\u001b[0;34m(round)\u001b[0m\n\u001b[1;32m      <a href='vscode-notebook-cell:/Users/Birk/Documents/Uni/Semester%20VII/Fundamentals%20of%20Machine%20Learning/Bomberman%20project/bomberman_rl/prototyping/h1_feature_design/epsilon.ipynb#ch0000013?line=4'>5</a>\u001b[0m \u001b[39mdef\u001b[39;00m \u001b[39mepsilon_old\u001b[39m(\u001b[39mround\u001b[39m):\n\u001b[0;32m----> <a href='vscode-notebook-cell:/Users/Birk/Documents/Uni/Semester%20VII/Fundamentals%20of%20Machine%20Learning/Bomberman%20project/bomberman_rl/prototyping/h1_feature_design/epsilon.ipynb#ch0000013?line=5'>6</a>\u001b[0m     \u001b[39mreturn\u001b[39;00m EPSILON_AT_ROUND_ZERO \u001b[39m*\u001b[39m np\u001b[39m.\u001b[39;49mpower(EPSILON_AT_ROUND_ONE, \u001b[39mround\u001b[39;49m)\n",
      "\u001b[0;31mTypeError\u001b[0m: unsupported operand type(s) for ** or pow(): 'float' and 'builtin_function_or_method'"
     ]
    }
   ],
   "source": [
    "rounds     = np.arange(TRAINING_ROUNDS) + 1\n",
    "eps_old_values = epsilon_old(round)\n",
    "plt.plot(occurances, eps_values)\n",
    "plt.plot(occurances, eps_old_values)\n",
    "plt.ylim((0, 1.1*EPSILON_AT_START))\n",
    "plt.vlines(THRESHOLD_EXPERIENCE, ymin = 0, ymax = 1.1*EPSILON_AT_START)\n",
    "plt.hlines((0.1), xmin = 0, xmax = 5*THRESHOLD_EXPERIENCE)\n",
    "plt.show()"
   ]
  },
  {
   "cell_type": "code",
   "execution_count": null,
   "metadata": {},
   "outputs": [],
   "source": []
  }
 ],
 "metadata": {
  "interpreter": {
   "hash": "9c6cebfa2f6916454f586e38d7dc74344caa14c114dff9b64499406f6acbdf5c"
  },
  "kernelspec": {
   "display_name": "Python 3.10.0 ('bomberman')",
   "language": "python",
   "name": "python3"
  },
  "language_info": {
   "codemirror_mode": {
    "name": "ipython",
    "version": 3
   },
   "file_extension": ".py",
   "mimetype": "text/x-python",
   "name": "python",
   "nbconvert_exporter": "python",
   "pygments_lexer": "ipython3",
   "version": "3.10.0"
  },
  "orig_nbformat": 4
 },
 "nbformat": 4,
 "nbformat_minor": 2
}
