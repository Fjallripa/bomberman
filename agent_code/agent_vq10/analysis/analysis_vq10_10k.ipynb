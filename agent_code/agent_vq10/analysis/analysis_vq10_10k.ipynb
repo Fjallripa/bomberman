{
 "cells": [
  {
   "cell_type": "code",
   "execution_count": 1,
   "metadata": {},
   "outputs": [],
   "source": [
    "import json\n",
    "import numpy as np\n",
    "import matplotlib.pyplot as plt"
   ]
  },
  {
   "cell_type": "code",
   "execution_count": 16,
   "metadata": {},
   "outputs": [],
   "source": [
    "# Constants to customize\n",
    "agent_name = 'vq10'\n",
    "model_name = '10k'\n",
    "\n",
    "available_coins = 50   # std coin-heaven scenario\n",
    "good_coin_speed = 2.6   # [steps/coin] approx. speed of a human in that scenario"
   ]
  },
  {
   "cell_type": "code",
   "execution_count": 6,
   "metadata": {},
   "outputs": [],
   "source": [
    "results_file = f\"../test_results/result_{agent_name}_{model_name}.json\"\n",
    "with open(results_file) as file:\n",
    "    results_data = json.load(file)"
   ]
  },
  {
   "cell_type": "code",
   "execution_count": 10,
   "metadata": {},
   "outputs": [
    {
     "name": "stdout",
     "output_type": "stream",
     "text": [
      "bombs : 3\n",
      "coins : 32\n",
      "invalid : 38515\n",
      "moves : 289\n",
      "rounds : 100\n",
      "score : 32\n",
      "steps : 38815\n",
      "suicides : 3\n",
      "time : 12.664315700531006\n"
     ]
    }
   ],
   "source": [
    "agent_stats = results_data['by_agent'][f'agent_{agent_name}']\n",
    "for key in agent_stats:\n",
    "    print(key, \":\", agent_stats[key])\n"
   ]
  },
  {
   "cell_type": "code",
   "execution_count": 12,
   "metadata": {},
   "outputs": [],
   "source": [
    "total_rounds = agent_stats['rounds']\n",
    "total_steps  = agent_stats['steps']\n",
    "total_coins  = agent_stats['coins']"
   ]
  },
  {
   "cell_type": "code",
   "execution_count": 13,
   "metadata": {},
   "outputs": [],
   "source": [
    "coins_per_round  = total_coins / total_rounds\n",
    "collection_speed = total_steps / total_coins"
   ]
  },
  {
   "cell_type": "code",
   "execution_count": 18,
   "metadata": {},
   "outputs": [
    {
     "name": "stdout",
     "output_type": "stream",
     "text": [
      "Average number of collected coins per round: 0.32  (should be 50)\n",
      "Average coin collecting speed: 1212.97 steps/coin  (should be ≈2.6)\n"
     ]
    }
   ],
   "source": [
    "print(f\"Average number of collected coins per round: {coins_per_round:.2f}  (should be {available_coins})\")\n",
    "print(f\"Average coin collecting speed: {collection_speed:.2f} steps/coin  (should be ≈{good_coin_speed})\")"
   ]
  },
  {
   "cell_type": "markdown",
   "metadata": {},
   "source": [
    "### Comments from visual tests\n",
    "* doesn't move at all when starting from corners\n",
    "* almost never does anything"
   ]
  }
 ],
 "metadata": {
  "interpreter": {
   "hash": "9c6cebfa2f6916454f586e38d7dc74344caa14c114dff9b64499406f6acbdf5c"
  },
  "kernelspec": {
   "display_name": "Python 3.10.0 ('bomberman')",
   "language": "python",
   "name": "python3"
  },
  "language_info": {
   "codemirror_mode": {
    "name": "ipython",
    "version": 3
   },
   "file_extension": ".py",
   "mimetype": "text/x-python",
   "name": "python",
   "nbconvert_exporter": "python",
   "pygments_lexer": "ipython3",
   "version": "3.10.0"
  },
  "orig_nbformat": 4
 },
 "nbformat": 4,
 "nbformat_minor": 2
}
