{
 "cells": [
  {
   "cell_type": "code",
   "execution_count": 2,
   "metadata": {},
   "outputs": [],
   "source": [
    "import numpy as np\n",
    "import random"
   ]
  },
  {
   "cell_type": "code",
   "execution_count": 3,
   "metadata": {},
   "outputs": [],
   "source": [
    "def look_for_targets(free_space, start, targets, logger=None):\n",
    "    \"\"\"\n",
    "    Find direction of closest target that can be reached via free tiles.\n",
    "\n",
    "    Performs a breadth-first search of the reachable free tiles until a target is encountered.\n",
    "    If no target can be reached, the path that takes the agent closest to any target is chosen.\n",
    "\n",
    "    Args:\n",
    "        free_space: Boolean numpy array. True for free tiles and False for obstacles.\n",
    "        start: the coordinate from which to begin the search.\n",
    "        targets: list or array holding the coordinates of all target tiles.\n",
    "        logger: optional logger object for debugging.\n",
    "    Returns:\n",
    "        coordinate of first step towards closest target or towards tile closest to any target.\n",
    "    \"\"\"\n",
    "    \n",
    "    \n",
    "    if len(targets) == 0: return None\n",
    "\n",
    "    frontier    = [start]         # tree leaves\n",
    "    parent_dict = {start: start}  # branching points\n",
    "    dist_so_far = {start: 0}      # branch lengths\n",
    "    best_ones   = []\n",
    "    best_dist   = np.sum(np.abs(np.subtract(targets, start)), axis=1).min()\n",
    "    found_one   = False\n",
    "\n",
    "    while len(frontier) > 0:   # While there still are reachable tiles\n",
    "        current = frontier.pop(0)\n",
    "        \n",
    "        # Find distance from current position to all targets, track closest\n",
    "        d = np.sum(np.abs(np.subtract(targets, current)), axis=1).min()\n",
    "        current_dist = d + dist_so_far[current]\n",
    "        if d == 0:   # In case there is a reachable coin, stop only if you have found a path to it.\n",
    "            # Found path to a target's exact position, mission accomplished!\n",
    "            best_ones.append(current)\n",
    "            best_dist = current_dist\n",
    "            found_one = True\n",
    "        elif current_dist == best_dist:   # In case no coin is reachable, find reachable tile closest to closest coin.\n",
    "            best_ones.append(current)   \n",
    "        elif current_dist < best_dist:\n",
    "            best_ones = [current]\n",
    "            best_dist = current_dist\n",
    "        \n",
    "        if found_one and dist_so_far[current] >= best_dist:   # If one target has already been found and this tile doesn't have a target, forget about it.\n",
    "            # Forget about current tile\n",
    "            continue    \n",
    "        else:   # else expand the frontier by adding neighbors        \n",
    "            # Add unexplored free neighboring tiles to the queue in a random order\n",
    "            x, y       = current\n",
    "            directions = [(x, y - 1), (x + 1, y), (x, y + 1), (x - 1, y)]   # UP, RIGHT, DOWN, LEFT from (x, y)\n",
    "            neighbors  = [(x_dir, y_dir)  for (x_dir, y_dir) in directions  if free_space[x_dir, y_dir]]\n",
    "            random.shuffle(neighbors)\n",
    "            for neighbor in neighbors:\n",
    "                if neighbor not in parent_dict:\n",
    "                    frontier.append(neighbor)\n",
    "                    parent_dict[neighbor] = current\n",
    "                    dist_so_far[neighbor] = dist_so_far[current] + 1\n",
    "    \n",
    "    \n",
    "    if logger: logger.debug(f'Suitable target(s) found at {best_ones}')\n",
    "    \n",
    "    # Determine the first step (best direction(s)) towards the best found target tile(s)\n",
    "    directions = []\n",
    "    while len(best_ones) > 0:\n",
    "        current = best_ones.pop(0)\n",
    "        parent = parent_dict[current]\n",
    "        if parent == start:\n",
    "            directions.append(current)\n",
    "        elif parent not in best_ones:\n",
    "            best_ones.append(parent)\n",
    "    \n",
    "    return directions"
   ]
  },
  {
   "cell_type": "code",
   "execution_count": null,
   "metadata": {},
   "outputs": [],
   "source": [
    "diction = {\"a\": \"b\", \"b\": \"c\"}"
   ]
  }
 ],
 "metadata": {
  "interpreter": {
   "hash": "9c6cebfa2f6916454f586e38d7dc74344caa14c114dff9b64499406f6acbdf5c"
  },
  "kernelspec": {
   "display_name": "Python 3.10.0 ('bomberman')",
   "language": "python",
   "name": "python3"
  },
  "language_info": {
   "codemirror_mode": {
    "name": "ipython",
    "version": 3
   },
   "file_extension": ".py",
   "mimetype": "text/x-python",
   "name": "python",
   "nbconvert_exporter": "python",
   "pygments_lexer": "ipython3",
   "version": "3.10.0"
  },
  "orig_nbformat": 4
 },
 "nbformat": 4,
 "nbformat_minor": 2
}
