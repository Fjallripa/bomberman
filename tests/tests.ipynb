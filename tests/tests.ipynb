{
 "cells": [
  {
   "cell_type": "code",
   "execution_count": 2,
   "metadata": {},
   "outputs": [],
   "source": [
    "import numpy as np\n",
    "import pickle\n",
    "import matplotlib.pyplot as plt"
   ]
  },
  {
   "cell_type": "code",
   "execution_count": 4,
   "metadata": {},
   "outputs": [
    {
     "name": "stdout",
     "output_type": "stream",
     "text": [
      "2\n"
     ]
    }
   ],
   "source": [
    "ACTIONS = ['UP', 'RIGHT', 'DOWN', 'LEFT', 'WAIT', 'BOMB']\n",
    "\n",
    "print(ACTIONS.index('DOWN'))"
   ]
  },
  {
   "cell_type": "code",
   "execution_count": 5,
   "metadata": {},
   "outputs": [
    {
     "name": "stdout",
     "output_type": "stream",
     "text": [
      "[[ 0.0000000e+00  0.0000000e+00  0.0000000e+00  0.0000000e+00\n",
      "   0.0000000e+00  0.0000000e+00]\n",
      " [ 0.0000000e+00  0.0000000e+00  0.0000000e+00  0.0000000e+00\n",
      "   0.0000000e+00  0.0000000e+00]\n",
      " [ 0.0000000e+00  0.0000000e+00  0.0000000e+00  0.0000000e+00\n",
      "   0.0000000e+00  0.0000000e+00]\n",
      " [ 0.0000000e+00  0.0000000e+00  0.0000000e+00  0.0000000e+00\n",
      "   0.0000000e+00  0.0000000e+00]\n",
      " [ 0.0000000e+00  0.0000000e+00  0.0000000e+00  0.0000000e+00\n",
      "   0.0000000e+00  0.0000000e+00]\n",
      " [ 2.7134981e+07  2.7134977e+07  2.7134979e+07  2.7134981e+07\n",
      "   2.7127307e+07  2.7132474e+07]\n",
      " [ 0.0000000e+00  0.0000000e+00  0.0000000e+00  0.0000000e+00\n",
      "   0.0000000e+00  0.0000000e+00]\n",
      " [ 2.7134977e+07  2.7134982e+07  2.7134981e+07  2.7134972e+07\n",
      "  -2.0000000e+00  2.7132513e+07]\n",
      " [ 0.0000000e+00  0.0000000e+00  0.0000000e+00  0.0000000e+00\n",
      "   0.0000000e+00  0.0000000e+00]\n",
      " [ 0.0000000e+00  0.0000000e+00  0.0000000e+00  0.0000000e+00\n",
      "   0.0000000e+00  0.0000000e+00]\n",
      " [-5.8600000e+02 -5.8600000e+02 -5.8600000e+02 -5.8600000e+02\n",
      "  -5.8600000e+02 -5.8600000e+02]\n",
      " [ 2.7132311e+07  2.7134973e+07  2.7134973e+07  2.7134375e+07\n",
      "   2.7134971e+07  2.7133256e+07]\n",
      " [-5.6200000e+02 -5.6200000e+02 -5.6200000e+02 -5.6200000e+02\n",
      "  -5.6200000e+02 -5.6200000e+02]\n",
      " [ 0.0000000e+00  0.0000000e+00  0.0000000e+00  0.0000000e+00\n",
      "   0.0000000e+00  0.0000000e+00]\n",
      " [ 2.7134970e+07  2.7134971e+07  2.7134969e+07  2.7134960e+07\n",
      "   0.0000000e+00  0.0000000e+00]\n",
      " [ 2.7134971e+07  2.7134969e+07  2.7132791e+07  2.7134969e+07\n",
      "   2.7134588e+07  2.7134934e+07]\n",
      " [ 2.7134939e+07  2.7134974e+07  2.7134974e+07  2.7134654e+07\n",
      "   2.7127346e+07 -4.0000000e+00]\n",
      " [ 0.0000000e+00  0.0000000e+00  0.0000000e+00  0.0000000e+00\n",
      "   0.0000000e+00  0.0000000e+00]\n",
      " [ 0.0000000e+00  0.0000000e+00  0.0000000e+00  0.0000000e+00\n",
      "   0.0000000e+00  0.0000000e+00]\n",
      " [ 2.7132399e+07  2.7134974e+07  2.7134978e+07  2.7133898e+07\n",
      "   2.7134969e+07  2.7132966e+07]\n",
      " [ 0.0000000e+00  0.0000000e+00  0.0000000e+00  0.0000000e+00\n",
      "   0.0000000e+00  0.0000000e+00]\n",
      " [ 2.7134972e+07  2.7134959e+07  2.7132271e+07  2.7134905e+07\n",
      "   2.7134653e+07  2.7132953e+07]\n",
      " [ 2.7134977e+07  2.7134971e+07  2.7134971e+07  2.7134785e+07\n",
      "   2.7127347e+07 -6.0000000e+00]\n",
      " [ 0.0000000e+00  0.0000000e+00  0.0000000e+00  0.0000000e+00\n",
      "   0.0000000e+00  0.0000000e+00]\n",
      " [ 0.0000000e+00  0.0000000e+00  0.0000000e+00  0.0000000e+00\n",
      "   0.0000000e+00  0.0000000e+00]\n",
      " [ 0.0000000e+00  0.0000000e+00  0.0000000e+00  0.0000000e+00\n",
      "   0.0000000e+00  0.0000000e+00]\n",
      " [ 0.0000000e+00  0.0000000e+00  0.0000000e+00  0.0000000e+00\n",
      "   0.0000000e+00  0.0000000e+00]\n",
      " [ 0.0000000e+00  0.0000000e+00  0.0000000e+00  0.0000000e+00\n",
      "   0.0000000e+00  0.0000000e+00]\n",
      " [-5.7200000e+02 -5.7200000e+02 -5.7200000e+02 -5.7200000e+02\n",
      "  -5.7200000e+02 -5.7200000e+02]\n",
      " [ 2.7132677e+07  2.7134669e+07  2.7134949e+07  2.7134954e+07\n",
      "   2.7134970e+07  2.7134971e+07]\n",
      " [-5.9000000e+02 -5.9000000e+02 -5.9000000e+02 -5.9000000e+02\n",
      "  -5.9000000e+02 -5.9000000e+02]\n",
      " [ 0.0000000e+00  0.0000000e+00  0.0000000e+00  0.0000000e+00\n",
      "   0.0000000e+00  0.0000000e+00]\n",
      " [ 2.7134941e+07  2.7133869e+07  2.7134950e+07  2.7134950e+07\n",
      "   2.7127307e+07  2.7127313e+07]\n",
      " [ 2.7134977e+07  2.7134507e+07  2.7133631e+07  2.7134973e+07\n",
      "   2.7134412e+07  2.7134971e+07]\n",
      " [ 2.7134970e+07  2.7134350e+07  2.7134970e+07  2.7134970e+07\n",
      "   2.7127311e+07 -1.0000000e+00]\n",
      " [ 0.0000000e+00  0.0000000e+00  0.0000000e+00  0.0000000e+00\n",
      "   0.0000000e+00  0.0000000e+00]\n",
      " [ 0.0000000e+00  0.0000000e+00  0.0000000e+00  0.0000000e+00\n",
      "   0.0000000e+00  0.0000000e+00]\n",
      " [ 0.0000000e+00  0.0000000e+00  0.0000000e+00  0.0000000e+00\n",
      "   0.0000000e+00  0.0000000e+00]\n",
      " [ 2.7132262e+07  2.7134977e+07  2.7134977e+07  2.7134978e+07\n",
      "  -4.0000000e+00 -4.0000000e+00]\n",
      " [ 0.0000000e+00  0.0000000e+00  0.0000000e+00  0.0000000e+00\n",
      "   0.0000000e+00  0.0000000e+00]\n",
      " [ 0.0000000e+00  0.0000000e+00  0.0000000e+00  0.0000000e+00\n",
      "   0.0000000e+00  0.0000000e+00]\n",
      " [ 2.7134982e+07  2.7134982e+07  2.7134982e+07  2.7134982e+07\n",
      "  -2.0000000e+00 -2.0000000e+00]\n",
      " [ 2.7134967e+07  2.7134967e+07  2.7132225e+07  2.7134969e+07\n",
      "  -1.0000000e+00 -1.0000000e+00]\n",
      " [ 2.7134969e+07  2.7134982e+07  2.7134967e+07  2.7134982e+07\n",
      "  -4.0000000e+00 -4.0000000e+00]\n",
      " [ 0.0000000e+00  0.0000000e+00  0.0000000e+00  0.0000000e+00\n",
      "   0.0000000e+00  0.0000000e+00]\n",
      " [ 2.7134982e+07  2.7134982e+07  2.7134982e+07  2.7134982e+07\n",
      "   2.7127328e+07  2.7134982e+07]\n",
      " [ 2.7131896e+07  2.7134969e+07  2.7134972e+07  2.7134974e+07\n",
      "  -1.0000000e+00 -1.0000000e+00]\n",
      " [ 0.0000000e+00  0.0000000e+00  0.0000000e+00  0.0000000e+00\n",
      "   0.0000000e+00  0.0000000e+00]\n",
      " [ 2.7134971e+07  2.7134971e+07  2.7132124e+07  2.7134972e+07\n",
      "  -4.0000000e+00 -4.0000000e+00]\n",
      " [ 2.7134981e+07  2.7134977e+07  2.7134982e+07  2.7134981e+07\n",
      "  -1.0000000e+00 -1.0000000e+00]\n",
      " [ 0.0000000e+00  0.0000000e+00  0.0000000e+00  0.0000000e+00\n",
      "   0.0000000e+00  0.0000000e+00]\n",
      " [ 0.0000000e+00  0.0000000e+00  0.0000000e+00  0.0000000e+00\n",
      "   0.0000000e+00  0.0000000e+00]\n",
      " [ 0.0000000e+00  0.0000000e+00  0.0000000e+00  0.0000000e+00\n",
      "   0.0000000e+00  0.0000000e+00]\n",
      " [ 0.0000000e+00  0.0000000e+00  0.0000000e+00  0.0000000e+00\n",
      "   0.0000000e+00  0.0000000e+00]\n",
      " [ 0.0000000e+00  0.0000000e+00  0.0000000e+00  0.0000000e+00\n",
      "   0.0000000e+00  0.0000000e+00]\n",
      " [ 2.7132178e+07  2.7134724e+07  2.7134969e+07  2.7134977e+07\n",
      "   2.7134708e+07  2.7134757e+07]\n",
      " [ 0.0000000e+00  0.0000000e+00  0.0000000e+00  0.0000000e+00\n",
      "   0.0000000e+00  0.0000000e+00]\n",
      " [ 2.7134968e+07  2.7134940e+07  2.7132474e+07  2.7134968e+07\n",
      "   2.7134545e+07  2.7134716e+07]\n",
      " [ 2.7134970e+07  2.7134940e+07  2.7134969e+07  2.7134968e+07\n",
      "  -2.0000000e+00 -2.0000000e+00]\n",
      " [ 0.0000000e+00  0.0000000e+00  0.0000000e+00  0.0000000e+00\n",
      "   0.0000000e+00  0.0000000e+00]\n",
      " [ 0.0000000e+00  0.0000000e+00  0.0000000e+00  0.0000000e+00\n",
      "   0.0000000e+00  0.0000000e+00]\n",
      " [ 0.0000000e+00  0.0000000e+00  0.0000000e+00  0.0000000e+00\n",
      "   0.0000000e+00  0.0000000e+00]\n",
      " [ 0.0000000e+00  0.0000000e+00  0.0000000e+00  0.0000000e+00\n",
      "   0.0000000e+00  0.0000000e+00]\n",
      " [ 2.7134982e+07  2.7134982e+07  2.7134977e+07  2.7134982e+07\n",
      "   2.7127333e+07  2.7134970e+07]\n",
      " [ 2.7132278e+07  2.7134970e+07  2.7134977e+07  2.7134970e+07\n",
      "   0.0000000e+00  0.0000000e+00]\n",
      " [ 0.0000000e+00  0.0000000e+00  0.0000000e+00  0.0000000e+00\n",
      "   0.0000000e+00  0.0000000e+00]\n",
      " [ 2.7134975e+07  2.7134969e+07  2.7132311e+07  2.7134961e+07\n",
      "  -3.0000000e+00 -3.0000000e+00]\n",
      " [ 2.7134977e+07  2.7134978e+07  2.7134974e+07  2.7134974e+07\n",
      "  -3.0000000e+00 -3.0000000e+00]\n",
      " [ 0.0000000e+00  0.0000000e+00  0.0000000e+00  0.0000000e+00\n",
      "   0.0000000e+00  0.0000000e+00]\n",
      " [ 0.0000000e+00  0.0000000e+00  0.0000000e+00  0.0000000e+00\n",
      "   0.0000000e+00  0.0000000e+00]\n",
      " [ 0.0000000e+00  0.0000000e+00  0.0000000e+00  0.0000000e+00\n",
      "   0.0000000e+00  0.0000000e+00]\n",
      " [ 0.0000000e+00  0.0000000e+00  0.0000000e+00  0.0000000e+00\n",
      "   0.0000000e+00  0.0000000e+00]\n",
      " [ 0.0000000e+00  0.0000000e+00  0.0000000e+00  0.0000000e+00\n",
      "   0.0000000e+00  0.0000000e+00]\n",
      " [ 0.0000000e+00  0.0000000e+00  0.0000000e+00  0.0000000e+00\n",
      "   0.0000000e+00  0.0000000e+00]\n",
      " [ 0.0000000e+00  0.0000000e+00  0.0000000e+00  0.0000000e+00\n",
      "   0.0000000e+00  0.0000000e+00]\n",
      " [ 0.0000000e+00  0.0000000e+00  0.0000000e+00  0.0000000e+00\n",
      "   0.0000000e+00  0.0000000e+00]\n",
      " [ 0.0000000e+00  0.0000000e+00  0.0000000e+00  0.0000000e+00\n",
      "   0.0000000e+00  0.0000000e+00]\n",
      " [ 0.0000000e+00  0.0000000e+00  0.0000000e+00  0.0000000e+00\n",
      "   0.0000000e+00  0.0000000e+00]\n",
      " [ 0.0000000e+00  0.0000000e+00  0.0000000e+00  0.0000000e+00\n",
      "   0.0000000e+00  0.0000000e+00]\n",
      " [ 0.0000000e+00  0.0000000e+00  0.0000000e+00  0.0000000e+00\n",
      "   0.0000000e+00  0.0000000e+00]\n",
      " [ 0.0000000e+00  0.0000000e+00  0.0000000e+00  0.0000000e+00\n",
      "   0.0000000e+00  0.0000000e+00]]\n"
     ]
    }
   ],
   "source": [
    "file_name = \"../agent_code/agent_vq10/model_vq10ch1.pt\"\n",
    "with open(file_name, \"rb\") as file:\n",
    "    model = pickle.load(file)\n",
    "    #plt.imshow(model.T)\n",
    "    print(model)"
   ]
  },
  {
   "cell_type": "code",
   "execution_count": 28,
   "metadata": {},
   "outputs": [],
   "source": [
    "test_array = np.ones((2,3))\n",
    "np.savetxt('test_data.csv', test_array)"
   ]
  },
  {
   "cell_type": "code",
   "execution_count": 3,
   "metadata": {},
   "outputs": [],
   "source": [
    "test_file = lambda x: f\"test_log/test{x}.npy\"\n",
    "\n",
    "test_array = np.arange(100).reshape((10, 10))\n",
    "\n",
    "for i, num in enumerate(test_array):\n",
    "    with open(test_file(i), \"wb\") as file:\n",
    "        np.save(file, num)"
   ]
  },
  {
   "cell_type": "code",
   "execution_count": 4,
   "metadata": {},
   "outputs": [
    {
     "name": "stdout",
     "output_type": "stream",
     "text": [
      "[0 1 2 3 4 5 6 7 8 9]\n",
      "[10 11 12 13 14 15 16 17 18 19]\n",
      "[20 21 22 23 24 25 26 27 28 29]\n",
      "[30 31 32 33 34 35 36 37 38 39]\n",
      "[40 41 42 43 44 45 46 47 48 49]\n",
      "[50 51 52 53 54 55 56 57 58 59]\n",
      "[60 61 62 63 64 65 66 67 68 69]\n",
      "[70 71 72 73 74 75 76 77 78 79]\n",
      "[80 81 82 83 84 85 86 87 88 89]\n",
      "[90 91 92 93 94 95 96 97 98 99]\n"
     ]
    }
   ],
   "source": [
    "for i in range(10):\n",
    "    print(np.load(test_file(i)))"
   ]
  },
  {
   "cell_type": "code",
   "execution_count": 7,
   "metadata": {},
   "outputs": [
    {
     "data": {
      "text/plain": [
       "array([[  0.,   0.,   0.,   0.,   0.,   0.],\n",
       "       [  0.,   0.,   0.,   0.,   0.,   0.],\n",
       "       [  0.,   0.,   0.,   0.,   0.,   0.],\n",
       "       [  0.,   0.,   0.,   0.,   0.,   0.],\n",
       "       [  0.,   0.,   0.,   0.,   0.,   0.],\n",
       "       [ 11.,  11.,  12.,  11.,   9.,  11.],\n",
       "       [  0.,   0.,   0.,   0.,   0.,   0.],\n",
       "       [ 12.,  12.,  12.,  10.,  12.,  14.],\n",
       "       [  0.,   0.,   0.,   0.,   0.,   0.],\n",
       "       [  0.,   0.,   0.,   0.,   0.,   0.],\n",
       "       [ -1.,  -1.,  -1.,  -1.,  -1.,  -1.],\n",
       "       [ -2.,   8.,  -2.,  -2.,  -2.,  -2.],\n",
       "       [  0.,   0.,   0.,   0.,   0.,   0.],\n",
       "       [  0.,   0.,   0.,   0.,   0.,   0.],\n",
       "       [  0.,   0.,   0.,   0.,   0.,   0.],\n",
       "       [ 12.,  12.,  12.,  -1.,  -1.,  -1.],\n",
       "       [ -2.,  -2.,  11.,  -2.,  -2.,  -2.],\n",
       "       [  0.,   0.,   0.,   0.,   0.,   0.],\n",
       "       [  0.,   0.,   0.,   0.,   0.,   0.],\n",
       "       [ -2.,  -2.,  11.,  -2.,  -2.,  12.],\n",
       "       [  0.,   0.,   0.,   0.,   0.,   0.],\n",
       "       [ 12.,  11.,  -7.,  -7.,  -7.,  -7.],\n",
       "       [ -7.,  12.,  12.,  -7.,  -7.,  -7.],\n",
       "       [  0.,   0.,   0.,   0.,   0.,   0.],\n",
       "       [  0.,   0.,   0.,   0.,   0.,   0.],\n",
       "       [  0.,   0.,   0.,   0.,   0.,   0.],\n",
       "       [  0.,   0.,   0.,   0.,   0.,   0.],\n",
       "       [  0.,   0.,   0.,   0.,   0.,   0.],\n",
       "       [ -2.,  -2.,  -2.,  -2.,  -2.,  -2.],\n",
       "       [ -4.,  -4.,   9.,  12.,  11.,  -4.],\n",
       "       [  0.,   0.,   0.,   0.,   0.,   0.],\n",
       "       [  0.,   0.,   0.,   0.,   0.,   0.],\n",
       "       [  0.,   0.,   0.,   0.,   0.,   0.],\n",
       "       [ 12., -16., -16.,  12.,  12., -16.],\n",
       "       [  0.,   0.,   0.,   0.,   0.,   0.],\n",
       "       [  0.,   0.,   0.,   0.,   0.,   0.],\n",
       "       [  0.,   0.,   0.,   0.,   0.,   0.],\n",
       "       [  0.,   0.,   0.,   0.,   0.,   0.],\n",
       "       [ -9.,   9.,   9.,   9.,   9.,  -9.],\n",
       "       [  0.,   0.,   0.,   0.,   0.,   0.],\n",
       "       [  0.,   0.,   0.,   0.,   0.,   0.],\n",
       "       [  0.,   0.,   0.,   0.,   0.,   0.],\n",
       "       [ 12.,  12.,  -5.,  12.,  -5.,   9.],\n",
       "       [ -1.,  -1.,  13.,  13.,  -1.,  -1.],\n",
       "       [  0.,   0.,   0.,   0.,   0.,   0.],\n",
       "       [ 11.,  10.,  12.,  12.,   9., -12.],\n",
       "       [  0.,   0.,   0.,   0.,   0.,   0.],\n",
       "       [  0.,   0.,   0.,   0.,   0.,   0.],\n",
       "       [  0.,   0.,   0.,   0.,   0.,   0.],\n",
       "       [ 12.,  -1.,  12.,  -1.,  -1.,  -1.],\n",
       "       [  0.,   0.,   0.,   0.,   0.,   0.],\n",
       "       [  0.,   0.,   0.,   0.,   0.,   0.],\n",
       "       [  0.,   0.,   0.,   0.,   0.,   0.],\n",
       "       [  0.,   0.,   0.,   0.,   0.,   0.],\n",
       "       [  0.,   0.,   0.,   0.,   0.,   0.],\n",
       "       [-10., -10.,  12.,  11., -10.,  11.],\n",
       "       [  0.,   0.,   0.,   0.,   0.,   0.],\n",
       "       [ -1.,  -1.,  -1.,  -1.,  -1.,  -1.],\n",
       "       [ 11.,  -3.,  -3.,  -3.,  -3.,  -3.],\n",
       "       [  0.,   0.,   0.,   0.,   0.,   0.],\n",
       "       [  0.,   0.,   0.,   0.,   0.,   0.],\n",
       "       [  0.,   0.,   0.,   0.,   0.,   0.],\n",
       "       [  0.,   0.,   0.,   0.,   0.,   0.],\n",
       "       [ 12.,  12.,  12.,  12., -13., -13.],\n",
       "       [ -2.,  -2.,  -2.,  -2.,  -2.,  -2.],\n",
       "       [  0.,   0.,   0.,   0.,   0.,   0.],\n",
       "       [  0.,   0.,   0.,   0.,   0.,   0.],\n",
       "       [  7.,  -2.,  -2.,  -2.,  -2.,   9.],\n",
       "       [  0.,   0.,   0.,   0.,   0.,   0.],\n",
       "       [  0.,   0.,   0.,   0.,   0.,   0.],\n",
       "       [  0.,   0.,   0.,   0.,   0.,   0.],\n",
       "       [  0.,   0.,   0.,   0.,   0.,   0.],\n",
       "       [  0.,   0.,   0.,   0.,   0.,   0.],\n",
       "       [  0.,   0.,   0.,   0.,   0.,   0.],\n",
       "       [  0.,   0.,   0.,   0.,   0.,   0.],\n",
       "       [  0.,   0.,   0.,   0.,   0.,   0.],\n",
       "       [  0.,   0.,   0.,   0.,   0.,   0.],\n",
       "       [  0.,   0.,   0.,   0.,   0.,   0.],\n",
       "       [  0.,   0.,   0.,   0.,   0.,   0.],\n",
       "       [  0.,   0.,   0.,   0.,   0.,   0.],\n",
       "       [  0.,   0.,   0.,   0.,   0.,   0.]])"
      ]
     },
     "execution_count": 7,
     "metadata": {},
     "output_type": "execute_result"
    }
   ],
   "source": [
    "np.load('../agent_code/agent_vq10/logs/Q_data/Q10.npy')"
   ]
  },
  {
   "cell_type": "code",
   "execution_count": 77,
   "metadata": {},
   "outputs": [
    {
     "data": {
      "text/plain": [
       "array([1, 4, 5])"
      ]
     },
     "execution_count": 77,
     "metadata": {},
     "output_type": "execute_result"
    }
   ],
   "source": [
    "vector = np.array([0, 1, 0, 0.9, 1, 1, 0])\n",
    "np.nonzero(vector == np.max(vector))[0]"
   ]
  },
  {
   "cell_type": "code",
   "execution_count": 91,
   "metadata": {},
   "outputs": [
    {
     "name": "stdout",
     "output_type": "stream",
     "text": [
      "[[1. 0. 0. 0. 0.]\n",
      " [0. 1. 0. 0. 0.]\n",
      " [0. 0. 1. 0. 0.]\n",
      " [0. 0. 0. 1. 0.]\n",
      " [0. 0. 0. 0. 1.]]\n",
      "[[0 0]\n",
      " [1 1]\n",
      " [2 2]\n",
      " [3 3]\n",
      " [4 4]]\n",
      "1\n"
     ]
    },
    {
     "data": {
      "text/plain": [
       "array([1, 1])"
      ]
     },
     "execution_count": 91,
     "metadata": {},
     "output_type": "execute_result"
    }
   ],
   "source": [
    "vector = np.eye(5)\n",
    "print(vector)\n",
    "max_indices = np.array(np.nonzero(vector == np.max(vector))).T\n",
    "print(max_indices)\n",
    "index = np.random.randint(len(max_indices))\n",
    "print(index)\n",
    "max_indices[index]"
   ]
  },
  {
   "cell_type": "code",
   "execution_count": 32,
   "metadata": {},
   "outputs": [],
   "source": [
    "def random_argmax (vector):\n",
    "    max_indices = np.where(vector == np.max(vector))[0]\n",
    "    return np.random.choice(max_indices)"
   ]
  },
  {
   "cell_type": "code",
   "execution_count": 33,
   "metadata": {},
   "outputs": [
    {
     "data": {
      "text/plain": [
       "1"
      ]
     },
     "execution_count": 33,
     "metadata": {},
     "output_type": "execute_result"
    }
   ],
   "source": [
    "random_argmax(np.eye(3))"
   ]
  },
  {
   "cell_type": "code",
   "execution_count": 36,
   "metadata": {},
   "outputs": [],
   "source": [
    "import json\n",
    "results_file = \"../../results/2022-03-10 20-08-54.json\""
   ]
  },
  {
   "cell_type": "code",
   "execution_count": 38,
   "metadata": {},
   "outputs": [
    {
     "name": "stdout",
     "output_type": "stream",
     "text": [
      "{'bombs': 1239, 'coins': 3727, 'invalid': 32567, 'moves': 33231, 'rounds': 1000, 'score': 3727, 'steps': 67166, 'suicides': 977, 'time': 35.38808250427246}\n"
     ]
    }
   ],
   "source": [
    "with open(results_file) as file:\n",
    "    data = json.load(file)\n",
    "    print(data['by_agent']['agent_vq10'])"
   ]
  },
  {
   "cell_type": "code",
   "execution_count": 58,
   "metadata": {},
   "outputs": [],
   "source": [
    "number_of_rounds  = data['by_agent']['agent_vq10']['rounds']\n",
    "round_list        = list(data['by_round'])\n",
    "coin_list         = []\n",
    "round_length_list = []\n",
    "for round in range(number_of_rounds):\n",
    "    round_name = round_list[round]\n",
    "    collected_coins = data['by_round'][round_name]['coins']\n",
    "    number_of_steps = data['by_round'][round_name]['steps']\n",
    "    coin_list.append(collected_coins)\n",
    "    round_length_list.append(number_of_steps)"
   ]
  },
  {
   "cell_type": "code",
   "execution_count": 50,
   "metadata": {},
   "outputs": [
    {
     "data": {
      "image/png": "[encoded data removed]",
      "text/plain": [
       "<Figure size 432x288 with 1 Axes>"
      ]
     },
     "metadata": {
      "needs_background": "light"
     },
     "output_type": "display_data"
    }
   ],
   "source": [
    "plt.hist(coin_list, bins = max(coin_list));"
   ]
  },
  {
   "cell_type": "code",
   "execution_count": 70,
   "metadata": {},
   "outputs": [],
   "source": [
    "rounds = np.arange(number_of_rounds)\n",
    "def moving_average(x, w):\n",
    "    \"\"\"\n",
    "    from https://newbedev.com/how-to-calculate-rolling-moving-average-using-numpy-scipy\n",
    "    \"\"\"\n",
    "    return np.convolve(x, np.ones(w), 'valid') / w"
   ]
  },
  {
   "cell_type": "code",
   "execution_count": 57,
   "metadata": {},
   "outputs": [
    {
     "data": {
      "image/png": "[encoded data removed]",
      "text/plain": [
       "<Figure size 432x288 with 1 Axes>"
      ]
     },
     "metadata": {
      "needs_background": "light"
     },
     "output_type": "display_data"
    }
   ],
   "source": [
    "avg_length = 50\n",
    "plt.plot(rounds, coin_list)\n",
    "plt.plot(rounds[:-(avg_length - 1)], moving_average(coin_list, avg_length), 'y');"
   ]
  },
  {
   "cell_type": "code",
   "execution_count": 64,
   "metadata": {},
   "outputs": [],
   "source": [
    "Q_file_name = lambda x: f'../agent_code/agent_vq10/logs/Q_data/Q{x}.npy'\n",
    "Q_file      = lambda x: np.load(Q_file_name(x))\n",
    "\n",
    "number_of_rounds = 1000\n",
    "all_rounds       = np.arange(number_of_rounds)\n",
    "allQ = np.zeros((number_of_rounds, *Q_file(1).shape))\n",
    "for round in all_rounds:\n",
    "    allQ[round] = Q_file(round+1)"
   ]
  },
  {
   "cell_type": "code",
   "execution_count": 66,
   "metadata": {},
   "outputs": [
    {
     "data": {
      "text/plain": [
       "[<matplotlib.lines.Line2D at 0x7fd98df6c520>]"
      ]
     },
     "execution_count": 66,
     "metadata": {},
     "output_type": "execute_result"
    },
    {
     "data": {
      "image/png": "[encoded data removed]",
      "text/plain": [
       "<Figure size 432x288 with 1 Axes>"
      ]
     },
     "metadata": {
      "needs_background": "light"
     },
     "output_type": "display_data"
    }
   ],
   "source": [
    "plt.plot(all_rounds, np.mean(allQ, axis = (1, 2)))"
   ]
  },
  {
   "cell_type": "code",
   "execution_count": 73,
   "metadata": {},
   "outputs": [
    {
     "data": {
      "text/plain": [
       "(0.0, 10000.0)"
      ]
     },
     "execution_count": 73,
     "metadata": {},
     "output_type": "execute_result"
    },
    {
     "data": {
      "image/png": "[encoded data removed]",
      "text/plain": [
       "<Figure size 432x288 with 1 Axes>"
      ]
     },
     "metadata": {
      "needs_background": "light"
     },
     "output_type": "display_data"
    }
   ],
   "source": [
    "plt.plot(all_rounds[:-1], np.linalg.norm(allQ[:-1] - allQ[1:], axis = (1, 2)))\n",
    "plt.ylim(0, 10000)"
   ]
  },
  {
   "cell_type": "code",
   "execution_count": 75,
   "metadata": {},
   "outputs": [
    {
     "data": {
      "text/plain": [
       "(-100.0, 100.0)"
      ]
     },
     "execution_count": 75,
     "metadata": {},
     "output_type": "execute_result"
    },
    {
     "data": {
      "image/png": "[encoded data removed]",
      "text/plain": [
       "<Figure size 432x288 with 1 Axes>"
      ]
     },
     "metadata": {
      "needs_background": "light"
     },
     "output_type": "display_data"
    }
   ],
   "source": [
    "plt.plot(all_rounds, np.max(allQ, axis = (1, 2)))\n",
    "plt.plot(all_rounds, np.min(allQ, axis = (1, 2)))\n",
    "plt.ylim(-100, 100)"
   ]
  },
  {
   "cell_type": "code",
   "execution_count": 28,
   "metadata": {},
   "outputs": [],
   "source": [
    "# Testing to append arrays to csv file\n",
    "\n",
    "example_data   = np.arange(100, dtype = int).reshape((10, 10))\n",
    "example_header = '\\t\\t'.join(['A', 'B', 'C', 'D', 'E', 'F', 'G', 'H', 'I', 'J'])\n",
    "\n",
    "## Clearing csv file and creating header\n",
    "with open(\"test_table.csv\", 'w') as file:\n",
    "    np.savetxt(file, np.array([]), header = example_header, comments = \"\")\n",
    "\n",
    "## Appending data row-wise\n",
    "for array in example_data:\n",
    "    array = np.array(array, ndmin = 2)   # 1xn matrix to become a row\n",
    "    with open(\"test_table.csv\", 'a') as file:\n",
    "        np.savetxt(file, array, fmt = '%.2f', delimiter = '\\t')"
   ]
  },
  {
   "cell_type": "code",
   "execution_count": null,
   "metadata": {},
   "outputs": [],
   "source": []
  }
 ],
 "metadata": {
  "interpreter": {
   "hash": "9c6cebfa2f6916454f586e38d7dc74344caa14c114dff9b64499406f6acbdf5c"
  },
  "kernelspec": {
   "display_name": "Python 3.10.0 ('bomberman')",
   "language": "python",
   "name": "python3"
  },
  "language_info": {
   "codemirror_mode": {
    "name": "ipython",
    "version": 3
   },
   "file_extension": ".py",
   "mimetype": "text/x-python",
   "name": "python",
   "nbconvert_exporter": "python",
   "pygments_lexer": "ipython3",
   "version": "3.10.0"
  },
  "orig_nbformat": 4
 },
 "nbformat": 4,
 "nbformat_minor": 2
}
