{
 "cells": [
  {
   "cell_type": "code",
   "execution_count": 4,
   "metadata": {},
   "outputs": [],
   "source": [
    "import numpy as np"
   ]
  },
  {
   "cell_type": "code",
   "execution_count": 23,
   "metadata": {},
   "outputs": [],
   "source": [
    "test_features = np.array( \\\n",
    "    [[0, 2, 0, 1],\n",
    "     [1, 1, 0, 2],\n",
    "     [0, 0, 2, 0],\n",
    "     [2, 1, 0, 1],\n",
    "     [1, 2, 0, 0],\n",
    "     [2, 0, 0, 0]]\n",
    ")"
   ]
  },
  {
   "cell_type": "code",
   "execution_count": 35,
   "metadata": {},
   "outputs": [
    {
     "name": "stdout",
     "output_type": "stream",
     "text": [
      "Sorted features\n",
      "[[0 0 1 2]\n",
      " [0 1 1 2]\n",
      " [0 0 0 2]\n",
      " [0 1 1 2]\n",
      " [0 0 1 2]\n",
      " [0 0 0 2]]\n"
     ]
    }
   ],
   "source": [
    "sorted_features = np.sort(test_features, axis = 1)\n",
    "print(\"Sorted features\")\n",
    "print(sorted_features)"
   ]
  },
  {
   "cell_type": "code",
   "execution_count": 36,
   "metadata": {},
   "outputs": [
    {
     "name": "stdout",
     "output_type": "stream",
     "text": [
      "Sorted indices\n",
      "[[0 2 3 1]\n",
      " [2 0 1 3]\n",
      " [0 1 3 2]\n",
      " [2 1 3 0]\n",
      " [2 3 0 1]\n",
      " [1 2 3 0]]\n"
     ]
    }
   ],
   "source": [
    "sorted_indices = np.argsort(test_features, axis = 1)\n",
    "print(\"Sorted indices\")\n",
    "print(sorted_indices)"
   ]
  },
  {
   "cell_type": "code",
   "execution_count": 26,
   "metadata": {},
   "outputs": [
    {
     "data": {
      "text/plain": [
       "True"
      ]
     },
     "execution_count": 26,
     "metadata": {},
     "output_type": "execute_result"
    }
   ],
   "source": [
    "# Test if sort is random\n",
    "equal = np.empty(100)\n",
    "for i in range(100):\n",
    "    sorted_indices  = np.argsort(test_features, axis = 1)\n",
    "    sorted_indices2 = np.argsort(test_features, axis = 1)\n",
    "    equal[i] = np.all(sorted_indices == sorted_indices2)\n",
    "np.all(equal)\n",
    "# If True then not random"
   ]
  },
  {
   "cell_type": "code",
   "execution_count": 27,
   "metadata": {},
   "outputs": [
    {
     "name": "stderr",
     "output_type": "stream",
     "text": [
      "/var/folders/43/7lbyzcz55dz1yrwzhvb9dk9c0000gn/T/ipykernel_28977/2928762744.py:2: DeprecationWarning: elementwise comparison failed; this will raise an error in the future.\n",
      "  np.all(test_features == sorted_features[sorted_indices])\n"
     ]
    },
    {
     "data": {
      "text/plain": [
       "False"
      ]
     },
     "execution_count": 27,
     "metadata": {},
     "output_type": "execute_result"
    }
   ],
   "source": [
    "# Does backtransformation work?\n",
    "np.all(test_features == sorted_features[sorted_indices])"
   ]
  },
  {
   "cell_type": "code",
   "execution_count": 34,
   "metadata": {},
   "outputs": [
    {
     "name": "stdout",
     "output_type": "stream",
     "text": [
      "restored  test\n",
      "[0 1 2 0] [0 2 0 1]\n",
      "[1 0 1 2] [1 1 0 2]\n",
      "[0 0 2 0] [0 0 2 0]\n",
      "[1 1 2 0] [2 1 0 1]\n",
      "[1 2 0 0] [1 2 0 0]\n",
      "[0 0 2 0] [2 0 0 0]\n",
      "Same: False\n"
     ]
    }
   ],
   "source": [
    "# Does backtransformation work like test_features == sorted_features[sorted_indices]?\n",
    "print(\"restored  test\")\n",
    "restored_features = np.empty_like(test_features)\n",
    "for i in range(len(test_features)):\n",
    "    restored_features[i] = sorted_features[i][sorted_indices[i]]\n",
    "    print(restored_features[i], test_features[i])\n",
    "print(\"Same:\", np.all(restored_features == test_features))\n",
    "# If False then it doesn't work like that"
   ]
  },
  {
   "cell_type": "code",
   "execution_count": 38,
   "metadata": {},
   "outputs": [
    {
     "name": "stdout",
     "output_type": "stream",
     "text": [
      "restored  test\n",
      "[0 2 0 1] [0 2 0 1]\n",
      "[1 1 0 2] [1 1 0 2]\n",
      "[0 0 2 0] [0 0 2 0]\n",
      "[2 1 0 1] [2 1 0 1]\n",
      "[1 2 0 0] [1 2 0 0]\n",
      "[2 0 0 0] [2 0 0 0]\n",
      "Same: True\n"
     ]
    }
   ],
   "source": [
    "# Does backtransformation work like this?\n",
    "backtrafo_indices = np.argsort(sorted_indices)\n",
    "\n",
    "print(\"restored  test\")\n",
    "restored_features = np.empty_like(test_features)\n",
    "for i in range(len(test_features)):\n",
    "    restored_features[i] = sorted_features[i][backtrafo_indices[i]]\n",
    "    print(restored_features[i], test_features[i])\n",
    "print(\"Same:\", np.all(restored_features == test_features))\n",
    "# If True then it does work like that"
   ]
  },
  {
   "cell_type": "code",
   "execution_count": null,
   "metadata": {},
   "outputs": [],
   "source": []
  }
 ],
 "metadata": {
  "interpreter": {
   "hash": "9c6cebfa2f6916454f586e38d7dc74344caa14c114dff9b64499406f6acbdf5c"
  },
  "kernelspec": {
   "display_name": "Python 3.10.0 ('bomberman')",
   "language": "python",
   "name": "python3"
  },
  "language_info": {
   "codemirror_mode": {
    "name": "ipython",
    "version": 3
   },
   "file_extension": ".py",
   "mimetype": "text/x-python",
   "name": "python",
   "nbconvert_exporter": "python",
   "pygments_lexer": "ipython3",
   "version": "3.10.0"
  },
  "orig_nbformat": 4
 },
 "nbformat": 4,
 "nbformat_minor": 2
}
