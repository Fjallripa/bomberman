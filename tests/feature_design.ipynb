{
 "cells": [
  {
   "cell_type": "code",
   "execution_count": 50,
   "metadata": {},
   "outputs": [],
   "source": [
    "import numpy as np"
   ]
  },
  {
   "cell_type": "markdown",
   "metadata": {},
   "source": [
    "### Testing how to create sorted policies\n",
    "Goal: Find the right way to create action indices ('policies') corresponding to the sorted features.  \n",
    "Motivation: Converting actions to so called 'sorted policies' that the Q-model can interpret."
   ]
  },
  {
   "cell_type": "code",
   "execution_count": 103,
   "metadata": {},
   "outputs": [],
   "source": [
    "# Creating some test data\n",
    "ACTIONS = ['UP', 'RIGHT', 'DOWN', 'LEFT', 'WAIT', 'BOMB']\n",
    "\n",
    "test_features = np.array( \\\n",
    "    [[0, 2, 0, 1],\n",
    "     [1, 1, 0, 2],\n",
    "     [0, 0, 2, 0],\n",
    "     [2, 1, 0, 1],\n",
    "     [1, 2, 0, 0],\n",
    "     [2, 0, 0, 0]]\n",
    ")\n",
    "\n",
    "ideal_actions = \\\n",
    "    ['RIGHT',\n",
    "     'LEFT',\n",
    "     'DOWN',\n",
    "     'UP',\n",
    "     'RIGHT',\n",
    "     'UP']"
   ]
  },
  {
   "cell_type": "code",
   "execution_count": 104,
   "metadata": {},
   "outputs": [],
   "source": [
    "sorted_features = np.sort(test_features, axis = 1)\n",
    "sorting_indices = np.argsort(test_features, axis = 1)"
   ]
  },
  {
   "cell_type": "code",
   "execution_count": 108,
   "metadata": {},
   "outputs": [
    {
     "name": "stdout",
     "output_type": "stream",
     "text": [
      "Original features  Sorted features  Sorting indices\n",
      "[0 2 0 1]          [0 0 1 2]        [0 2 3 1]\n",
      "[1 1 0 2]          [0 1 1 2]        [2 0 1 3]\n",
      "[0 0 2 0]          [0 0 0 2]        [0 1 3 2]\n",
      "[2 1 0 1]          [0 1 1 2]        [2 1 3 0]\n",
      "[1 2 0 0]          [0 0 1 2]        [2 3 0 1]\n",
      "[2 0 0 0]          [0 0 0 2]        [1 2 3 0]\n"
     ]
    }
   ],
   "source": [
    "print(\"Original features  Sorted features  Sorting indices\")\n",
    "for i in range(len(test_features)):\n",
    "    print(test_features[i], ' '*8, sorted_features[i], ' '*6, sorting_indices[i])"
   ]
  },
  {
   "cell_type": "code",
   "execution_count": 54,
   "metadata": {},
   "outputs": [
    {
     "data": {
      "text/plain": [
       "True"
      ]
     },
     "execution_count": 54,
     "metadata": {},
     "output_type": "execute_result"
    }
   ],
   "source": [
    "# Test if sort is random\n",
    "equal = np.empty(100)\n",
    "for i in range(100):\n",
    "    sorting_indices  = np.argsort(test_features, axis = 1)\n",
    "    sorting_indices2 = np.argsort(test_features, axis = 1)\n",
    "    equal[i] = np.all(sorting_indices == sorting_indices2)\n",
    "np.all(equal)\n",
    "# If True then not random"
   ]
  },
  {
   "cell_type": "code",
   "execution_count": 109,
   "metadata": {},
   "outputs": [
    {
     "name": "stdout",
     "output_type": "stream",
     "text": [
      "features  policy  actions\n",
      "[0 2 0 1] 1       RIGHT\n",
      "[1 1 0 2] 3       LEFT\n",
      "[0 0 2 0] 2       DOWN\n",
      "[2 1 0 1] 0       UP\n",
      "[1 2 0 0] 1       RIGHT\n",
      "[2 0 0 0] 0       UP\n"
     ]
    }
   ],
   "source": [
    "# Original ideal actions and policies\n",
    "policy = np.array([ACTIONS.index(action)  for action in ideal_actions])  # indices of the actions\n",
    "\n",
    "print(\"features  policy  actions\")\n",
    "for i in range(len(test_features)):\n",
    "    print(test_features[i], f\"{policy[i]:<7}\", ideal_actions[i])"
   ]
  },
  {
   "cell_type": "code",
   "execution_count": null,
   "metadata": {},
   "outputs": [
    {
     "name": "stdout",
     "output_type": "stream",
     "text": [
      "sorted features  sorted policy  'sorted actions'\n",
      "[0 0 1 2]        3              LEFT\n",
      "[0 1 1 2]        3              LEFT\n",
      "[0 0 0 2]        3              LEFT\n",
      "[0 1 1 2]        3              LEFT\n",
      "[0 0 1 2]        3              LEFT\n",
      "[0 0 0 2]        3              LEFT\n",
      "Yes, but it's a bit ugly.\n"
     ]
    }
   ],
   "source": [
    "# Does it work to just sort the policy with the sorting indices?\n",
    "sorted_policy  = np.array([list(sorting_indices[i]).index(policy[i])  for i in range(len(policy))])\n",
    "sorted_actions = [ACTIONS[sorted_policy[i]]  for i in range(len(policy))]\n",
    "\n",
    "print(\"sorted features  sorted policy  'sorted actions'\")\n",
    "for i in range(len(test_features)):\n",
    "    print(sorted_features[i], ' '*6, f\"{sorted_policy[i]:<14}\", sorted_actions[i])\n",
    "\n",
    "print(\"Yes, but code's a bit ugly.\")"
   ]
  },
  {
   "cell_type": "code",
   "execution_count": 112,
   "metadata": {},
   "outputs": [
    {
     "name": "stdout",
     "output_type": "stream",
     "text": [
      "sorted features  sorted policy  'sorted actions'\n",
      "[0 0 1 2]        3              LEFT\n",
      "[0 1 1 2]        3              LEFT\n",
      "[0 0 0 2]        3              LEFT\n",
      "[0 1 1 2]        3              LEFT\n",
      "[0 0 1 2]        3              LEFT\n",
      "[0 0 0 2]        3              LEFT\n",
      "Hmm, code is not much more elegant.\n"
     ]
    }
   ],
   "source": [
    "# Rediscovering the numpy way:\n",
    "sorted_policy  = np.array([np.where(sorting_indices[i] == policy[i])[0][0]  for i in range(len(policy))])\n",
    "sorted_actions = [ACTIONS[sorted_policy[i]]  for i in range(len(policy))]\n",
    "\n",
    "print(\"sorted features  sorted policy  'sorted actions'\")\n",
    "for i in range(len(test_features)):\n",
    "    print(sorted_features[i], ' '*6, f\"{sorted_policy[i]:<14}\", sorted_actions[i])\n",
    "\n",
    "print(\"Hmm, code is not much more elegant.\")"
   ]
  },
  {
   "cell_type": "markdown",
   "metadata": {},
   "source": [
    "Deciding on performance:"
   ]
  },
  {
   "cell_type": "code",
   "execution_count": 101,
   "metadata": {},
   "outputs": [
    {
     "name": "stdout",
     "output_type": "stream",
     "text": [
      "3.13 µs ± 88.6 ns per loop (mean ± std. dev. of 7 runs, 100,000 loops each)\n"
     ]
    }
   ],
   "source": [
    "%timeit np.where(sorting_indices[4] == policy[4])[0][0]"
   ]
  },
  {
   "cell_type": "code",
   "execution_count": 102,
   "metadata": {},
   "outputs": [
    {
     "name": "stdout",
     "output_type": "stream",
     "text": [
      "1.17 µs ± 6.75 ns per loop (mean ± std. dev. of 7 runs, 1,000,000 loops each)\n"
     ]
    }
   ],
   "source": [
    "%timeit list(sorting_indices[4]).index(policy[4])"
   ]
  },
  {
   "cell_type": "markdown",
   "metadata": {},
   "source": [
    "=> Python's list is actually 3 times faster than numpy here."
   ]
  },
  {
   "cell_type": "markdown",
   "metadata": {},
   "source": [
    "### Testing how the backtransformation from sorted to original policies should be done"
   ]
  },
  {
   "cell_type": "markdown",
   "metadata": {},
   "source": [
    "#### First testing with transforming sorted features back to original features"
   ]
  },
  {
   "cell_type": "code",
   "execution_count": 57,
   "metadata": {},
   "outputs": [
    {
     "name": "stdout",
     "output_type": "stream",
     "text": [
      "restored  test\n",
      "[0 1 2 0] [0 2 0 1]\n",
      "[1 0 1 2] [1 1 0 2]\n",
      "[0 0 2 0] [0 0 2 0]\n",
      "[1 1 2 0] [2 1 0 1]\n",
      "[1 2 0 0] [1 2 0 0]\n",
      "[0 0 2 0] [2 0 0 0]\n",
      "Same: False\n"
     ]
    }
   ],
   "source": [
    "# Does backtransformation work like test_features == sorted_features[sorting_indices]?\n",
    "print(\"restored  test\")\n",
    "restored_features = np.empty_like(test_features)\n",
    "for i in range(len(test_features)):\n",
    "    restored_features[i] = sorted_features[i][sorting_indices[i]]\n",
    "    print(restored_features[i], test_features[i])\n",
    "print(\"Same:\", np.all(restored_features == test_features))\n",
    "# If False then it doesn't work like that"
   ]
  },
  {
   "cell_type": "code",
   "execution_count": 58,
   "metadata": {},
   "outputs": [
    {
     "name": "stdout",
     "output_type": "stream",
     "text": [
      "restored  test\n",
      "[0 0 2 3] [0 2 0 1]\n",
      "[2 0 0 1] [1 1 0 2]\n",
      "[0 0 0 3] [0 0 2 0]\n",
      "[2 1 1 3] [2 1 0 1]\n",
      "[2 2 3 0] [1 2 0 0]\n",
      "[1 1 1 3] [2 0 0 0]\n",
      "Same: False\n"
     ]
    }
   ],
   "source": [
    "# Does backtransformation work like test_features == sorting_indices[sorted_features]?\n",
    "print(\"restored  test\")\n",
    "restored_features = np.empty_like(test_features)\n",
    "for i in range(len(test_features)):\n",
    "    restored_features[i] = sorting_indices[i][sorted_features[i]]\n",
    "    print(restored_features[i], test_features[i])\n",
    "print(\"Same:\", np.all(restored_features == test_features))\n",
    "# If False then it doesn't work like that"
   ]
  },
  {
   "cell_type": "code",
   "execution_count": 59,
   "metadata": {},
   "outputs": [
    {
     "name": "stdout",
     "output_type": "stream",
     "text": [
      "restored  test\n",
      "[0 2 0 1] [0 2 0 1]\n",
      "[1 1 0 2] [1 1 0 2]\n",
      "[0 0 2 0] [0 0 2 0]\n",
      "[2 1 0 1] [2 1 0 1]\n",
      "[1 2 0 0] [1 2 0 0]\n",
      "[2 0 0 0] [2 0 0 0]\n",
      "Same: True\n"
     ]
    }
   ],
   "source": [
    "# Does backtransformation work like this?\n",
    "backtrafo_indices = np.argsort(sorting_indices)\n",
    "\n",
    "print(\"restored  test\")\n",
    "restored_features = np.empty_like(test_features)\n",
    "for i in range(len(test_features)):\n",
    "    restored_features[i] = sorted_features[i][backtrafo_indices[i]]\n",
    "    print(restored_features[i], test_features[i])\n",
    "print(\"Same:\", np.all(restored_features == test_features))\n",
    "# If True then it does work like that"
   ]
  },
  {
   "cell_type": "markdown",
   "metadata": {},
   "source": [
    "#### Is this transferrable to backtransformation of sorted policies?"
   ]
  },
  {
   "cell_type": "code",
   "execution_count": 125,
   "metadata": {},
   "outputs": [
    {
     "name": "stdout",
     "output_type": "stream",
     "text": [
      "policy  restored policy\n",
      "1       2\n",
      "3       3\n",
      "2       2\n",
      "0       2\n",
      "1       1\n",
      "0       2\n",
      "Same: False\n"
     ]
    }
   ],
   "source": [
    "# Does it work with backtrafo_indices?\n",
    "print(\"policy  restored policy\")\n",
    "restored_policy = np.empty_like(policy)\n",
    "for i in range(len(test_features)):\n",
    "    restored_policy[i] = backtrafo_indices[i][sorted_policy[i]]\n",
    "    print(policy[i], ' '*5, restored_policy[i])\n",
    "print(\"Same:\", np.all(policy == restored_policy))\n",
    "# If True then it does work like that"
   ]
  },
  {
   "cell_type": "code",
   "execution_count": 126,
   "metadata": {},
   "outputs": [
    {
     "name": "stdout",
     "output_type": "stream",
     "text": [
      "policy  restored policy\n",
      "1       1\n",
      "3       3\n",
      "2       2\n",
      "0       0\n",
      "1       1\n",
      "0       0\n",
      "Same: True\n"
     ]
    }
   ],
   "source": [
    "# Does it work with sorting_indices?\n",
    "print(\"policy  restored policy\")\n",
    "restored_policy = np.empty_like(policy)\n",
    "for i in range(len(test_features)):\n",
    "    restored_policy[i] = sorting_indices[i][sorted_policy[i]]\n",
    "    print(policy[i], ' '*5, restored_policy[i])\n",
    "print(\"Same:\", np.all(policy == restored_policy))\n",
    "# If True then it does work like that"
   ]
  },
  {
   "cell_type": "markdown",
   "metadata": {},
   "source": [
    "### Other Tests"
   ]
  },
  {
   "cell_type": "code",
   "execution_count": 129,
   "metadata": {},
   "outputs": [
    {
     "name": "stdout",
     "output_type": "stream",
     "text": [
      "True\n",
      "True\n",
      "True\n",
      "True\n",
      "True\n",
      "True\n"
     ]
    }
   ],
   "source": [
    "# Test if sorting with sorting_features also works.\n",
    "for i in range(len(test_features)):\n",
    "    print(np.all(sorted_features[i] == test_features[i][sorting_indices[i]]))"
   ]
  },
  {
   "cell_type": "code",
   "execution_count": null,
   "metadata": {},
   "outputs": [],
   "source": []
  }
 ],
 "metadata": {
  "interpreter": {
   "hash": "9c6cebfa2f6916454f586e38d7dc74344caa14c114dff9b64499406f6acbdf5c"
  },
  "kernelspec": {
   "display_name": "Python 3.10.0 ('bomberman')",
   "language": "python",
   "name": "python3"
  },
  "language_info": {
   "codemirror_mode": {
    "name": "ipython",
    "version": 3
   },
   "file_extension": ".py",
   "mimetype": "text/x-python",
   "name": "python",
   "nbconvert_exporter": "python",
   "pygments_lexer": "ipython3",
   "version": "3.10.0"
  },
  "orig_nbformat": 4
 },
 "nbformat": 4,
 "nbformat_minor": 2
}
