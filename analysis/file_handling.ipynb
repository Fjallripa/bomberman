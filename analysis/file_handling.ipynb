{
 "cells": [
  {
   "cell_type": "code",
   "execution_count": 5,
   "metadata": {},
   "outputs": [],
   "source": [
    "import numpy as np\n",
    "import pickle\n",
    "import os\n",
    "import shutil\n",
    "import glob"
   ]
  },
  {
   "cell_type": "code",
   "execution_count": 5,
   "metadata": {},
   "outputs": [],
   "source": [
    "# Storing the 10k model\n",
    "long_model = np.load('../agent_code/agent_vq10/logs/Q_data/Q9483.npy')\n",
    "with open('../agent_code/agent_vq10/other_models/model_vq10_10k.pt', \"wb\") as file:\n",
    "        pickle.dump(long_model, file)"
   ]
  },
  {
   "cell_type": "code",
   "execution_count": 14,
   "metadata": {},
   "outputs": [],
   "source": [
    "def collect_Q_data (agent_name, model_name, number_of_rounds):\n",
    "    source_folder = f\"../agent_code/agent_{agent_name}/logs/Q_data/\"\n",
    "    Q_file_name = lambda x: f\"{source_folder}Q{x}.npy\"\n",
    "    Q_file      = lambda x: np.load(Q_file_name(x))\n",
    "  \n",
    "    all_rounds = np.arange(number_of_rounds) + 1\n",
    "    allQ       = np.zeros((number_of_rounds, *Q_file(1).shape))\n",
    "    for round in all_rounds:\n",
    "        print(f\"Loading 'Q{round}'\", end=\"\\r\")\n",
    "        allQ[round-1] = Q_file(round)\n",
    "    print('\\n')\n",
    "\n",
    "    analysis_folder = f\"../analysis/{agent_name}/{model_name}/\"\n",
    "    allQ_file_name  = f\"{analysis_folder}Qtrain.npy\"\n",
    "    # Check to prevent accidental overwrites\n",
    "    if os.path.exists(allQ_file_name):\n",
    "        print(f\"Do you want to overwrite the Qtrain.py file of agent_{agent_name}_{model_name}? (y/n)\")\n",
    "        answer = \"\"\n",
    "        while not (answer == \"y\" or answer == \"n\"):  \n",
    "            answer = input()\n",
    "        if answer == \"n\":\n",
    "            print(\"Didn't overwrite.\")\n",
    "            return\n",
    "        else:\n",
    "            print(f\"Overwriting '{allQ_file_name}'.\")\n",
    "    np.save(allQ_file_name, allQ)\n",
    "\n",
    "    if allQ_file_name in glob.glob(f\"{analysis_folder}*.npy\"):\n",
    "        print(f\"Removing Q-files in '{source_folder}'.\")\n",
    "        for file in glob.glob(f\"{source_folder}Q*.npy\"):\n",
    "            os.remove(file)\n",
    "    print(\"Done.\")"
   ]
  },
  {
   "cell_type": "code",
   "execution_count": 21,
   "metadata": {},
   "outputs": [
    {
     "name": "stdout",
     "output_type": "stream",
     "text": [
      "Do you want to overwrite the Qtrain.py file of agent_vq10_10k? (y/n)\n",
      "Didn't overwrite.\n"
     ]
    }
   ],
   "source": [
    "collect_Q_data(\"vq10\", \"10k\", 9483)"
   ]
  },
  {
   "cell_type": "code",
   "execution_count": 9,
   "metadata": {},
   "outputs": [
    {
     "name": "stdout",
     "output_type": "stream",
     "text": [
      "Done.ng 'Q100'\n"
     ]
    }
   ],
   "source": [
    "collect_Q_data(\"swq13\", \"train-data\", 100)"
   ]
  },
  {
   "cell_type": "code",
   "execution_count": 12,
   "metadata": {},
   "outputs": [],
   "source": [
    "def copy_model (agent_name, model_name):\n",
    "    source_file        = f\"../agent_code/agent_{agent_name}/model_{agent_name}_{model_name}.pt\"\n",
    "    destination_folder = f\"./{agent_name}/{model_name}/\"\n",
    "\n",
    "    shutil.copy(source_file, destination_folder)"
   ]
  },
  {
   "cell_type": "code",
   "execution_count": 13,
   "metadata": {},
   "outputs": [],
   "source": [
    "copy_model(\"swq13\", \"10k\")"
   ]
  },
  {
   "cell_type": "code",
   "execution_count": 17,
   "metadata": {},
   "outputs": [],
   "source": [
    "def move_log (agent_name, model_name, mode = \"train\"):\n",
    "    source_file      = f\"../agent_code/agent_{agent_name}/logs/agent_{agent_name}.log\"\n",
    "    destination_file = f\"./{agent_name}/{model_name}/log_{mode}.log\"\n",
    "\n",
    "    shutil.move(source_file, destination_file)"
   ]
  },
  {
   "cell_type": "code",
   "execution_count": 18,
   "metadata": {},
   "outputs": [],
   "source": [
    "move_log(\"swq13\", \"10k\")"
   ]
  },
  {
   "cell_type": "code",
   "execution_count": 1,
   "metadata": {},
   "outputs": [],
   "source": [
    "def copy_analysis_template (agent_name, model_name, mode = \"train\"):\n",
    "    source_file        = f\"./templates/analysis_{mode}.ipynb\"\n",
    "    destination_folder = f\"./{agent_name}/{model_name}/\"\n",
    "\n",
    "    shutil.copy(source_file, destination_folder)"
   ]
  },
  {
   "cell_type": "code",
   "execution_count": 4,
   "metadata": {},
   "outputs": [],
   "source": [
    "copy_analysis_template(\"swq13\", \"10k\")"
   ]
  },
  {
   "cell_type": "code",
   "execution_count": 8,
   "metadata": {},
   "outputs": [],
   "source": [
    "def move_results (agent_name, model_name, mode = \"train\"):\n",
    "    source_file        = glob.glob(\"../results/*.json\")[-1]   # latest json log file\n",
    "    destination_folder = f\"./{agent_name}/{model_name}/\"\n",
    "    destination_file   = f\"{destination_folder}results_{mode}.json\"\n",
    "\n",
    "    if destination_file not in glob.glob(destination_folder):\n",
    "        shutil.move(source_file, destination_file)\n",
    "    else:\n",
    "        print(f\"There's already a 'results_{mode}.json' file in '{destination_folder}'.\")"
   ]
  },
  {
   "cell_type": "code",
   "execution_count": 6,
   "metadata": {},
   "outputs": [
    {
     "data": {
      "text/plain": [
       "['../results/2022-03-15 20-30-00.json',\n",
       " '../results/2022-03-15 21-36-36.json',\n",
       " '../results/2022-03-16 00-27-15.json']"
      ]
     },
     "execution_count": 6,
     "metadata": {},
     "output_type": "execute_result"
    }
   ],
   "source": [
    "glob.glob(\"../results/*.json\")"
   ]
  },
  {
   "cell_type": "code",
   "execution_count": 9,
   "metadata": {},
   "outputs": [],
   "source": [
    "move_results(\"swq13\", \"10k\")"
   ]
  },
  {
   "cell_type": "code",
   "execution_count": 15,
   "metadata": {},
   "outputs": [
    {
     "name": "stdout",
     "output_type": "stream",
     "text": [
      "Loading 'Q10000'\n",
      "\n",
      "Do you want to overwrite the Qtrain.py file of agent_swq13_10k? (y/n)\n",
      "Overwriting '../analysis/swq13/10k/Qtrain.npy'.\n",
      "Removing Q-files in '../agent_code/agent_swq13/logs/Q_data/'.\n",
      "Done.\n"
     ]
    }
   ],
   "source": [
    "collect_Q_data(\"swq13\", \"10k\", 10_000)"
   ]
  },
  {
   "cell_type": "code",
   "execution_count": 16,
   "metadata": {},
   "outputs": [],
   "source": [
    "def collect_analysis_data (agent_name, model_name, n_rounds, mode = \"train\"):\n",
    "    copy_model            (agent_name, model_name)\n",
    "    move_log              (agent_name, model_name, mode)\n",
    "    copy_analysis_template(agent_name, model_name, mode)\n",
    "    move_results          (agent_name, model_name, mode)\n",
    "    collect_Q_data        (agent_name, model_name, n_rounds)\n",
    "    "
   ]
  },
  {
   "cell_type": "code",
   "execution_count": null,
   "metadata": {},
   "outputs": [],
   "source": []
  }
 ],
 "metadata": {
  "interpreter": {
   "hash": "9c6cebfa2f6916454f586e38d7dc74344caa14c114dff9b64499406f6acbdf5c"
  },
  "kernelspec": {
   "display_name": "Python 3.10.0 ('bomberman')",
   "language": "python",
   "name": "python3"
  },
  "language_info": {
   "codemirror_mode": {
    "name": "ipython",
    "version": 3
   },
   "file_extension": ".py",
   "mimetype": "text/x-python",
   "name": "python",
   "nbconvert_exporter": "python",
   "pygments_lexer": "ipython3",
   "version": "3.10.0"
  },
  "orig_nbformat": 4
 },
 "nbformat": 4,
 "nbformat_minor": 2
}
