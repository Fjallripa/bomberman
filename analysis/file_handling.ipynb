{
 "cells": [
  {
   "cell_type": "code",
   "execution_count": 2,
   "metadata": {},
   "outputs": [],
   "source": [
    "import numpy as np\n",
    "import pickle\n",
    "import json\n",
    "import os\n",
    "import shutil\n",
    "import glob"
   ]
  },
  {
   "cell_type": "code",
   "execution_count": 3,
   "metadata": {},
   "outputs": [],
   "source": [
    "def get_test_info (agent_name):\n",
    "    source_file = f\"../agent_code/agent_{agent_name}/logs/params_test.json\"\n",
    "    with open(source_file, 'r') as file:\n",
    "        params = json.load(file)\n",
    "    \n",
    "    #print(params['test'])\n",
    "    model_name = params['test']['MODEL_NAME'] \n",
    "\n",
    "    print(f\"Collecting test analysis data from {agent_name}_{model_name}.\")\n",
    "\n",
    "    return model_name"
   ]
  },
  {
   "cell_type": "code",
   "execution_count": 4,
   "metadata": {},
   "outputs": [],
   "source": [
    "def get_training_info (agent_name):\n",
    "    source_file = f\"../agent_code/agent_{agent_name}/logs/params_train.json\"\n",
    "    with open(source_file, 'r') as file:\n",
    "        params = json.load(file)\n",
    "    \n",
    "    model_name = params['training']['MODEL_NAME']\n",
    "    n_rounds   = params['training']['TRAINING_ROUNDS']\n",
    "    \n",
    "    if 'Q_SAVE_INTERVAL' in params['Q-update']:\n",
    "        Q_interval = params['Q-update']['Q_SAVE_INTERVAL']\n",
    "    else:\n",
    "        Q_interval = 1\n",
    "    if 'Q_UPDATE_INTERVAL' in params['Q-update']:\n",
    "        Q_interval *= params['Q-update']['Q_UPDATE_INTERVAL']\n",
    "\n",
    "    print(f\"Collecting training analysis data from {agent_name}_{model_name}.\")\n",
    "    print(f\"Trained {n_rounds} rounds with a Q-model saved every {Q_interval} rounds.\")\n",
    "\n",
    "    return model_name, n_rounds, Q_interval"
   ]
  },
  {
   "cell_type": "code",
   "execution_count": 5,
   "metadata": {},
   "outputs": [],
   "source": [
    "def make_analysis_directory (agent_name, model_name):\n",
    "    directory = f\"./{agent_name}/{model_name}/\"\n",
    "    os.makedirs(directory)"
   ]
  },
  {
   "cell_type": "code",
   "execution_count": 6,
   "metadata": {},
   "outputs": [],
   "source": [
    "def copy_params (agent_name, model_name, mode = \"train\"):\n",
    "    source_file      = f\"../agent_code/agent_{agent_name}/logs/params_{mode}.json\"\n",
    "    destination_file = f\"./{agent_name}/{model_name}/params_{mode}.json\"\n",
    "\n",
    "    shutil.copy(source_file, destination_file)"
   ]
  },
  {
   "cell_type": "code",
   "execution_count": 7,
   "metadata": {},
   "outputs": [],
   "source": [
    "def copy_model (agent_name, model_name):\n",
    "    source_file        = f\"../agent_code/agent_{agent_name}/models/model_{agent_name}_{model_name}.npy\"\n",
    "    destination_folder = f\"./{agent_name}/{model_name}/\"\n",
    "\n",
    "    shutil.copy(source_file, destination_folder)"
   ]
  },
  {
   "cell_type": "code",
   "execution_count": 8,
   "metadata": {},
   "outputs": [],
   "source": [
    "def copy_sa_counter (agent_name, model_name):\n",
    "    source_file      = f\"../agent_code/agent_{agent_name}/models/sa_counter_{agent_name}_{model_name}.npy\"\n",
    "    destination_folder = f\"./{agent_name}/{model_name}/\"\n",
    "\n",
    "    shutil.copy(source_file, destination_folder)"
   ]
  },
  {
   "cell_type": "code",
   "execution_count": 9,
   "metadata": {},
   "outputs": [],
   "source": [
    "def copy_log (agent_name, model_name, mode = \"train\"):\n",
    "    source_file      = f\"../agent_code/agent_{agent_name}/logs/agent_{agent_name}.log\"\n",
    "    destination_file = f\"./{agent_name}/{model_name}/log_{mode}.log\"\n",
    "\n",
    "    shutil.copy(source_file, destination_file)"
   ]
  },
  {
   "cell_type": "code",
   "execution_count": 10,
   "metadata": {},
   "outputs": [],
   "source": [
    "def move_results (agent_name, model_name, mode = \"train\"):\n",
    "    source_file        = sorted(glob.glob(\"../results/*.json\"))[-1]   # latest json log file\n",
    "    destination_folder = f\"./{agent_name}/{model_name}/\"\n",
    "    destination_file   = f\"{destination_folder}results_{mode}.json\"\n",
    "\n",
    "    if destination_file not in glob.glob(destination_folder):\n",
    "        shutil.move(source_file, destination_file)\n",
    "    else:\n",
    "        print(f\"There's already a 'results_{mode}.json' file in '{destination_folder}'.\")"
   ]
  },
  {
   "cell_type": "code",
   "execution_count": 11,
   "metadata": {},
   "outputs": [],
   "source": [
    "def collect_Q_data (agent_name, model_name, number_of_rounds, Q_interval):\n",
    "    source_folder = f\"../agent_code/agent_{agent_name}/logs/Q_data/\"\n",
    "    Q_file_name   = lambda x: f\"{source_folder}Q{x}.npy\"\n",
    "    Q_file        = lambda x: np.load(Q_file_name(x))\n",
    "  \n",
    "    number_of_Q_files = number_of_rounds // Q_interval\n",
    "    allQ       = np.zeros((number_of_Q_files, *Q_file(Q_interval).shape))\n",
    "    round = Q_interval\n",
    "    for i in range(number_of_Q_files):\n",
    "        round    = (i+1) * Q_interval\n",
    "        print(f\"Loading 'Q{round}'\", end=\"\\r\")\n",
    "        allQ[i]  = Q_file(round)\n",
    "    print('\\n')\n",
    "\n",
    "    analysis_folder = f\"../analysis/{agent_name}/{model_name}/\"\n",
    "    allQ_file_name  = f\"{analysis_folder}Qtrain.npy\"\n",
    "    # Check to prevent accidental overwrites\n",
    "    if os.path.exists(allQ_file_name):\n",
    "        print(f\"Do you want to overwrite the Qtrain.py file of agent_{agent_name}_{model_name}? (y/n)\")\n",
    "        answer = \"\"\n",
    "        while not (answer == \"y\" or answer == \"n\"):  \n",
    "            answer = input()\n",
    "        if answer == \"n\":\n",
    "            print(\"Didn't overwrite.\")\n",
    "            return\n",
    "        else:\n",
    "            print(f\"Overwriting '{allQ_file_name}'.\")\n",
    "    np.save(allQ_file_name, allQ)\n",
    "\n",
    "    if allQ_file_name in glob.glob(f\"{analysis_folder}*.npy\"):\n",
    "        print(f\"Removing Q-files in '{source_folder}'.\")\n",
    "        for file in glob.glob(f\"{source_folder}Q*.npy\"):\n",
    "            os.remove(file)\n",
    "    print(\"Done.\")"
   ]
  },
  {
   "cell_type": "code",
   "execution_count": 12,
   "metadata": {},
   "outputs": [],
   "source": [
    "def copy_analysis_template (agent_name, model_name, mode = \"train\"):\n",
    "    source_file        = f\"./templates/analysis_{mode}_{agent_name}.ipynb\"\n",
    "    destination_folder = f\"./{agent_name}/{model_name}/\"\n",
    "\n",
    "    shutil.copy(source_file, destination_folder)"
   ]
  },
  {
   "cell_type": "code",
   "execution_count": 13,
   "metadata": {},
   "outputs": [],
   "source": [
    "def collect_analysis_data (agent_name, mode = \"train\"):\n",
    "    if mode == \"train\":\n",
    "        model_name, n_rounds, Q_interval = get_training_info(agent_name)\n",
    "        make_analysis_directory(agent_name, model_name)\n",
    "        copy_model             (agent_name, model_name)\n",
    "        copy_sa_counter        (agent_name, model_name)\n",
    "        collect_Q_data         (agent_name, model_name, n_rounds, Q_interval)\n",
    "    elif mode == \"test\":\n",
    "        model_name = get_test_info(agent_name)\n",
    "    copy_params            (agent_name, model_name, mode)\n",
    "    copy_log               (agent_name, model_name, mode)\n",
    "    move_results           (agent_name, model_name, mode)\n",
    "    copy_analysis_template (agent_name, model_name, mode)"
   ]
  },
  {
   "cell_type": "code",
   "execution_count": 31,
   "metadata": {},
   "outputs": [
    {
     "name": "stdout",
     "output_type": "stream",
     "text": [
      "Collecting training analysis data from h6_coin-hunter3.\n",
      "Trained 500 rounds with a Q-model saved every 5 rounds.\n",
      "Loading 'Q500'\n",
      "\n",
      "Removing Q-files in '../agent_code/agent_h6/logs/Q_data/'.\n",
      "Done.\n"
     ]
    }
   ],
   "source": [
    "collect_analysis_data(\"h6\", \"train\")"
   ]
  },
  {
   "cell_type": "code",
   "execution_count": 24,
   "metadata": {},
   "outputs": [
    {
     "name": "stdout",
     "output_type": "stream",
     "text": [
      "Collecting test analysis data from h6_hand-crafted.\n"
     ]
    }
   ],
   "source": [
    "collect_analysis_data(\"h6\", \"test\")"
   ]
  },
  {
   "cell_type": "code",
   "execution_count": 22,
   "metadata": {},
   "outputs": [],
   "source": [
    "copy_model(\"h6\", \"hand-crafted\")"
   ]
  },
  {
   "cell_type": "code",
   "execution_count": 14,
   "metadata": {},
   "outputs": [],
   "source": [
    "ideal_q_model = np.array(\n",
    "    [[[0, 0, 0, 0, 1, 0],\n",
    "      [0, 0, 0, 1, 0, 0],\n",
    "      [0, 0, 0, 1, 0, 0],\n",
    "      [0, 0, 0, 1, 0, 0],\n",
    "      [0, 0, 0, 1, 0, 0],\n",
    "      [0, 0, 0, 1, 0, 0],\n",
    "      [0, 0, 0, 1, 0, 0],\n",
    "      [0, 0, 0, 1, 0, 0],\n",
    "      [0, 0, 0, 1, 0, 0],\n",
    "      [0, 0, 0, 1, 0, 0],\n",
    "      [0, 0, 0, 1, 0, 0],\n",
    "      [0, 0, 0, 1, 0, 0],\n",
    "      [0, 0, 0, 1, 0, 0],\n",
    "      [0, 0, 0, 1, 0, 0],\n",
    "      [0, 0, 0, 1, 0, 0]],\n",
    "\n",
    "     [[0, 0, 0, 0, 1, 0],\n",
    "      [0, 0, 0, 1, 0, 0],\n",
    "      [0, 0, 0, 1, 0, 0],\n",
    "      [0, 0, 0, 1, 0, 0],\n",
    "      [0, 0, 0, 1, 0, 0],\n",
    "      [0, 0, 0, 1, 0, 0],\n",
    "      [0, 0, 0, 1, 0, 0],\n",
    "      [0, 0, 0, 1, 0, 0],\n",
    "      [0, 0, 0, 1, 0, 0],\n",
    "      [0, 0, 0, 1, 0, 0],\n",
    "      [0, 0, 0, 1, 0, 0],\n",
    "      [0, 0, 0, 1, 0, 0],\n",
    "      [0, 0, 0, 1, 0, 0],\n",
    "      [0, 0, 0, 1, 0, 0],\n",
    "      [0, 0, 0, 1, 0, 0]],\n",
    "\n",
    "     [[0, 0, 0, 0, 1, 0],\n",
    "      [0, 0, 0, 0, 0, 1],\n",
    "      [0, 0, 0, 0, 0, 1],\n",
    "      [0, 0, 0, 0, 0, 1],\n",
    "      [0, 0, 0, 0, 0, 1],\n",
    "      [0, 0, 0, 0, 0, 1],\n",
    "      [0, 0, 0, 0, 0, 1],\n",
    "      [0, 0, 0, 0, 0, 1],\n",
    "      [0, 0, 0, 0, 0, 1],\n",
    "      [0, 0, 0, 0, 0, 1],\n",
    "      [0, 0, 0, 0, 0, 1],\n",
    "      [0, 0, 0, 0, 0, 1],\n",
    "      [0, 0, 0, 0, 0, 1],\n",
    "      [0, 0, 0, 0, 0, 1],\n",
    "      [0, 0, 0, 0, 0, 1]]]\n",
    ")"
   ]
  },
  {
   "cell_type": "code",
   "execution_count": 16,
   "metadata": {},
   "outputs": [
    {
     "data": {
      "text/plain": [
       "(3, 15, 6)"
      ]
     },
     "execution_count": 16,
     "metadata": {},
     "output_type": "execute_result"
    }
   ],
   "source": [
    "ideal_q_model.shape"
   ]
  },
  {
   "cell_type": "code",
   "execution_count": 17,
   "metadata": {},
   "outputs": [
    {
     "data": {
      "text/plain": [
       "(15, 3, 6)"
      ]
     },
     "execution_count": 17,
     "metadata": {},
     "output_type": "execute_result"
    }
   ],
   "source": [
    "ideal_q_model = np.swapaxes(ideal_q_model, 0, 1)\n",
    "ideal_q_model.shape"
   ]
  },
  {
   "cell_type": "code",
   "execution_count": 18,
   "metadata": {},
   "outputs": [],
   "source": [
    "directory = \"../agent_code/agent_h6/models/\"\n",
    "filename  = \"model_h6_hand-crafted.npy\""
   ]
  },
  {
   "cell_type": "code",
   "execution_count": 20,
   "metadata": {},
   "outputs": [],
   "source": [
    "np.save(directory+filename, ideal_q_model)"
   ]
  },
  {
   "cell_type": "code",
   "execution_count": null,
   "metadata": {},
   "outputs": [],
   "source": []
  }
 ],
 "metadata": {
  "interpreter": {
   "hash": "9c6cebfa2f6916454f586e38d7dc74344caa14c114dff9b64499406f6acbdf5c"
  },
  "kernelspec": {
   "display_name": "Python 3.10.0 ('bomberman')",
   "language": "python",
   "name": "python3"
  },
  "language_info": {
   "codemirror_mode": {
    "name": "ipython",
    "version": 3
   },
   "file_extension": ".py",
   "mimetype": "text/x-python",
   "name": "python",
   "nbconvert_exporter": "python",
   "pygments_lexer": "ipython3",
   "version": "3.10.0"
  },
  "orig_nbformat": 4
 },
 "nbformat": 4,
 "nbformat_minor": 2
}
