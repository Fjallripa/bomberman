{
 "cells": [
  {
   "cell_type": "code",
   "execution_count": 2,
   "metadata": {},
   "outputs": [],
   "source": [
    "import numpy as np\n",
    "import pickle\n",
    "import os.path"
   ]
  },
  {
   "cell_type": "code",
   "execution_count": 5,
   "metadata": {},
   "outputs": [],
   "source": [
    "# Storing the 10k model\n",
    "long_model = np.load('../agent_code/agent_vq10/logs/Q_data/Q9483.npy')\n",
    "with open('../agent_code/agent_vq10/other_models/model_vq10_10k.pt', \"wb\") as file:\n",
    "        pickle.dump(long_model, file)"
   ]
  },
  {
   "cell_type": "code",
   "execution_count": 3,
   "metadata": {},
   "outputs": [],
   "source": [
    "def collect_Q_data (agent_name, model_name, number_of_rounds):\n",
    "    Q_file_name = lambda x: f\"../agent_code/agent_{agent_name}/logs/Q_data/Q{x}.npy\"\n",
    "    Q_file      = lambda x: np.load(Q_file_name(x))\n",
    "  \n",
    "    all_rounds = np.arange(number_of_rounds) + 1\n",
    "    allQ       = np.zeros((number_of_rounds, *Q_file(1).shape))\n",
    "    for round in all_rounds:\n",
    "        print(f\"Loading 'Q{round}'\", end=\"\\r\")\n",
    "        allQ[round-1] = Q_file(round)\n",
    "\n",
    "    allQ_file_name = f\"../analysis/{agent_name}/{model_name}/Qtrain.npy\"\n",
    "    # Check to prevent accidental overwrites\n",
    "    if os.path.exists(allQ_file_name):\n",
    "        print(f\"Do you want to overwrite the Qtrain.py file of agent_{agent_name}_{model_name}? (y/n)\")\n",
    "        answer = \"\"\n",
    "        while not (answer == \"y\" or answer == \"n\"):  \n",
    "            answer = input()\n",
    "        if answer == \"n\":\n",
    "            print(\"Didn't overwrite.\")\n",
    "            return\n",
    "        else:\n",
    "            print(f\"Overwriting '{allQ_file_name}'.\")\n",
    "    np.save(allQ_file_name, allQ)\n",
    "    print(\"Done.\")"
   ]
  },
  {
   "cell_type": "code",
   "execution_count": 21,
   "metadata": {},
   "outputs": [
    {
     "name": "stdout",
     "output_type": "stream",
     "text": [
      "Do you want to overwrite the Qtrain.py file of agent_vq10_10k? (y/n)\n",
      "Didn't overwrite.\n"
     ]
    }
   ],
   "source": [
    "collect_Q_data(\"vq10\", \"10k\", 9483)"
   ]
  },
  {
   "cell_type": "code",
   "execution_count": 6,
   "metadata": {},
   "outputs": [
    {
     "name": "stdout",
     "output_type": "stream",
     "text": [
      "Done.ng 'Q100'\n"
     ]
    }
   ],
   "source": [
    "collect_Q_data(\"swq13\", \"test\", 100)"
   ]
  },
  {
   "cell_type": "code",
   "execution_count": null,
   "metadata": {},
   "outputs": [],
   "source": []
  }
 ],
 "metadata": {
  "interpreter": {
   "hash": "9c6cebfa2f6916454f586e38d7dc74344caa14c114dff9b64499406f6acbdf5c"
  },
  "kernelspec": {
   "display_name": "Python 3.10.0 ('bomberman')",
   "language": "python",
   "name": "python3"
  },
  "language_info": {
   "codemirror_mode": {
    "name": "ipython",
    "version": 3
   },
   "file_extension": ".py",
   "mimetype": "text/x-python",
   "name": "python",
   "nbconvert_exporter": "python",
   "pygments_lexer": "ipython3",
   "version": "3.10.0"
  },
  "orig_nbformat": 4
 },
 "nbformat": 4,
 "nbformat_minor": 2
}
