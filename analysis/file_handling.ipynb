{
 "cells": [
  {
   "cell_type": "code",
   "execution_count": 1,
   "metadata": {},
   "outputs": [],
   "source": [
    "import numpy as np\n",
    "import pickle\n",
    "import json\n",
    "import os\n",
    "import shutil\n",
    "import glob"
   ]
  },
  {
   "cell_type": "code",
   "execution_count": 2,
   "metadata": {},
   "outputs": [],
   "source": [
    "def get_training_info (agent_name):\n",
    "    source_file = f\"../agent_code/agent_{agent_name}/logs/params.json\"\n",
    "    with open(source_file, 'r') as file:\n",
    "        params = json.load(file)\n",
    "    \n",
    "    model_name = params['training']['MODEL_NAME']\n",
    "    n_rounds   = params['training']['TRAINING_ROUNDS']\n",
    "\n",
    "    return model_name, n_rounds"
   ]
  },
  {
   "cell_type": "code",
   "execution_count": 3,
   "metadata": {},
   "outputs": [],
   "source": [
    "def make_analysis_directory (agent_name, model_name):\n",
    "    directory = f\"./{agent_name}/{model_name}/\"\n",
    "    os.makedirs(directory)"
   ]
  },
  {
   "cell_type": "code",
   "execution_count": 4,
   "metadata": {},
   "outputs": [],
   "source": [
    "def copy_model (agent_name, model_name):\n",
    "    source_file        = f\"../agent_code/agent_{agent_name}/model_{agent_name}_{model_name}.pt\"\n",
    "    destination_folder = f\"./{agent_name}/{model_name}/\"\n",
    "\n",
    "    shutil.copy(source_file, destination_folder)"
   ]
  },
  {
   "cell_type": "code",
   "execution_count": 5,
   "metadata": {},
   "outputs": [],
   "source": [
    "def move_log (agent_name, model_name, mode = \"train\"):\n",
    "    source_file      = f\"../agent_code/agent_{agent_name}/logs/agent_{agent_name}.log\"\n",
    "    destination_file = f\"./{agent_name}/{model_name}/log_{mode}.log\"\n",
    "\n",
    "    shutil.move(source_file, destination_file)"
   ]
  },
  {
   "cell_type": "code",
   "execution_count": 6,
   "metadata": {},
   "outputs": [],
   "source": [
    "def move_sa_counter (agent_name, model_name):\n",
    "    source_file      = f\"../agent_code/agent_{agent_name}/logs/state_action_counter.npy\"\n",
    "    destination_file = f\"./{agent_name}/{model_name}/state_action_counter.npy\"\n",
    "\n",
    "    shutil.move(source_file, destination_file)"
   ]
  },
  {
   "cell_type": "code",
   "execution_count": 7,
   "metadata": {},
   "outputs": [],
   "source": [
    "def copy_analysis_template (agent_name, model_name, mode = \"train\"):\n",
    "    source_file        = f\"./templates/analysis_{mode}.ipynb\"\n",
    "    destination_folder = f\"./{agent_name}/{model_name}/\"\n",
    "\n",
    "    shutil.copy(source_file, destination_folder)"
   ]
  },
  {
   "cell_type": "code",
   "execution_count": 8,
   "metadata": {},
   "outputs": [],
   "source": [
    "def move_results (agent_name, model_name, mode = \"train\"):\n",
    "    source_file        = sorted(glob.glob(\"../results/*.json\"))[-1]   # latest json log file\n",
    "    destination_folder = f\"./{agent_name}/{model_name}/\"\n",
    "    destination_file   = f\"{destination_folder}results_{mode}.json\"\n",
    "\n",
    "    if destination_file not in glob.glob(destination_folder):\n",
    "        shutil.move(source_file, destination_file)\n",
    "    else:\n",
    "        print(f\"There's already a 'results_{mode}.json' file in '{destination_folder}'.\")"
   ]
  },
  {
   "cell_type": "code",
   "execution_count": 9,
   "metadata": {},
   "outputs": [],
   "source": [
    "def collect_Q_data (agent_name, model_name, number_of_rounds):\n",
    "    source_folder = f\"../agent_code/agent_{agent_name}/logs/Q_data/\"\n",
    "    Q_file_name   = lambda x: f\"{source_folder}Q{x}.npy\"\n",
    "    Q_file        = lambda x: np.load(Q_file_name(x))\n",
    "  \n",
    "    all_rounds = np.arange(number_of_rounds) + 1\n",
    "    allQ       = np.zeros((number_of_rounds, *Q_file(1).shape))\n",
    "    for round in all_rounds:\n",
    "        print(f\"Loading 'Q{round}'\", end=\"\\r\")\n",
    "        allQ[round-1] = Q_file(round)\n",
    "    print('\\n')\n",
    "\n",
    "    analysis_folder = f\"../analysis/{agent_name}/{model_name}/\"\n",
    "    allQ_file_name  = f\"{analysis_folder}Qtrain.npy\"\n",
    "    # Check to prevent accidental overwrites\n",
    "    if os.path.exists(allQ_file_name):\n",
    "        print(f\"Do you want to overwrite the Qtrain.py file of agent_{agent_name}_{model_name}? (y/n)\")\n",
    "        answer = \"\"\n",
    "        while not (answer == \"y\" or answer == \"n\"):  \n",
    "            answer = input()\n",
    "        if answer == \"n\":\n",
    "            print(\"Didn't overwrite.\")\n",
    "            return\n",
    "        else:\n",
    "            print(f\"Overwriting '{allQ_file_name}'.\")\n",
    "    np.save(allQ_file_name, allQ)\n",
    "\n",
    "    if allQ_file_name in glob.glob(f\"{analysis_folder}*.npy\"):\n",
    "        print(f\"Removing Q-files in '{source_folder}'.\")\n",
    "        for file in glob.glob(f\"{source_folder}Q*.npy\"):\n",
    "            os.remove(file)\n",
    "    print(\"Done.\")"
   ]
  },
  {
   "cell_type": "code",
   "execution_count": 10,
   "metadata": {},
   "outputs": [],
   "source": [
    "def move_params (agent_name, model_name, mode = \"train\"):\n",
    "    source_file      = f\"../agent_code/agent_{agent_name}/logs/params.json\"\n",
    "    destination_file = f\"./{agent_name}/{model_name}/params_{mode}.json\"\n",
    "\n",
    "    shutil.move(source_file, destination_file)"
   ]
  },
  {
   "cell_type": "code",
   "execution_count": 11,
   "metadata": {},
   "outputs": [],
   "source": [
    "def collect_analysis_data (agent_name, mode = \"train\"):\n",
    "    model_name, n_rounds = get_training_info(agent_name)\n",
    "    make_analysis_directory(agent_name, model_name)\n",
    "    copy_model             (agent_name, model_name)\n",
    "    move_log               (agent_name, model_name, mode)\n",
    "    move_sa_counter        (agent_name, model_name)\n",
    "    copy_analysis_template (agent_name, model_name, mode)\n",
    "    move_results           (agent_name, model_name, mode)\n",
    "    collect_Q_data         (agent_name, model_name, n_rounds)\n",
    "    move_params            (agent_name, model_name, mode)\n",
    "    "
   ]
  },
  {
   "cell_type": "code",
   "execution_count": 12,
   "metadata": {},
   "outputs": [
    {
     "name": "stdout",
     "output_type": "stream",
     "text": [
      "Loading 'Q1000'\n",
      "\n",
      "Removing Q-files in '../agent_code/agent_h2b/logs/Q_data/'.\n",
      "Done.\n"
     ]
    }
   ],
   "source": [
    "collect_analysis_data(\"h2b\")"
   ]
  }
 ],
 "metadata": {
  "interpreter": {
   "hash": "9c6cebfa2f6916454f586e38d7dc74344caa14c114dff9b64499406f6acbdf5c"
  },
  "kernelspec": {
   "display_name": "Python 3.10.0 ('bomberman')",
   "language": "python",
   "name": "python3"
  },
  "language_info": {
   "codemirror_mode": {
    "name": "ipython",
    "version": 3
   },
   "file_extension": ".py",
   "mimetype": "text/x-python",
   "name": "python",
   "nbconvert_exporter": "python",
   "pygments_lexer": "ipython3",
   "version": "3.9.7"
  },
  "orig_nbformat": 4
 },
 "nbformat": 4,
 "nbformat_minor": 2
}
