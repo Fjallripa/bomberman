{
 "cells": [
  {
   "cell_type": "code",
   "execution_count": 1,
   "metadata": {},
   "outputs": [],
   "source": [
    "import numpy as np\n",
    "import json\n",
    "import matplotlib.pyplot as plt"
   ]
  },
  {
   "cell_type": "code",
   "execution_count": 2,
   "metadata": {},
   "outputs": [
    {
     "name": "stdout",
     "output_type": "stream",
     "text": [
      "Trained 'agent_h2b_sa-counter-test' for 100 rounds.\n",
      "Performed Q-update in 5-step SARSA mode.  (alpha = 0.1, gamma = 1)\n"
     ]
    }
   ],
   "source": [
    "# Get constants\n",
    "with open(\"params_train.json\", 'r') as file:\n",
    "    params = json.load(file)\n",
    "\n",
    "agent_name      = params['training']['AGENT_NAME']\n",
    "model_name      = params['training']['MODEL_NAME']\n",
    "training_rounds = params['training']['TRAINING_ROUNDS']\n",
    "\n",
    "alpha  = params['Q-update']['ALPHA']\n",
    "gamma  = params['Q-update']['GAMMA']\n",
    "mode   = params['Q-update']['MODE']\n",
    "n_step = params['Q-update']['N']\n",
    "\n",
    "print(f\"Trained 'agent_{agent_name}_{model_name}' for {training_rounds} rounds.\")\n",
    "print(f\"Performed Q-update in {n_step}-step {mode} mode.  (alpha = {alpha}, gamma = {gamma})\")"
   ]
  },
  {
   "cell_type": "code",
   "execution_count": 3,
   "metadata": {},
   "outputs": [],
   "source": [
    "# All possible features\n",
    "all_direction_features = np.array(\n",
    "    [\n",
    "        [0, 0, 0, 0],\n",
    "        [0, 0, 0, 1],\n",
    "        [0, 0, 1, 1],\n",
    "        [0, 1, 1, 1],\n",
    "        [1, 1, 1, 1],\n",
    "        [0, 0, 0, 2],\n",
    "        [0, 0, 1, 2],\n",
    "        [0, 1, 1, 2],\n",
    "        [1, 1, 1, 2],\n",
    "        [0, 0, 2, 2],\n",
    "        [0, 1, 2, 2],\n",
    "        [1, 1, 2, 2],\n",
    "        [0, 2, 2, 2],\n",
    "        [1, 2, 2, 2],\n",
    "        [2, 2, 2, 2],   \n",
    "    ]\n",
    ")\n",
    "all_own_spot_features  = np.array([0, 1, 2])\n",
    "all_mode_features      = np.array([0, 1, 2])  "
   ]
  },
  {
   "cell_type": "markdown",
   "metadata": {},
   "source": [
    "### Evaluating the trained model"
   ]
  },
  {
   "cell_type": "code",
   "execution_count": 11,
   "metadata": {},
   "outputs": [],
   "source": [
    "trained_model = np.load(f\"model_{agent_name}_{model_name}.pt\", allow_pickle = True)\n",
    "Sa_counter    = np.load(\"state_action_counter.npy\")\n",
    "policy        = np.argmax(trained_model, axis = -1)"
   ]
  },
  {
   "cell_type": "code",
   "execution_count": 12,
   "metadata": {},
   "outputs": [],
   "source": [
    "def look_up_q_tensor(f5, f6):\n",
    "    print(f\"Q-Tensor for case (f5 = {f5}, f6 = {f6}):\")\n",
    "    print(\"state  direction features   policy  trained model   number of encounters\")\n",
    "    for i in range(len(all_direction_features)):\n",
    "        line = f\"{i:2}{'':5}{all_direction_features[i]} {[f5, f6]} {'':4}{policy[i, f5, f6]}{'':7}[\"\n",
    "        for Q_value in trained_model[i, f5, f6]:\n",
    "            line += f\"{Q_value:-7.3f}\"\n",
    "        line += f\"]  {np.sum(Sa_counter[i, f5, f6])} {Sa_counter[i, f5, f6]}\"\n",
    "        print(line)"
   ]
  },
  {
   "cell_type": "code",
   "execution_count": 16,
   "metadata": {},
   "outputs": [
    {
     "name": "stdout",
     "output_type": "stream",
     "text": [
      "Q-Tensor for case (f5 = 0, f6 = 0):\n",
      "state  direction features   policy  trained model   number of encounters\n",
      " 0     [0 0 0 0] [0, 0]     0       [  0.000  0.000  0.000  0.000  0.000  0.000]  [1. 0. 0. 0. 0. 0.]\n",
      " 1     [0 0 0 1] [0, 0]     0       [  0.000  0.000  0.000  0.000  0.000  0.000]  [0. 0. 0. 0. 0. 0.]\n",
      " 2     [0 0 1 1] [0, 0]     0       [  0.000  0.000  0.000  0.000  0.000  0.000]  [0. 0. 0. 0. 0. 0.]\n",
      " 3     [0 1 1 1] [0, 0]     0       [  0.000  0.000  0.000  0.000  0.000  0.000]  [0. 0. 0. 0. 0. 0.]\n",
      " 4     [1 1 1 1] [0, 0]     0       [  0.000  0.000  0.000  0.000  0.000  0.000]  [0. 0. 0. 0. 0. 0.]\n",
      " 5     [0 0 0 2] [0, 0]     0       [  0.000  0.000  0.000  0.000  0.000  0.000]  [0. 0. 0. 0. 1. 1.]\n",
      " 6     [0 0 1 2] [0, 0]     0       [  0.000  0.000  0.000  0.000  0.000  0.000]  [0. 0. 0. 0. 0. 0.]\n",
      " 7     [0 1 1 2] [0, 0]     0       [  0.000  0.000  0.000  0.000  0.000  0.000]  [0. 0. 0. 0. 0. 0.]\n",
      " 8     [1 1 1 2] [0, 0]     0       [  0.000  0.000  0.000  0.000  0.000  0.000]  [0. 0. 0. 0. 0. 0.]\n",
      " 9     [0 0 2 2] [0, 0]     0       [  0.000  0.000  0.000  0.000  0.000  0.000]  [0. 0. 0. 0. 0. 0.]\n",
      "10     [0 1 2 2] [0, 0]     0       [  0.000  0.000  0.000  0.000  0.000  0.000]  [0. 0. 0. 0. 0. 0.]\n",
      "11     [1 1 2 2] [0, 0]     0       [  0.000  0.000  0.000  0.000  0.000  0.000]  [0. 0. 0. 0. 0. 0.]\n",
      "12     [0 2 2 2] [0, 0]     0       [  0.000  0.000  0.000  0.000  0.000  0.000]  [0. 0. 0. 0. 0. 0.]\n",
      "13     [1 2 2 2] [0, 0]     0       [  0.000  0.000  0.000  0.000  0.000  0.000]  [0. 0. 0. 0. 0. 0.]\n",
      "14     [2 2 2 2] [0, 0]     0       [  0.000  0.000  0.000  0.000  0.000  0.000]  [0. 0. 0. 0. 0. 0.]\n"
     ]
    }
   ],
   "source": [
    "look_up_q_tensor(0, 0)"
   ]
  },
  {
   "cell_type": "markdown",
   "metadata": {},
   "source": [
    "## Looking at the training process"
   ]
  },
  {
   "cell_type": "markdown",
   "metadata": {},
   "source": [
    "### Training performance over rounds"
   ]
  },
  {
   "cell_type": "code",
   "execution_count": 7,
   "metadata": {},
   "outputs": [],
   "source": [
    "with open(\"results_train.json\") as file:\n",
    "    training_results = json.load(file)"
   ]
  },
  {
   "cell_type": "code",
   "execution_count": 8,
   "metadata": {},
   "outputs": [],
   "source": [
    "number_of_rounds = training_results['by_agent'][f\"agent_{agent_name}\"]['rounds']\n",
    "\n",
    "round_list      = list(training_results['by_round'])\n",
    "rounds          = np.zeros(number_of_rounds)\n",
    "collected_coins = np.zeros(number_of_rounds)\n",
    "round_lengths   = np.zeros(number_of_rounds)\n",
    "for i, round_name in enumerate(round_list):\n",
    "    round              = training_results['by_round'][round_name]\n",
    "    collected_coins[i] = round['coins']\n",
    "    round_lengths[i]   = round['steps']\n",
    "    rounds[i]          = round['round']"
   ]
  },
  {
   "cell_type": "code",
   "execution_count": 9,
   "metadata": {},
   "outputs": [
    {
     "data": {
      "image/png": "[encoded data removed]",
      "text/plain": [
       "<Figure size 1152x432 with 2 Axes>"
      ]
     },
     "metadata": {
      "needs_background": "light"
     },
     "output_type": "display_data"
    }
   ],
   "source": [
    "plt.figure(figsize = (16,6))\n",
    "plt.suptitle(\"Performence over the training period\")\n",
    "plt.subplot(1, 2, 1)\n",
    "speed = collected_coins / round_lengths\n",
    "plt.plot(rounds, speed, '.')\n",
    "plt.ylim((0, 1.1*max(speed)))\n",
    "plt.title(\"Collection speed\")\n",
    "plt.ylabel(\"[coins/round]\")   # speed of 0.4 would be considerad great performance\n",
    "plt.xlabel(\"training round\")\n",
    "\n",
    "plt.subplot(1, 2, 2)\n",
    "plt.plot(rounds, collected_coins, '.')\n",
    "plt.ylim((0, 1.1*max(collected_coins)))\n",
    "plt.title(\"Collection amound\")\n",
    "plt.ylabel(\"[coins]\")   # speed of 0.4 would be considerad great performance\n",
    "plt.xlabel(\"training round\")\n",
    "plt.show()"
   ]
  },
  {
   "cell_type": "code",
   "execution_count": null,
   "metadata": {},
   "outputs": [],
   "source": [
    "def analyze_action():\n",
    "    Q_action = np.mean(allQs, axis = (1,2,3))\n",
    "    labels  = [\"action 0\", \"action 1\", \"action 2\", \"action 3\", \"WAIT\", \"BOMB\"]\n",
    "\n",
    "    plt.plot(np.arange(number_of_rounds) + 1, Q_action, label = labels)\n",
    "    plt.title(f\"Evolution of actions\")\n",
    "    plt.ylabel(\"Mean Q-value\")\n",
    "    plt.xlabel(\"training round\")\n",
    "    plt.legend()\n",
    "    plt.show()"
   ]
  },
  {
   "cell_type": "code",
   "execution_count": 10,
   "metadata": {},
   "outputs": [],
   "source": [
    "def analyze_state (state):\n",
    "    state_index, f5, f6 = state\n",
    "    Q_state = allQs[:, state_index, f5, f6]\n",
    "    labels  = [\"action 0\", \"action 1\", \"action 2\", \"action 3\", \"WAIT\", \"BOMB\"]\n",
    "\n",
    "    plt.plot(np.arange(training_rounds) + 1, Q_state, label = labels)\n",
    "    plt.title(f\"Evolution of state {state}\")\n",
    "    plt.ylabel(\"Q-value\")\n",
    "    plt.xlabel(\"training round\")\n",
    "    plt.legend()\n",
    "    plt.show()"
   ]
  },
  {
   "cell_type": "markdown",
   "metadata": {},
   "source": [
    "### Evolution of the Q-model"
   ]
  },
  {
   "cell_type": "code",
   "execution_count": 11,
   "metadata": {},
   "outputs": [],
   "source": [
    "allQs = np.load(\"Qtrain.npy\")"
   ]
  },
  {
   "cell_type": "code",
   "execution_count": null,
   "metadata": {},
   "outputs": [],
   "source": [
    "analyze_action()"
   ]
  },
  {
   "cell_type": "code",
   "execution_count": 12,
   "metadata": {},
   "outputs": [
    {
     "data": {
      "image/png": "[encoded data removed]",
      "text/plain": [
       "<Figure size 432x288 with 1 Axes>"
      ]
     },
     "metadata": {
      "needs_background": "light"
     },
     "output_type": "display_data"
    }
   ],
   "source": [
    "analyze_state([7, 1, 1])"
   ]
  }
 ],
 "metadata": {
  "interpreter": {
   "hash": "9c6cebfa2f6916454f586e38d7dc74344caa14c114dff9b64499406f6acbdf5c"
  },
  "kernelspec": {
   "display_name": "Python 3.10.0 ('bomberman')",
   "language": "python",
   "name": "python3"
  },
  "language_info": {
   "codemirror_mode": {
    "name": "ipython",
    "version": 3
   },
   "file_extension": ".py",
   "mimetype": "text/x-python",
   "name": "python",
   "nbconvert_exporter": "python",
   "pygments_lexer": "ipython3",
   "version": "3.10.0"
  },
  "orig_nbformat": 4
 },
 "nbformat": 4,
 "nbformat_minor": 2
}
