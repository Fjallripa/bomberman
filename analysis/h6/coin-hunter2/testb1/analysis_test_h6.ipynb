{
 "cells": [
  {
   "cell_type": "code",
   "execution_count": 1,
   "metadata": {},
   "outputs": [],
   "source": [
    "import numpy as np\n",
    "import json\n",
    "import matplotlib.pyplot as plt"
   ]
  },
  {
   "cell_type": "code",
   "execution_count": 2,
   "metadata": {},
   "outputs": [
    {
     "name": "stdout",
     "output_type": "stream",
     "text": [
      "Tested 'agent_h6_coin-hunter2' in 'classic'\n",
      "against 3 rule_based_agents for 300 rounds.\n"
     ]
    }
   ],
   "source": [
    "# Get constants\n",
    "with open(\"params_test.json\", 'r') as file:\n",
    "    params = json.load(file)\n",
    "\n",
    "agent_name   = params['test']['AGENT_NAME']\n",
    "model_name   = params['test']['MODEL_NAME']\n",
    "test_rounds  = params['test']['TEST_ROUNDS']\n",
    "scenario     = params['test']['SCENARIO']\n",
    "other_agents = params['test']['OTHER_AGENTS']\n",
    "\n",
    "\n",
    "# Print test trivia\n",
    "print(f\"Tested 'agent_{agent_name}_{model_name}' in '{scenario}'\\n\" +\n",
    "      f\"against {len(other_agents)} {other_agents[0]}_agents for {test_rounds} rounds.\")"
   ]
  },
  {
   "cell_type": "markdown",
   "metadata": {},
   "source": [
    "## Looking at the training process"
   ]
  },
  {
   "cell_type": "markdown",
   "metadata": {},
   "source": [
    "### Testing performance"
   ]
  },
  {
   "cell_type": "code",
   "execution_count": 3,
   "metadata": {},
   "outputs": [],
   "source": [
    "with open(\"results_test.json\", 'r') as file:\n",
    "    test_results = json.load(file)"
   ]
  },
  {
   "cell_type": "code",
   "execution_count": 4,
   "metadata": {},
   "outputs": [
    {
     "name": "stdout",
     "output_type": "stream",
     "text": [
      "avg_round_length: 344\n"
     ]
    }
   ],
   "source": [
    "# Get total steps\n",
    "total_steps = 0\n",
    "round_list = list(test_results['by_round'])\n",
    "for round_name in round_list:\n",
    "    round_dict   = test_results['by_round'][round_name]\n",
    "    total_steps += round_dict['steps']\n",
    "\n",
    "agent_stats      = test_results['by_agent'][f\"agent_{agent_name}\"]\n",
    "number_of_rounds = agent_stats['rounds']\n",
    "\n",
    "avg_round_length = total_steps / number_of_rounds\n",
    "print(f\"avg_round_length: {avg_round_length:.0f}\")"
   ]
  },
  {
   "cell_type": "code",
   "execution_count": 5,
   "metadata": {},
   "outputs": [],
   "source": [
    "agent_avg = lambda str: agent_stats[str] / number_of_rounds\n",
    "\n",
    "def other_agent_avg (str):\n",
    "    num_opponents = len(other_agents)\n",
    "    opponent_values = np.zeros(num_opponents)\n",
    "    for i in range(num_opponents):\n",
    "        agent_stats = test_results['by_agent'][f\"{other_agents[0]}_agent_{i}\"]\n",
    "        opponent_values[i] = agent_stats[str]\n",
    "\n",
    "    avg_opponent_value = np.mean(opponent_values) / number_of_rounds\n",
    "    std_oppenent_value = np.std(opponent_values, ddof=1) / number_of_rounds\n",
    "    return np.array([avg_opponent_value, std_oppenent_value])"
   ]
  },
  {
   "cell_type": "code",
   "execution_count": 6,
   "metadata": {},
   "outputs": [],
   "source": [
    "# Average values per round\n",
    "avg_score      = agent_avg('score')\n",
    "avg_coins      = agent_avg('coins')\n",
    "avg_kills      = agent_avg('kills')\n",
    "avg_got_killed = agent_avg('got killed')\n",
    "avg_suicides   = agent_avg('suicides')\n",
    "avg_invalid    = agent_avg('invalid')\n",
    "avg_life_time  = agent_avg('steps')\n",
    "avg_bombs      = agent_avg('bombs')"
   ]
  },
  {
   "cell_type": "code",
   "execution_count": 7,
   "metadata": {},
   "outputs": [],
   "source": [
    "# Percentages\n",
    "pct_got_killed   = avg_got_killed * 100\n",
    "pct_suicides     = avg_suicides * 100\n",
    "pct_got_murdered = pct_got_killed - pct_suicides\n",
    "pct_invalid      = avg_invalid / avg_round_length * 100\n",
    "pct_life_time    = avg_life_time / avg_round_length * 100\n",
    "bombs_per_kill   = np.true_divide(avg_bombs, avg_kills, where = avg_kills != 0)"
   ]
  },
  {
   "cell_type": "code",
   "execution_count": 8,
   "metadata": {},
   "outputs": [],
   "source": [
    "# Average values per round\n",
    "other_avg_score      = other_agent_avg('score')\n",
    "other_avg_coins      = other_agent_avg('coins')\n",
    "other_avg_kills      = other_agent_avg('kills')\n",
    "other_avg_got_killed = other_agent_avg('got killed')\n",
    "other_avg_suicides   = other_agent_avg('suicides')\n",
    "other_avg_invalid    = other_agent_avg('invalid')\n",
    "other_avg_life_time  = other_agent_avg('steps')\n",
    "other_avg_bombs      = other_agent_avg('bombs')"
   ]
  },
  {
   "cell_type": "code",
   "execution_count": 9,
   "metadata": {},
   "outputs": [],
   "source": [
    "# Percentages\n",
    "other_pct_got_killed   = other_avg_got_killed * 100\n",
    "other_pct_suicides     = other_avg_suicides * 100\n",
    "other_pct_got_murdered = np.array([other_pct_got_killed[0] - other_pct_suicides[0], \n",
    "                                   np.linalg.norm(np.array([other_pct_got_killed[1], other_pct_suicides[1]]))])\n",
    "other_pct_invalid      = other_avg_invalid / avg_round_length * 100\n",
    "other_pct_life_time    = other_avg_life_time / avg_round_length * 100\n",
    "other_bombs_per_kill   = np.true_divide(other_avg_bombs, other_avg_kills, where = other_avg_kills != 0)"
   ]
  },
  {
   "cell_type": "code",
   "execution_count": 10,
   "metadata": {},
   "outputs": [
    {
     "name": "stdout",
     "output_type": "stream",
     "text": [
      "Results for own agent:\n",
      "average score        : 4.6\n",
      "average coins        : 3.8\n",
      "average kills        : 0.17\n",
      "bombs per kill       : 102.3\n",
      "\n",
      "percent got killed   : 61.0 %\n",
      "percent got murdered : 18.3 %\n",
      "percent suicides     : 42.7 %\n",
      "percent invalid      : 2.5 %\n",
      "average life time    : 221  (64.2 %)\n"
     ]
    }
   ],
   "source": [
    "print(f\"Results for own agent:\")\n",
    "print(f\"average score        : {avg_score:.1f}\")\n",
    "print(f\"average coins        : {avg_coins:.1f}\")\n",
    "print(f\"average kills        : {avg_kills:.2f}\")\n",
    "print(f\"bombs per kill       : {bombs_per_kill:.1f}\")\n",
    "print(\"\")\n",
    "print(f\"percent got killed   : {pct_got_killed:.1f} %\")\n",
    "print(f\"percent got murdered : {pct_got_murdered:.1f} %\")\n",
    "print(f\"percent suicides     : {pct_suicides:.1f} %\")\n",
    "print(f\"percent invalid      : {pct_invalid:.1f} %\")\n",
    "print(f\"average life time    : {avg_life_time:.0f}  ({pct_life_time:.1f} %)\")\n"
   ]
  },
  {
   "cell_type": "code",
   "execution_count": 11,
   "metadata": {},
   "outputs": [
    {
     "name": "stdout",
     "output_type": "stream",
     "text": [
      "Results for other agents:\n",
      "average score        : 3.0 ± 0.1\n",
      "average coins        : 1.7 ± 0.1\n",
      "average kills        : 0.25 ± 0.01\n",
      "bombs per kill       : 80.6 ± 82.5\n",
      "\n",
      "percent got killed   : 66.3 ± 1.5 %\n",
      "percent got murdered : 8.2 ± 2.0 %\n",
      "percent suicides     : 58.1 ± 1.3 %\n",
      "percent invalid      : 2.3 ± 0.1 %\n",
      "average life time    : 222 ± 7  (64.5 ± 2.0%)\n"
     ]
    }
   ],
   "source": [
    "print(\"Results for other agents:\")\n",
    "print(f\"average score        : {other_avg_score[0]:.1f} ± {other_avg_score[1]:.1f}\")\n",
    "print(f\"average coins        : {other_avg_coins[0]:.1f} ± {other_avg_coins[1]:.1f}\")\n",
    "print(f\"average kills        : {other_avg_kills[0]:.2f} ± {other_avg_kills[1]:.2f}\")\n",
    "print(f\"bombs per kill       : {other_bombs_per_kill[0]:.1f} ± {other_bombs_per_kill[1]:.1f}\")\n",
    "print(\"\")\n",
    "print(f\"percent got killed   : {other_pct_got_killed[0]:.1f} ± {other_pct_got_killed[1]:.1f} %\")\n",
    "print(f\"percent got murdered : {other_pct_got_murdered[0]:.1f} ± {other_pct_got_murdered[1]:.1f} %\")\n",
    "print(f\"percent suicides     : {other_pct_suicides[0]:.1f} ± {other_pct_suicides[1]:.1f} %\")\n",
    "print(f\"percent invalid      : {other_pct_invalid[0]:.1f} ± {other_pct_invalid[1]:.1f} %\")\n",
    "print(f\"average life time    : {other_avg_life_time[0]:.0f} ± {other_avg_life_time[1]:.0f}  ({other_pct_life_time[0]:.1f} ± {other_pct_life_time[1]:.1f}%)\")"
   ]
  },
  {
   "cell_type": "markdown",
   "metadata": {},
   "source": [
    "### Evaluating the trained model"
   ]
  },
  {
   "cell_type": "code",
   "execution_count": 12,
   "metadata": {},
   "outputs": [
    {
     "ename": "NameError",
     "evalue": "name 'collected_coins' is not defined",
     "output_type": "error",
     "traceback": [
      "\u001b[0;31m---------------------------------------------------------------------------\u001b[0m",
      "\u001b[0;31mNameError\u001b[0m                                 Traceback (most recent call last)",
      "\u001b[1;32m/Users/kai/Documents/GitHub/bomberman_rl/analysis/h6/coin-hunter2/analysis_test_h6.ipynb Cell 15'\u001b[0m in \u001b[0;36m<cell line: 5>\u001b[0;34m()\u001b[0m\n\u001b[1;32m      <a href='vscode-notebook-cell:/Users/kai/Documents/GitHub/bomberman_rl/analysis/h6/coin-hunter2/analysis_test_h6.ipynb#ch0000014?line=1'>2</a>\u001b[0m plt\u001b[39m.\u001b[39msuptitle(\u001b[39m\"\u001b[39m\u001b[39mPerformence over the training period\u001b[39m\u001b[39m\"\u001b[39m)\n\u001b[1;32m      <a href='vscode-notebook-cell:/Users/kai/Documents/GitHub/bomberman_rl/analysis/h6/coin-hunter2/analysis_test_h6.ipynb#ch0000014?line=3'>4</a>\u001b[0m plt\u001b[39m.\u001b[39msubplot(\u001b[39m2\u001b[39m, \u001b[39m2\u001b[39m, \u001b[39m1\u001b[39m)\n\u001b[0;32m----> <a href='vscode-notebook-cell:/Users/kai/Documents/GitHub/bomberman_rl/analysis/h6/coin-hunter2/analysis_test_h6.ipynb#ch0000014?line=4'>5</a>\u001b[0m speed \u001b[39m=\u001b[39m collected_coins \u001b[39m/\u001b[39m round_lengths\n\u001b[1;32m      <a href='vscode-notebook-cell:/Users/kai/Documents/GitHub/bomberman_rl/analysis/h6/coin-hunter2/analysis_test_h6.ipynb#ch0000014?line=5'>6</a>\u001b[0m plt\u001b[39m.\u001b[39mplot(rounds, speed, \u001b[39m'\u001b[39m\u001b[39m,k\u001b[39m\u001b[39m'\u001b[39m)\n\u001b[1;32m      <a href='vscode-notebook-cell:/Users/kai/Documents/GitHub/bomberman_rl/analysis/h6/coin-hunter2/analysis_test_h6.ipynb#ch0000014?line=6'>7</a>\u001b[0m plt\u001b[39m.\u001b[39mylim((\u001b[39m0\u001b[39m, \u001b[39m1.1\u001b[39m\u001b[39m*\u001b[39m\u001b[39mmax\u001b[39m(speed)))\n",
      "\u001b[0;31mNameError\u001b[0m: name 'collected_coins' is not defined"
     ]
    },
    {
     "data": {
      "image/png": "[encoded data removed]",
      "text/plain": [
       "<Figure size 1152x864 with 1 Axes>"
      ]
     },
     "metadata": {
      "needs_background": "light"
     },
     "output_type": "display_data"
    }
   ],
   "source": [
    "plt.figure(figsize = (16,12))\n",
    "plt.suptitle(\"Performence over the training period\")\n",
    "\n",
    "plt.subplot(2, 2, 1)\n",
    "speed = collected_coins / round_lengths\n",
    "plt.plot(rounds, speed, ',k')\n",
    "plt.ylim((0, 1.1*max(speed)))\n",
    "plt.title(\"Coin collection speed\")\n",
    "plt.ylabel(\"[coins/round]\")   # speed of 0.4 would be considerad great performance\n",
    "plt.xlabel(\"training round\")\n",
    "\n",
    "plt.subplot(2, 2, 2)\n",
    "plt.plot(rounds, collected_coins, ',k')\n",
    "plt.ylim((0, 1.1*max(collected_coins)))\n",
    "plt.title(\"Coin collection amound\")\n",
    "plt.ylabel(\"[coins]\")   # speed of 0.4 would be considerad great performance\n",
    "plt.xlabel(\"training round\")\n",
    "\n",
    "plt.subplot(2, 2, 3)\n",
    "plt.plot(rounds[avg_length-1:], kill_rate, label = \"kill rate\")\n",
    "plt.plot(rounds[avg_length-1:], suicide_rate, 'y', label = \"suicide rate\")\n",
    "plt.plot(rounds[avg_length-1:], was_killed_rate, label = \"was-killed rate\")\n",
    "plt.plot(rounds[avg_length-1:], died_rate, label = \"died rate\")\n",
    "plt.xlim(-0.05*number_of_rounds, 1.05*number_of_rounds)\n",
    "plt.title(\"Hunter performance\")\n",
    "plt.ylabel(\"average deaths per round\")   # speed of 0.4 would be considerad great performance\n",
    "plt.xlabel(\"training round\")\n",
    "plt.legend()\n",
    "\n",
    "plt.subplot(2, 2, 4)\n",
    "plt.plot(rounds, steps_survived, ',k')\n",
    "plt.plot(rounds[avg_length-1:], steps_survived_rate)\n",
    "plt.ylim(0, 405)\n",
    "plt.xlim(-0.05*number_of_rounds, 1.05*number_of_rounds)\n",
    "plt.title(\"Survival\")\n",
    "plt.ylabel(\"average survived steps\")   # speed of 0.4 would be considerad great performance\n",
    "plt.xlabel(\"training round\")\n",
    "\n",
    "plt.show()\n",
    "\n"
   ]
  },
  {
   "cell_type": "code",
   "execution_count": null,
   "metadata": {},
   "outputs": [],
   "source": [
    "trained_model = np.load(f\"model_{agent_name}_{model_name}.npy\")\n",
    "Sa_counter    = np.load(f\"sa_counter_{agent_name}_{model_name}.npy\")\n",
    "policy        = np.argmax(trained_model, axis = -1)"
   ]
  },
  {
   "cell_type": "code",
   "execution_count": null,
   "metadata": {},
   "outputs": [],
   "source": [
    "def analyze_action():\n",
    "    title_str = \"Evolution of actions\"\n",
    "    \n",
    "    Q_action = np.mean(allQs, axis = (1,2))\n",
    "    labels  = [\"action 0\", \"action 1\", \"action 2\", \"action 3\", \"WAIT\", \"BOMB\"]\n",
    "\n",
    "    plt.plot(np.arange(number_of_rounds) + 1, Q_action, label = labels)\n",
    "    plt.title(title_str)\n",
    "    plt.ylabel(\"Mean Q-value\")\n",
    "    plt.xlabel(\"training round\")\n",
    "    plt.legend()\n",
    "    plt.show()"
   ]
  },
  {
   "cell_type": "code",
   "execution_count": null,
   "metadata": {},
   "outputs": [],
   "source": [
    "def analyze_state (state):\n",
    "    state_index, f5 = state\n",
    "    Q_state = allQs[:, state_index, f5]\n",
    "    labels  = [\"action 0\", \"action 1\", \"action 2\", \"action 3\", \"WAIT\", \"BOMB\"]\n",
    "\n",
    "    plt.plot(np.arange(training_rounds) + 1, Q_state, label = labels)\n",
    "    plt.title(f\"Evolution of policies in state {state}\")\n",
    "    plt.ylabel(\"Q-value\")\n",
    "    plt.xlabel(\"training round\")\n",
    "    plt.legend()\n",
    "    plt.show()"
   ]
  },
  {
   "cell_type": "code",
   "execution_count": null,
   "metadata": {},
   "outputs": [],
   "source": [
    "# All possible features\n",
    "all_direction_features = np.array(\n",
    "    [\n",
    "        [0, 0, 0, 0],\n",
    "        [0, 0, 0, 1],\n",
    "        [0, 0, 1, 1],\n",
    "        [0, 1, 1, 1],\n",
    "        [1, 1, 1, 1],\n",
    "        [0, 0, 0, 2],\n",
    "        [0, 0, 1, 2],\n",
    "        [0, 1, 1, 2],\n",
    "        [1, 1, 1, 2],\n",
    "        [0, 0, 2, 2],\n",
    "        [0, 1, 2, 2],\n",
    "        [1, 1, 2, 2],\n",
    "        [0, 2, 2, 2],\n",
    "        [1, 2, 2, 2],\n",
    "        [2, 2, 2, 2],   \n",
    "    ]\n",
    ")\n",
    "all_own_spot_features  = np.array([0, 1, 2])\n",
    "all_mode_features      = np.array([0, 1, 2])  "
   ]
  },
  {
   "cell_type": "code",
   "execution_count": null,
   "metadata": {},
   "outputs": [],
   "source": [
    "def look_up_q_tensor(f5 = 1):\n",
    "    print(f\"Q-Tensor for case (f5 = {f5}):\")\n",
    "    print(f\"state  direction features   policy  trained model  {'':20}number of encounters\")\n",
    "    for i in range(len(all_direction_features)):\n",
    "        line = f\"{i:2}{'':2}{all_direction_features[i]} {[f5]}{'':2}{policy[i, f5]}{'':2}[\"\n",
    "        for Q_value in trained_model[i, f5]:\n",
    "            line += f\"{Q_value:-7.1f}\"\n",
    "        line += f\"]  {np.sum(Sa_counter[i, f5]):5} [\"\n",
    "        for count in Sa_counter[i, f5]:\n",
    "            line += f\" {count:5}\"\n",
    "        line += f\"]\"\n",
    "        print(line)"
   ]
  },
  {
   "cell_type": "code",
   "execution_count": null,
   "metadata": {},
   "outputs": [
    {
     "name": "stdout",
     "output_type": "stream",
     "text": [
      "Q-Tensor for case (f5 = 0):\n",
      "state  direction features   policy  trained model                      number of encounters\n",
      " 0  [0 0 0 0] [0]  4  [   -6.4   -6.4   -6.3   -6.2   -6.2   -6.3]   2002 [   166   148   181   134  1243   130]\n",
      " 1  [0 0 0 1] [0]  3  [   -3.9   -5.2   -4.6   44.3   -4.1   -6.0]   1690 [    35    58    35  1471    43    48]\n",
      " 2  [0 0 1 1] [0]  2  [    0.0    0.0   49.5   -0.6   -0.9   -0.5]    277 [     4     3   260     1     8     1]\n",
      " 3  [0 1 1 1] [0]  1  [   -0.5    5.0    0.0    0.0    0.0    0.0]      3 [     1     1     0     0     1     0]\n",
      " 4  [1 1 1 1] [0]  0  [    0.0    0.0    0.0    0.0    0.0    0.0]      0 [     0     0     0     0     0     0]\n",
      " 5  [0 0 0 2] [0]  3  [   -6.8   -6.8   -6.8   44.8   -6.0   -6.8]   4472 [   103    91    99  3996   105    78]\n",
      " 6  [0 0 1 2] [0]  3  [   -3.3   -3.7   -1.1   48.2   -1.1   -2.1]    571 [    21    10    14   509     9     8]\n",
      " 7  [0 1 1 2] [0]  3  [    0.0    1.1    0.0   42.1    0.0    0.0]     43 [     1     1     0    41     0     0]\n",
      " 8  [1 1 1 2] [0]  0  [    0.0    0.0    0.0    0.0    0.0   -0.5]      2 [     0     0     0     0     1     1]\n",
      " 9  [0 0 2 2] [0]  2  [    0.0    0.0   26.8   -0.6   -0.5    0.0]     17 [     1     0    14     1     1     0]\n",
      "10  [0 1 2 2] [0]  2  [    0.0    0.0   17.7    0.0    0.0    0.0]      6 [     0     0     6     0     0     0]\n",
      "11  [1 1 2 2] [0]  0  [    0.0    0.0   -0.5    0.0    0.0    0.0]      1 [     0     0     1     0     0     0]\n",
      "12  [0 2 2 2] [0]  0  [    0.0    0.0    0.0    0.0    0.0   -0.7]      1 [     0     0     0     0     0     1]\n",
      "13  [1 2 2 2] [0]  0  [    0.0    0.0    0.0    0.0    0.0    0.0]      0 [     0     0     0     0     0     0]\n",
      "14  [2 2 2 2] [0]  0  [    0.0    0.0    0.0    0.0    0.0    0.0]      0 [     0     0     0     0     0     0]\n"
     ]
    }
   ],
   "source": [
    "look_up_q_tensor(f5 = 0)"
   ]
  },
  {
   "cell_type": "code",
   "execution_count": null,
   "metadata": {},
   "outputs": [
    {
     "name": "stdout",
     "output_type": "stream",
     "text": [
      "Q-Tensor for case (f5 = 1):\n",
      "state  direction features   policy  trained model                      number of encounters\n",
      " 0  [0 0 0 0] [1]  0  [   41.2   12.5    5.2   12.2   14.5   18.0]   1532 [  1330    33    57    28    43    41]\n",
      " 1  [0 0 0 1] [1]  4  [    9.3   -2.5   12.6   23.8   44.8   14.6]   1393 [    41    42    34    44  1189    43]\n",
      " 2  [0 0 1 1] [1]  4  [   -0.1    3.3    1.1    4.5   47.2    3.6]    249 [     2     2     2     5   236     2]\n",
      " 3  [0 1 1 1] [1]  2  [    0.0    5.9   45.7    3.9    2.6    7.9]    389 [     4     4   368     3     6     4]\n",
      " 4  [1 1 1 1] [1]  0  [    0.0    0.0    0.0    0.0    0.0    0.0]      0 [     0     0     0     0     0     0]\n",
      " 5  [0 0 0 2] [1]  3  [   36.5   41.1   41.2   42.2   40.8   37.3]  88604 [   715  2764  2209 42628 39056  1232]\n",
      " 6  [0 0 1 2] [1]  4  [   39.1   41.5   38.1   39.5   41.8   16.9]  118749 [  3931  4160 52427 26829 30211  1191]\n",
      " 7  [0 1 1 2] [1]  4  [   44.1   44.7   44.6   43.0   46.2   44.2]  18191 [   153   150   154 10010  7594   130]\n",
      " 8  [1 1 1 2] [1]  4  [   41.8   44.3   42.0   50.6   51.2   38.3]   8837 [    80    96    81  8360   129    91]\n",
      " 9  [0 0 2 2] [1]  2  [   37.3   36.2   42.4   34.5   33.1   35.9]   7935 [    94    82  7472   128    82    77]\n",
      "10  [0 1 2 2] [1]  3  [   11.3   26.9   27.5   49.2   23.7   15.2]   1453 [    14    18    25  1344    38    14]\n",
      "11  [1 1 2 2] [1]  2  [   20.2   16.7   51.8   23.1   31.3   19.1]   1292 [    13    11  1220    14    23    11]\n",
      "12  [0 2 2 2] [1]  1  [   -0.6   24.9    0.0    0.0    0.0    1.0]     14 [     1     9     0     0     0     4]\n",
      "13  [1 2 2 2] [1]  2  [    0.0    0.0   45.8    0.0    0.0    0.0]     35 [     0     0    35     0     0     0]\n",
      "14  [2 2 2 2] [1]  0  [    0.0    0.0    0.0    0.0    0.0    0.0]      0 [     0     0     0     0     0     0]\n"
     ]
    }
   ],
   "source": [
    "look_up_q_tensor(f5 = 1)"
   ]
  },
  {
   "cell_type": "code",
   "execution_count": null,
   "metadata": {},
   "outputs": [
    {
     "name": "stdout",
     "output_type": "stream",
     "text": [
      "Q-Tensor for case (f5 = 2):\n",
      "state  direction features   policy  trained model                      number of encounters\n",
      " 0  [0 0 0 0] [2]  4  [    3.7    8.6    8.8    4.9   43.4    5.7]   1168 [    28    43    38    31   999    29]\n",
      " 1  [0 0 0 1] [2]  5  [   19.3   18.4   23.0   30.9   32.1   37.4]   3651 [   125   101    94   106   341  2884]\n",
      " 2  [0 0 1 1] [2]  5  [   22.8   22.5   26.4   31.8   13.5   38.7]   3013 [    53    71   131    93   189  2476]\n",
      " 3  [0 1 1 1] [2]  5  [   10.9   23.5    8.7   14.3   21.2   45.8]   1483 [    24   251    29    61   177   941]\n",
      " 4  [1 1 1 1] [2]  3  [   27.1   33.7   36.4   42.8   30.2   33.0]   3931 [    32    33    35  3753    50    28]\n",
      " 5  [0 0 0 2] [2]  3  [    0.0    2.2    0.0    9.2    2.2    0.0]      5 [     0     1     0     3     1     0]\n",
      " 6  [0 0 1 2] [2]  5  [    4.7    0.0    0.0    0.0    0.0   11.3]     14 [    10     0     0     0     0     4]\n",
      " 7  [0 1 1 2] [2]  5  [    0.0    0.0    0.0    0.0    0.0    3.5]      1 [     0     0     0     0     0     1]\n",
      " 8  [1 1 1 2] [2]  1  [    0.0    3.4    0.0    0.0    0.0    0.0]      1 [     0     1     0     0     0     0]\n",
      " 9  [0 0 2 2] [2]  0  [    0.0   -0.6    0.0    0.0    0.0    0.0]      1 [     0     1     0     0     0     0]\n",
      "10  [0 1 2 2] [2]  0  [    0.0    0.0    0.0    0.0    0.0    0.0]      0 [     0     0     0     0     0     0]\n",
      "11  [1 1 2 2] [2]  0  [    2.7    0.3    0.0    0.0    0.0    0.0]      2 [     1     1     0     0     0     0]\n",
      "12  [0 2 2 2] [2]  0  [    0.0    0.0    0.0    0.0    0.0    0.0]      0 [     0     0     0     0     0     0]\n",
      "13  [1 2 2 2] [2]  0  [    0.0    0.0    0.0    0.0    0.0    0.0]      0 [     0     0     0     0     0     0]\n",
      "14  [2 2 2 2] [2]  0  [    0.0    0.0    0.0    0.0    0.0    0.0]      0 [     0     0     0     0     0     0]\n"
     ]
    }
   ],
   "source": [
    "look_up_q_tensor(f5 = 2)"
   ]
  },
  {
   "cell_type": "markdown",
   "metadata": {},
   "source": [
    "### Evolution of the Q-model"
   ]
  },
  {
   "cell_type": "code",
   "execution_count": null,
   "metadata": {},
   "outputs": [],
   "source": [
    "allQs = np.load(\"Qtrain.npy\")"
   ]
  },
  {
   "cell_type": "code",
   "execution_count": null,
   "metadata": {},
   "outputs": [
    {
     "data": {
      "image/png": "[encoded data removed]",
      "text/plain": [
       "<Figure size 432x288 with 1 Axes>"
      ]
     },
     "metadata": {
      "needs_background": "light"
     },
     "output_type": "display_data"
    }
   ],
   "source": [
    "analyze_action()"
   ]
  },
  {
   "cell_type": "code",
   "execution_count": null,
   "metadata": {},
   "outputs": [
    {
     "data": {
      "image/png": "[encoded data removed]",
      "text/plain": [
       "<Figure size 432x288 with 1 Axes>"
      ]
     },
     "metadata": {
      "needs_background": "light"
     },
     "output_type": "display_data"
    }
   ],
   "source": [
    "analyze_state((8, 1))"
   ]
  },
  {
   "cell_type": "code",
   "execution_count": null,
   "metadata": {},
   "outputs": [
    {
     "name": "stdout",
     "output_type": "stream",
     "text": [
      "Q-Tensor for case (f5 = 0):\n",
      "state  direction features   policy  trained model                      number of encounters\n",
      " 0  [0 0 0 0] [0]  4  [   -6.4   -6.4   -6.3   -6.2   -6.2   -6.3]   2002 [   166   148   181   134  1243   130]\n",
      " 1  [0 0 0 1] [0]  3  [   -3.9   -5.2   -4.6   44.3   -4.1   -6.0]   1690 [    35    58    35  1471    43    48]\n",
      " 2  [0 0 1 1] [0]  2  [    0.0    0.0   49.5   -0.6   -0.9   -0.5]    277 [     4     3   260     1     8     1]\n",
      " 3  [0 1 1 1] [0]  1  [   -0.5    5.0    0.0    0.0    0.0    0.0]      3 [     1     1     0     0     1     0]\n",
      " 4  [1 1 1 1] [0]  0  [    0.0    0.0    0.0    0.0    0.0    0.0]      0 [     0     0     0     0     0     0]\n",
      " 5  [0 0 0 2] [0]  3  [   -6.8   -6.8   -6.8   44.8   -6.0   -6.8]   4472 [   103    91    99  3996   105    78]\n",
      " 6  [0 0 1 2] [0]  3  [   -3.3   -3.7   -1.1   48.2   -1.1   -2.1]    571 [    21    10    14   509     9     8]\n",
      " 7  [0 1 1 2] [0]  3  [    0.0    1.1    0.0   42.1    0.0    0.0]     43 [     1     1     0    41     0     0]\n",
      " 8  [1 1 1 2] [0]  0  [    0.0    0.0    0.0    0.0    0.0   -0.5]      2 [     0     0     0     0     1     1]\n",
      " 9  [0 0 2 2] [0]  2  [    0.0    0.0   26.8   -0.6   -0.5    0.0]     17 [     1     0    14     1     1     0]\n",
      "10  [0 1 2 2] [0]  2  [    0.0    0.0   17.7    0.0    0.0    0.0]      6 [     0     0     6     0     0     0]\n",
      "11  [1 1 2 2] [0]  0  [    0.0    0.0   -0.5    0.0    0.0    0.0]      1 [     0     0     1     0     0     0]\n",
      "12  [0 2 2 2] [0]  0  [    0.0    0.0    0.0    0.0    0.0   -0.7]      1 [     0     0     0     0     0     1]\n",
      "13  [1 2 2 2] [0]  0  [    0.0    0.0    0.0    0.0    0.0    0.0]      0 [     0     0     0     0     0     0]\n",
      "14  [2 2 2 2] [0]  0  [    0.0    0.0    0.0    0.0    0.0    0.0]      0 [     0     0     0     0     0     0]\n"
     ]
    }
   ],
   "source": [
    "look_up_q_tensor(0)"
   ]
  },
  {
   "cell_type": "code",
   "execution_count": null,
   "metadata": {},
   "outputs": [],
   "source": []
  }
 ],
 "metadata": {
  "interpreter": {
   "hash": "9c6cebfa2f6916454f586e38d7dc74344caa14c114dff9b64499406f6acbdf5c"
  },
  "kernelspec": {
   "display_name": "Python 3.10.0 ('bomberman')",
   "language": "python",
   "name": "python3"
  },
  "language_info": {
   "codemirror_mode": {
    "name": "ipython",
    "version": 3
   },
   "file_extension": ".py",
   "mimetype": "text/x-python",
   "name": "python",
   "nbconvert_exporter": "python",
   "pygments_lexer": "ipython3",
   "version": "3.9.7"
  },
  "orig_nbformat": 4
 },
 "nbformat": 4,
 "nbformat_minor": 2
}
