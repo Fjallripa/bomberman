{
 "cells": [
  {
   "cell_type": "code",
   "execution_count": 43,
   "metadata": {},
   "outputs": [],
   "source": [
    "import pickle\n",
    "import numpy as np"
   ]
  },
  {
   "cell_type": "code",
   "execution_count": 44,
   "metadata": {},
   "outputs": [
    {
     "name": "stdout",
     "output_type": "stream",
     "text": [
      "[[ 0.          0.          0.          0.        ]\n",
      " [ 0.          0.          0.          0.        ]\n",
      " [ 0.          0.          0.          0.        ]\n",
      " [ 0.          0.          0.          0.        ]\n",
      " [ 0.          0.          0.          0.        ]\n",
      " [ 0.          0.          0.          0.        ]\n",
      " [-0.19589041 -0.22105263  0.03877551  0.11944444]\n",
      " [-0.0972973  -0.04       -0.04375     0.072     ]\n",
      " [ 0.32222222  0.03928571  0.255       0.06470588]\n",
      " [ 0.          0.          0.          0.        ]\n",
      " [ 0.          0.          0.          0.        ]\n",
      " [ 0.          0.          0.          0.        ]\n",
      " [ 0.          0.          0.          0.        ]\n",
      " [ 0.          0.          0.          0.        ]\n",
      " [ 0.          0.          0.          0.        ]]\n"
     ]
    }
   ],
   "source": [
    "file_name = \"../../agent_code/agent_swq12/logs/Q_data/Q1.npy\"\n",
    "with open(file_name, \"rb\") as file:\n",
    "    model =np.load(file)\n",
    "    print(model)\n"
   ]
  },
  {
   "cell_type": "code",
   "execution_count": 3,
   "metadata": {},
   "outputs": [],
   "source": [
    "def build_testlist_4D(d, D=4):\n",
    "    \"\"\"\n",
    "    input:\n",
    "        D = number of features\n",
    "        d = number of possible elements for each feature\n",
    "    output:\n",
    "        lists of features in indexed order which is aimed for implicitly in \"features_to_indices\"\n",
    "    \"\"\"\n",
    "    \n",
    "    test_list = []\n",
    "    \n",
    "    for i in range(d):\n",
    "        for j in range(i+1):\n",
    "            for k in range(j+1):\n",
    "                for l in range(k+1):\n",
    "                    if l <= k and k <= j and j <= i:\n",
    "                        test_list.append([l, k, j, i])\n",
    "    \n",
    "    return(test_list)\n",
    "\n",
    "features = np.array(build_testlist_4D(3))"
   ]
  },
  {
   "cell_type": "code",
   "execution_count": 4,
   "metadata": {},
   "outputs": [
    {
     "name": "stdout",
     "output_type": "stream",
     "text": [
      "[0. 0. 0. 0.] [0 0 0 0]\n",
      "[0. 0. 0. 0.] [0 0 0 1]\n",
      "[0. 0. 0. 0.] [0 0 1 1]\n",
      "[0. 0. 0. 0.] [0 1 1 1]\n",
      "[0. 0. 0. 0.] [1 1 1 1]\n",
      "[0. 0. 0. 0.] [0 0 0 2]\n",
      "[-1. -1.  0.  0.] [0 0 1 2]\n",
      "[0. 0. 0. 0.] [0 1 1 2]\n",
      "[0. 0. 0. 0.] [1 1 1 2]\n",
      "[0. 0. 0. 0.] [0 0 2 2]\n",
      "[0. 0. 0. 0.] [0 1 2 2]\n",
      "[0. 0. 0. 0.] [1 1 2 2]\n",
      "[0. 0. 0. 0.] [0 2 2 2]\n",
      "[0. 0. 0. 0.] [1 2 2 2]\n",
      "[0. 0. 0. 0.] [2 2 2 2]\n"
     ]
    }
   ],
   "source": [
    "for i in range(len(features)):\n",
    "    print(model[i], features[i])"
   ]
  },
  {
   "cell_type": "code",
   "execution_count": 9,
   "metadata": {},
   "outputs": [
    {
     "data": {
      "text/plain": [
       "3"
      ]
     },
     "execution_count": 9,
     "metadata": {},
     "output_type": "execute_result"
    }
   ],
   "source": [
    "liste = [1,2,3]\n",
    "liste[len(liste)-1]"
   ]
  },
  {
   "cell_type": "code",
   "execution_count": 27,
   "metadata": {},
   "outputs": [
    {
     "name": "stdout",
     "output_type": "stream",
     "text": [
      "True False\n"
     ]
    }
   ],
   "source": [
    "def mean_over_non_zero_elements(array):\n",
    "    \"\"\"\n",
    "    Input: 1-dimensional np.array \n",
    "    Output: mean of array, neglecting non-zero entries of the array\n",
    "    \"\"\"\n",
    "    return(np.sum(array) / np.count_nonzero(array))\n",
    "\n",
    "A = np.ones((2,3,4)) \n",
    "A[1,0,0] = 0\n",
    "\n",
    "B = np.apply_along_axis(mean_over_non_zero_elements, 2, A)\n",
    "C = np.mean(A, axis = 2)\n",
    "\n",
    "print(np.all(B == 1), np.all(C == 1))"
   ]
  },
  {
   "cell_type": "code",
   "execution_count": null,
   "metadata": {},
   "outputs": [],
   "source": []
  }
 ],
 "metadata": {
  "interpreter": {
   "hash": "f17f10801e593f37201c41d07e535430f40c086fce6834958326b228bc9ab105"
  },
  "kernelspec": {
   "display_name": "Python 3.9.7 ('ml_homework')",
   "language": "python",
   "name": "python3"
  },
  "language_info": {
   "codemirror_mode": {
    "name": "ipython",
    "version": 3
   },
   "file_extension": ".py",
   "mimetype": "text/x-python",
   "name": "python",
   "nbconvert_exporter": "python",
   "pygments_lexer": "ipython3",
   "version": "3.9.7"
  },
  "orig_nbformat": 4
 },
 "nbformat": 4,
 "nbformat_minor": 2
}
