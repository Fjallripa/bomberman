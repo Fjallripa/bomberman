{
 "cells": [
  {
   "cell_type": "code",
   "execution_count": 7,
   "metadata": {},
   "outputs": [],
   "source": [
    "import pickle\n",
    "import numpy as np"
   ]
  },
  {
   "cell_type": "code",
   "execution_count": 8,
   "metadata": {},
   "outputs": [
    {
     "name": "stdout",
     "output_type": "stream",
     "text": [
      "[[   0.    0.    0.    0.]\n",
      " [   0.    0.    0.    0.]\n",
      " [   0.    0.    0.    0.]\n",
      " [   0.    0.    0.    0.]\n",
      " [   0.    0.    0.    0.]\n",
      " [   0.    0.    0.    0.]\n",
      " [8886. 8886. 8887. 8887.]\n",
      " [8887. 8887. 8887. 8887.]\n",
      " [8882. 8887. 8882. 8882.]\n",
      " [   0.    0.    0.    0.]\n",
      " [   0.    0.    0.    0.]\n",
      " [   0.    0.    0.    0.]\n",
      " [   0.    0.    0.    0.]\n",
      " [   0.    0.    0.    0.]\n",
      " [   0.    0.    0.    0.]]\n"
     ]
    }
   ],
   "source": [
    "file_name = \"../../agent_code/agent_swq12/model_swq12.pt\"\n",
    "with open(file_name, \"rb\") as file:\n",
    "    model = pickle.load(file)\n",
    "    print(model)\n"
   ]
  },
  {
   "cell_type": "code",
   "execution_count": null,
   "metadata": {},
   "outputs": [],
   "source": []
  }
 ],
 "metadata": {
  "interpreter": {
   "hash": "f17f10801e593f37201c41d07e535430f40c086fce6834958326b228bc9ab105"
  },
  "kernelspec": {
   "display_name": "Python 3.9.7 ('ml_homework')",
   "language": "python",
   "name": "python3"
  },
  "language_info": {
   "codemirror_mode": {
    "name": "ipython",
    "version": 3
   },
   "file_extension": ".py",
   "mimetype": "text/x-python",
   "name": "python",
   "nbconvert_exporter": "python",
   "pygments_lexer": "ipython3",
   "version": "3.9.7"
  },
  "orig_nbformat": 4
 },
 "nbformat": 4,
 "nbformat_minor": 2
}
