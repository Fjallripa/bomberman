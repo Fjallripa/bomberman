{
 "cells": [
  {
   "cell_type": "code",
   "execution_count": 1,
   "metadata": {},
   "outputs": [],
   "source": [
    "import pickle\n",
    "import numpy as np"
   ]
  },
  {
   "cell_type": "code",
   "execution_count": 2,
   "metadata": {},
   "outputs": [
    {
     "name": "stdout",
     "output_type": "stream",
     "text": [
      "[[    0.     0.     0.     0.]\n",
      " [    0.     0.     0.     0.]\n",
      " [    0.     0.     0.     0.]\n",
      " [    0.     0.     0.     0.]\n",
      " [    0.     0.     0.     0.]\n",
      " [    0.     0.     0.     0.]\n",
      " [92826. 92826. 92827. 92827.]\n",
      " [92826. 92827. 92827. 92822.]\n",
      " [92817. 92812. 92827. 92827.]\n",
      " [    0.     0.     0.     0.]\n",
      " [    0.     0.     0.     0.]\n",
      " [    0.     0.     0.     0.]\n",
      " [    0.     0.     0.     0.]\n",
      " [    0.     0.     0.     0.]\n",
      " [    0.     0.     0.     0.]]\n"
     ]
    }
   ],
   "source": [
    "file_name = \"../../agent_code/agent_swq12/model_swq12.pt\"\n",
    "with open(file_name, \"rb\") as file:\n",
    "    model = pickle.load(file)\n",
    "    print(model)\n"
   ]
  },
  {
   "cell_type": "code",
   "execution_count": 3,
   "metadata": {},
   "outputs": [],
   "source": [
    "def build_testlist_4D(d, D=4):\n",
    "    \"\"\"\n",
    "    input:\n",
    "        D = number of features\n",
    "        d = number of possible elements for each feature\n",
    "    output:\n",
    "        lists of features in indexed order which is aimed for implicitly in \"features_to_indices\"\n",
    "    \"\"\"\n",
    "    \n",
    "    test_list = []\n",
    "    \n",
    "    for i in range(d):\n",
    "        for j in range(i+1):\n",
    "            for k in range(j+1):\n",
    "                for l in range(k+1):\n",
    "                    if l <= k and k <= j and j <= i:\n",
    "                        test_list.append([l, k, j, i])\n",
    "    \n",
    "    return(test_list)\n",
    "\n",
    "features = np.array(build_testlist_4D(3))"
   ]
  },
  {
   "cell_type": "code",
   "execution_count": 5,
   "metadata": {},
   "outputs": [
    {
     "name": "stdout",
     "output_type": "stream",
     "text": [
      "[0. 0. 0. 0.] [0 0 0 0]\n",
      "[0. 0. 0. 0.] [0 0 0 1]\n",
      "[0. 0. 0. 0.] [0 0 1 1]\n",
      "[0. 0. 0. 0.] [0 1 1 1]\n",
      "[0. 0. 0. 0.] [1 1 1 1]\n",
      "[0. 0. 0. 0.] [0 0 0 2]\n",
      "[92826. 92826. 92827. 92827.] [0 0 1 2]\n",
      "[92826. 92827. 92827. 92822.] [0 1 1 2]\n",
      "[92817. 92812. 92827. 92827.] [1 1 1 2]\n",
      "[0. 0. 0. 0.] [0 0 2 2]\n",
      "[0. 0. 0. 0.] [0 1 2 2]\n",
      "[0. 0. 0. 0.] [1 1 2 2]\n",
      "[0. 0. 0. 0.] [0 2 2 2]\n",
      "[0. 0. 0. 0.] [1 2 2 2]\n",
      "[0. 0. 0. 0.] [2 2 2 2]\n"
     ]
    }
   ],
   "source": [
    "for i in range(len(features)):\n",
    "    print(model[i], features[i])"
   ]
  },
  {
   "cell_type": "code",
   "execution_count": null,
   "metadata": {},
   "outputs": [],
   "source": []
  }
 ],
 "metadata": {
  "interpreter": {
   "hash": "f17f10801e593f37201c41d07e535430f40c086fce6834958326b228bc9ab105"
  },
  "kernelspec": {
   "display_name": "Python 3.9.7 ('ml_homework')",
   "language": "python",
   "name": "python3"
  },
  "language_info": {
   "codemirror_mode": {
    "name": "ipython",
    "version": 3
   },
   "file_extension": ".py",
   "mimetype": "text/x-python",
   "name": "python",
   "nbconvert_exporter": "python",
   "pygments_lexer": "ipython3",
   "version": "3.9.7"
  },
  "orig_nbformat": 4
 },
 "nbformat": 4,
 "nbformat_minor": 2
}
